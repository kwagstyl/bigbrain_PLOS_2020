{
 "cells": [
  {
   "cell_type": "code",
   "execution_count": null,
   "metadata": {
    "collapsed": false,
    "deletable": true,
    "editable": true
   },
   "outputs": [],
   "source": [
    "#!/usr/bin/env python2\n",
    "#Inspire du fichier train_fcn8.py\n",
    "\n",
    "import os\n",
    "\n",
    "\n",
    "import argparse\n",
    "import time\n",
    "from getpass import getuser\n",
    "from distutils.dir_util import copy_tree\n",
    "import pickle\n",
    "\n",
    "import numpy as np\n",
    "import random\n",
    "import theano\n",
    "import theano.tensor as T\n",
    "from theano import config\n",
    "import lasagne\n",
    "from lasagne.regularization import regularize_network_params\n",
    "from lasagne.objectives import categorical_crossentropy\n",
    "\n",
    "import PIL.Image as Image\n",
    "from matplotlib import pyplot as plt\n",
    "from matplotlib import colors\n",
    "from matplotlib import gridspec\n",
    "\n",
    "from fcn_1D_general import buildFCN_1D\n",
    "from metrics import jaccard, accuracy, crossentropy\n",
    "from data_loader.cortical_layers import CorticalLayersDataset\n",
    "from simple_model import build_simple_model\n",
    "from profile_functions import profile2indices \n",
    "\n",
    "#Stuff for profiling functions \n",
    "#os.environ['CUDA_LAUNCH_BLOCKING']='1'\n",
    "#theano.config.profile= True\n",
    "##theano.config.profile_memory=True\n",
    "#theano.config.profile_optimizer = True\n",
    "\n",
    "%matplotlib inline"
   ]
  },
  {
   "cell_type": "code",
   "execution_count": null,
   "metadata": {
    "collapsed": false,
    "deletable": true,
    "editable": true
   },
   "outputs": [],
   "source": [
    "_FLOATX = config.floatX\n",
    "\n",
    "SAVEPATH = '/Tmp/larocste/cortical_layers'\n",
    "LOADPATH = '/data/lisatmp4/larocste/cortical_layers'\n",
    "WEIGHTS_PATH = LOADPATH"
   ]
  },
  {
   "cell_type": "markdown",
   "metadata": {
    "deletable": true,
    "editable": true
   },
   "source": [
    "## Hyperparameters\n",
    "\n",
    "### Model hyperparameters\n",
    "- n_filters : int, nb of filters for each convLayer\n",
    "- filter_size : list of odd int (to fit with the pad='same'), len(filter_size) = nb of convLayer in simple_model, each of these layer with the corresponding filter_size\n",
    "- depth : int, depth of the network (how many stacked convolution)\n",
    "\n",
    "### Training loop parameters\n",
    "- weight_decay : not implemented yet\n",
    "- num_epochs : int, max number of epochs\n",
    "- max_patience : int, max nb of epochs without improvement in the jaccard accuracy (jacc_valid) on the validation set\n",
    "- learning rate : defined later as a theano shared variable\n",
    "\n",
    "### Hyperparameters for the dataset loader\n",
    "- batch_size=[training_batch_size, valid_batch_size, test_batch_size]\n",
    "- smooth_or_raw : 'smooth' or 'raw', whether to use smooth OR raw data \n",
    "- shuffle_at_each_epoch : boolean (keep it to True)\n",
    "- minibatches_subset : int, if>0 : get only that number of minibatch instead of all training dataset. \n"
   ]
  },
  {
   "cell_type": "code",
   "execution_count": 3,
   "metadata": {
    "collapsed": false,
    "deletable": true,
    "editable": true,
    "scrolled": false
   },
   "outputs": [],
   "source": [
    "#Model hyperparameters\n",
    "n_filters = 64\n",
    "filter_size = [7,15,25,49]  \n",
    "depth  = 4\n",
    "data_augmentation={} #{'horizontal_flip': True, 'fill_mode':'constant'}\n",
    "\n",
    "#Training loop hyperparameters\n",
    "weight_decay=0.001\n",
    "num_epochs=500\n",
    "max_patience=25\n",
    "resume=False\n",
    "learning_rate_value = 0.0005 #learning rate is defined below as a theano variable.\n",
    "\n",
    "\n",
    "\n",
    "#Hyperparameters for the dataset loader\n",
    "batch_size=[500,500,1]\n",
    "smooth_or_raw = 'both'\n",
    "shuffle_at_each_epoch = True\n",
    "minibatches_subset = 0\n",
    "\n",
    "\n"
   ]
  },
  {
   "cell_type": "code",
   "execution_count": 4,
   "metadata": {
    "collapsed": false,
    "deletable": true,
    "editable": true
   },
   "outputs": [
    {
     "name": "stdout",
     "output_type": "stream",
     "text": [
      "Savepath : \n",
      "/Tmp/larocste/cortical_layers/cortical_layers/simple_model_lrate=0.0005_fil=64_fsizes=[7, 15, 25, 49]_depth=4_data=both_decay=0.001_pat=25\n",
      "Loadpath : \n",
      "/data/lisatmp4/larocste/cortical_layers/cortical_layers/simple_model_lrate=0.0005_fil=64_fsizes=[7, 15, 25, 49]_depth=4_data=both_decay=0.001_pat=25\n",
      "\u001b[93m The following folder already exists /Tmp/larocste/cortical_layers/cortical_layers/simple_model_lrate=0.0005_fil=64_fsizes=[7, 15, 25, 49]_depth=4_data=both_decay=0.001_pat=25. It will be overwritten in a few seconds...\u001b[0m\n",
      "Saving directory : /Tmp/larocste/cortical_layers/cortical_layers/simple_model_lrate=0.0005_fil=64_fsizes=[7, 15, 25, 49]_depth=4_data=both_decay=0.001_pat=25\n"
     ]
    }
   ],
   "source": [
    "#\n",
    "# Prepare load/save directories\n",
    "#\n",
    "\n",
    "savepath=SAVEPATH\n",
    "loadpath=LOADPATH\n",
    "\n",
    "exp_name = 'simple_model'\n",
    "exp_name += '_lrate=' + str(learning_rate_value)\n",
    "exp_name += '_fil=' + str(n_filters)\n",
    "exp_name += '_fsizes=' + str(filter_size)\n",
    "exp_name += '_depth=' + str(depth)\n",
    "exp_name += '_data=' + smooth_or_raw\n",
    "exp_name += '_decay=' + str(weight_decay)\n",
    "exp_name += '_pat=' + str(max_patience)\n",
    "exp_name += ('_noshuffle'+str(minibatches_subset)+'batch') if not shuffle_at_each_epoch else ''\n",
    "#exp_name += 'test'\n",
    "\n",
    "dataset = 'cortical_layers'\n",
    "savepath = os.path.join(savepath, dataset, exp_name)\n",
    "loadpath = os.path.join(loadpath, dataset, exp_name)\n",
    "print 'Savepath : ' \n",
    "print savepath\n",
    "print 'Loadpath : '\n",
    "print loadpath\n",
    "\n",
    "if not os.path.exists(savepath):\n",
    "    os.makedirs(savepath)\n",
    "else:\n",
    "    print('\\033[93m The following folder already exists {}. '\n",
    "          'It will be overwritten in a few seconds...\\033[0m'.format(\n",
    "              savepath))\n",
    "\n",
    "print('Saving directory : ' + savepath)\n",
    "with open(os.path.join(savepath, \"config.txt\"), \"w\") as f:\n",
    "    for key, value in locals().items():\n",
    "        f.write('{} = {}\\n'.format(key, value))\n"
   ]
  },
  {
   "cell_type": "code",
   "execution_count": null,
   "metadata": {
    "collapsed": true,
    "deletable": true,
    "editable": true
   },
   "outputs": [],
   "source": []
  },
  {
   "cell_type": "code",
   "execution_count": 5,
   "metadata": {
    "collapsed": false,
    "deletable": true,
    "editable": true
   },
   "outputs": [],
   "source": [
    "#\n",
    "# Define symbolic variables\n",
    "#\n",
    "input_var = T.tensor3('input_var') #n_example*nb_in_channels*ray_size\n",
    "target_var = T.ivector('target_var') #n_example*ray_size\n",
    "\n",
    "learn_step=  theano.shared(np.array(learning_rate_value, dtype=theano.config.floatX))\n"
   ]
  },
  {
   "cell_type": "code",
   "execution_count": 6,
   "metadata": {
    "collapsed": false,
    "deletable": true,
    "editable": true
   },
   "outputs": [],
   "source": [
    "#\n",
    "# Build dataset iterator\n",
    "#\n",
    "\n",
    "if smooth_or_raw =='both':\n",
    "    nb_in_channels = 2\n",
    "    use_threads = False\n",
    "else:\n",
    "    nb_in_channels = 1\n",
    "    use_threads = True\n",
    "\n",
    "train_iter = CorticalLayersDataset(\n",
    "    which_set='train',\n",
    "    smooth_or_raw = smooth_or_raw,\n",
    "    batch_size=batch_size[0],\n",
    "    data_augm_kwargs=data_augmentation,\n",
    "    shuffle_at_each_epoch = shuffle_at_each_epoch,\n",
    "    return_one_hot=False,\n",
    "    return_01c=False,\n",
    "    return_list=False,\n",
    "    use_threads=use_threads)\n",
    "\n",
    "val_iter = CorticalLayersDataset(\n",
    "    which_set='valid',\n",
    "    smooth_or_raw = smooth_or_raw,\n",
    "    batch_size=batch_size[1],\n",
    "    shuffle_at_each_epoch = shuffle_at_each_epoch,\n",
    "    return_one_hot=False,\n",
    "    return_01c=False,\n",
    "    return_list=False,\n",
    "    use_threads=use_threads)\n",
    "\n",
    "test_iter = None\n",
    "\n",
    "\n",
    "\n",
    "n_batches_train = train_iter.nbatches\n",
    "n_batches_val = val_iter.nbatches\n",
    "n_batches_test = test_iter.nbatches if test_iter is not None else 0\n",
    "n_classes = train_iter.non_void_nclasses\n",
    "void_labels = train_iter.void_labels\n",
    "\n",
    "\n",
    "#nb_in_channels = train_iter.data_shape[0]"
   ]
  },
  {
   "cell_type": "code",
   "execution_count": null,
   "metadata": {
    "collapsed": true,
    "deletable": true,
    "editable": true
   },
   "outputs": [],
   "source": []
  },
  {
   "cell_type": "code",
   "execution_count": null,
   "metadata": {
    "collapsed": true,
    "deletable": true,
    "editable": true
   },
   "outputs": [],
   "source": []
  },
  {
   "cell_type": "code",
   "execution_count": 7,
   "metadata": {
    "collapsed": false,
    "deletable": true,
    "editable": true
   },
   "outputs": [],
   "source": [
    "#\n",
    "# Build network\n",
    "#\n",
    "simple_net_output, net = build_simple_model(input_var,\n",
    "                    filter_size = filter_size,\n",
    "                    n_filters = n_filters,\n",
    "                    depth = depth,\n",
    "                    nb_in_channels = nb_in_channels,\n",
    "                    n_classes = n_classes)\n",
    "\n",
    "#simple_net_output = last layer of the simple_model net\n",
    "#net = dictionary containing the names of every layer (used to visualize data)\n",
    "\n",
    "# To print each layer, uncomment this:\n",
    "# lays = lasagne.layers.get_all_layers(simple_net_output)\n",
    "# for l in lays:\n",
    "#     print l, l.output_shape\n",
    "#     #print  simple_net_output[l], simple_net_output[l].output_shape, l\n",
    "# print '---------------------------'\n",
    "# print 'simple_net_output :', simple_net_output\n",
    "# print '---------------------------'\n",
    "# #print 'net :', net"
   ]
  },
  {
   "cell_type": "code",
   "execution_count": null,
   "metadata": {
    "collapsed": true,
    "deletable": true,
    "editable": true
   },
   "outputs": [],
   "source": []
  },
  {
   "cell_type": "code",
   "execution_count": 8,
   "metadata": {
    "collapsed": false,
    "deletable": true,
    "editable": true
   },
   "outputs": [
    {
     "name": "stdout",
     "output_type": "stream",
     "text": [
      "Defining and compiling training functions\n",
      "Done\n"
     ]
    }
   ],
   "source": [
    "#\n",
    "# Define and compile theano functions\n",
    "#\n",
    "print \"Defining and compiling training functions\"\n",
    "\n",
    "prediction = lasagne.layers.get_output(simple_net_output[0])\n",
    "loss = categorical_crossentropy(prediction, target_var)\n",
    "loss = loss.mean()\n",
    "\n",
    "if weight_decay > 0:\n",
    "    weightsl2 = regularize_network_params(\n",
    "        simple_net_output, lasagne.regularization.l2)\n",
    "    loss += weight_decay * weightsl2\n",
    "\n",
    "train_acc, train_sample_acc = accuracy(prediction, target_var, void_labels)\n",
    "\n",
    "params = lasagne.layers.get_all_params(simple_net_output, trainable=True)\n",
    "updates = lasagne.updates.adam(loss, params, learning_rate=learn_step)\n",
    "\n",
    "train_fn = theano.function([input_var, target_var], [loss, train_acc, train_sample_acc], \n",
    "                           updates=updates)#, profile=True)\n",
    "\n",
    "print \"Done\"\n"
   ]
  },
  {
   "cell_type": "code",
   "execution_count": 9,
   "metadata": {
    "collapsed": false,
    "deletable": true,
    "editable": true
   },
   "outputs": [
    {
     "name": "stdout",
     "output_type": "stream",
     "text": [
      "Defining and compiling valid functions\n",
      "Done\n"
     ]
    }
   ],
   "source": [
    "print \"Defining and compiling valid functions\"\n",
    "valid_prediction = lasagne.layers.get_output(simple_net_output[0],\n",
    "                                            deterministic=True)\n",
    "valid_loss = categorical_crossentropy(valid_prediction, target_var)\n",
    "valid_loss = valid_loss.mean()\n",
    "#valid_loss = crossentropy(valid_prediction, target_var, void_labels)\n",
    "valid_acc, valid_sample_acc = accuracy(valid_prediction, target_var, void_labels)\n",
    "valid_jacc = jaccard(valid_prediction, target_var, n_classes)\n",
    "\n",
    "valid_fn = theano.function([input_var, target_var], \n",
    "                           [valid_loss, valid_acc, valid_sample_acc, valid_jacc])#,profile=True)\n",
    "print \"Done\""
   ]
  },
  {
   "cell_type": "code",
   "execution_count": 10,
   "metadata": {
    "collapsed": false,
    "deletable": true,
    "editable": true
   },
   "outputs": [],
   "source": [
    "#Function computing the prediction with current parameters (for visualization)\n",
    "pred = theano.function([input_var], lasagne.layers.get_output(net['probs_reshape'],\n",
    "                                            deterministic=True))"
   ]
  },
  {
   "cell_type": "code",
   "execution_count": null,
   "metadata": {
    "collapsed": false,
    "deletable": true,
    "editable": true
   },
   "outputs": [],
   "source": [
    "\n",
    "\n"
   ]
  },
  {
   "cell_type": "code",
   "execution_count": null,
   "metadata": {
    "collapsed": true,
    "deletable": true,
    "editable": true
   },
   "outputs": [],
   "source": []
  },
  {
   "cell_type": "code",
   "execution_count": 11,
   "metadata": {
    "collapsed": true,
    "deletable": true,
    "editable": true
   },
   "outputs": [],
   "source": [
    "#To visualize the ray \n",
    "def make_2Darray(arr, height = 25):\n",
    "    arr = np.reshape(arr, (1,arr.shape[0]))\n",
    "    x = np.repeat(arr, height, 0)\n",
    "    return x\n"
   ]
  },
  {
   "cell_type": "code",
   "execution_count": null,
   "metadata": {
    "collapsed": true,
    "deletable": true,
    "editable": true
   },
   "outputs": [],
   "source": []
  },
  {
   "cell_type": "code",
   "execution_count": null,
   "metadata": {
    "collapsed": true,
    "deletable": true,
    "editable": true
   },
   "outputs": [],
   "source": []
  },
  {
   "cell_type": "code",
   "execution_count": 12,
   "metadata": {
    "collapsed": false,
    "deletable": true,
    "editable": true
   },
   "outputs": [],
   "source": [
    "def plot_true_predicted_labels(X_batch, L_batch, idx_batch, smooth_or_raw='raw', index = -1, which_set=''):\n",
    "    #Get random sample\n",
    "    if index != -1:\n",
    "        idx = index\n",
    "    else:\n",
    "        idx = random.randint(0,X_batch.shape[0]-1)\n",
    "    \n",
    "    real_idx = idx_batch[idx]\n",
    "\n",
    "    ray = X_batch[idx][0]\n",
    "    true_labels = L_batch[idx*200:(idx+1)*200]\n",
    "    predicted_labels = np.argmax(pred(X_batch), axis=2)[idx]\n",
    "\n",
    "    true_vs_predicted = np.concatenate((make_2Darray(true_labels),\n",
    "                                        make_2Darray(predicted_labels)), axis = 0)\n",
    "\n",
    "    \n",
    "    if smooth_or_raw=='both':\n",
    "        plt.title('Smooth vs raw data ' + which_set + ' idx = '+ str(real_idx))\n",
    "        data = np.concatenate((make_2Darray(X_batch[idx][0]),\n",
    "                                   make_2Darray(X_batch[idx][1])), axis=0)\n",
    "        plt.imshow(data, cmap='gray', interpolation='none')\n",
    "        plt.figure()\n",
    "    else : \n",
    "        plt.title(smooth_or_raw + ' data ' + which_set + ' idx = '+ str(real_idx))\n",
    "        plt.imshow(make_2Darray(X_batch[idx][0]), cmap='gray', interpolation='none')\n",
    "        plt.figure()\n",
    "        \n",
    "\n",
    "    \n",
    "    plt.title('Ground truth vs predicted labels '+ which_set + ' idx = '+ str(real_idx))\n",
    "    plt.imshow(true_vs_predicted, interpolation='none', vmin=0, vmax=n_classes)\n",
    "    plt.figure()\n",
    "\n",
    "    plt.show()"
   ]
  },
  {
   "cell_type": "code",
   "execution_count": 13,
   "metadata": {
    "collapsed": false,
    "deletable": true,
    "editable": true
   },
   "outputs": [],
   "source": [
    "def index_worse_than(sample_acc_batch,  idx_batch, treshold=0.7):\n",
    "    \n",
    "    worse_batch_idx = np.array([i for i in range(len(sample_acc_batch)) if sample_acc_batch[i]<treshold], dtype=int)\n",
    "    if worse_batch_idx==[]:\n",
    "        return []\n",
    "    else :\n",
    "        return idx_batch[worse_batch_idx]\n",
    "    \n",
    "    "
   ]
  },
  {
   "cell_type": "code",
   "execution_count": null,
   "metadata": {
    "collapsed": true,
    "deletable": true,
    "editable": true
   },
   "outputs": [],
   "source": []
  },
  {
   "cell_type": "code",
   "execution_count": null,
   "metadata": {
    "collapsed": true,
    "deletable": true,
    "editable": true
   },
   "outputs": [],
   "source": []
  },
  {
   "cell_type": "code",
   "execution_count": 14,
   "metadata": {
    "collapsed": false,
    "deletable": true,
    "editable": true
   },
   "outputs": [],
   "source": [
    "# Uncomment this if only 1 minibatch (smaller dataset)\n",
    "# and comment 2 lines in training loop to avoid getting new minibatches\n",
    "\n",
    "# X_train_batch, L_train_batch = train_iter.next()\n",
    "# X_val_batch, L_val_batch = val_iter.next()\n",
    "# minibatches_subset = 1\n",
    "\n",
    "# print X_train_batch.shape\n",
    "# print L_train_batch.shapedata\n"
   ]
  },
  {
   "cell_type": "code",
   "execution_count": null,
   "metadata": {
    "collapsed": true,
    "deletable": true,
    "editable": true
   },
   "outputs": [],
   "source": []
  },
  {
   "cell_type": "code",
   "execution_count": 15,
   "metadata": {
    "collapsed": true,
    "deletable": true,
    "editable": true
   },
   "outputs": [],
   "source": [
    "#whether to plot labels prediction or not during training \n",
    "#(1 random example of the last minibatch for each epoch)\n",
    "plot_results_train = True #from the training set\n",
    "plot_results_valid = True #from the validation set\n",
    "\n",
    "treshold = 0.7 # for extracting the very incorrect labelled samples\n",
    "ratios=[0.80,0.85, 0.90] #ratios for the per sample accuracy"
   ]
  },
  {
   "cell_type": "code",
   "execution_count": 16,
   "metadata": {
    "collapsed": false,
    "deletable": true,
    "editable": true,
    "scrolled": true
   },
   "outputs": [
    {
     "name": "stdout",
     "output_type": "stream",
     "text": [
      "Start training\n"
     ]
    },
    {
     "name": "stderr",
     "output_type": "stream",
     "text": [
      "/part/01/Tmp/lisa/os_v5/anaconda/lib/python2.7/site-packages/ipykernel/__main__.py:4: DeprecationWarning: elementwise == comparison failed; this will raise an error in the future.\n"
     ]
    },
    {
     "data": {
      "image/png": "[encoded data removed]",
      "text/plain": [
       "<matplotlib.figure.Figure at 0x7fe6f57e0910>"
      ]
     },
     "metadata": {},
     "output_type": "display_data"
    },
    {
     "data": {
      "image/png": "[encoded data removed]",
      "text/plain": [
       "<matplotlib.figure.Figure at 0x7fe73e88b190>"
      ]
     },
     "metadata": {},
     "output_type": "display_data"
    },
    {
     "data": {
      "text/plain": [
       "<matplotlib.figure.Figure at 0x7fe6be7a6990>"
      ]
     },
     "metadata": {},
     "output_type": "display_data"
    },
    {
     "data": {
      "image/png": "[encoded data removed]",
      "text/plain": [
       "<matplotlib.figure.Figure at 0x7fe6e78f5f90>"
      ]
     },
     "metadata": {},
     "output_type": "display_data"
    },
    {
     "data": {
      "image/png": "[encoded data removed]",
      "text/plain": [
       "<matplotlib.figure.Figure at 0x7fe6be6506d0>"
      ]
     },
     "metadata": {},
     "output_type": "display_data"
    },
    {
     "data": {
      "text/plain": [
       "<matplotlib.figure.Figure at 0x7fe6be5df590>"
      ]
     },
     "metadata": {},
     "output_type": "display_data"
    },
    {
     "data": {
      "image/png": "[encoded data removed]",
      "text/plain": [
       "<matplotlib.figure.Figure at 0x7fe6e7cdf850>"
      ]
     },
     "metadata": {},
     "output_type": "display_data"
    },
    {
     "data": {
      "image/png": "[encoded data removed]",
      "text/plain": [
       "<matplotlib.figure.Figure at 0x7fe6be529f50>"
      ]
     },
     "metadata": {},
     "output_type": "display_data"
    },
    {
     "data": {
      "text/plain": [
       "<matplotlib.figure.Figure at 0x7fe6be437f10>"
      ]
     },
     "metadata": {},
     "output_type": "display_data"
    },
    {
     "name": "stdout",
     "output_type": "stream",
     "text": [
      "EPOCH 0: Avg cost train 2.076502, acc train 0.852381, cost val 0.368006, acc val 0.862438, jacc val 0.693985 took 260.309662 s\n",
      "Per sample accuracy (ratios [0.8, 0.85, 0.9])  train [ 0.79735088  0.6445614   0.38429825] valid [ 0.81584127  0.66266667  0.40184127]\n"
     ]
    },
    {
     "data": {
      "image/png": "[encoded data removed]",
      "text/plain": [
       "<matplotlib.figure.Figure at 0x7fe6be6bf390>"
      ]
     },
     "metadata": {},
     "output_type": "display_data"
    },
    {
     "data": {
      "image/png": "[encoded data removed]",
      "text/plain": [
       "<matplotlib.figure.Figure at 0x7fe6be399cd0>"
      ]
     },
     "metadata": {},
     "output_type": "display_data"
    },
    {
     "data": {
      "text/plain": [
       "<matplotlib.figure.Figure at 0x7fe6be32cb90>"
      ]
     },
     "metadata": {},
     "output_type": "display_data"
    },
    {
     "data": {
      "image/png": "[encoded data removed]",
      "text/plain": [
       "<matplotlib.figure.Figure at 0x7fe6be47a250>"
      ]
     },
     "metadata": {},
     "output_type": "display_data"
    },
    {
     "data": {
      "image/png": "[encoded data removed]",
      "text/plain": [
       "<matplotlib.figure.Figure at 0x7fe6be20c490>"
      ]
     },
     "metadata": {},
     "output_type": "display_data"
    },
    {
     "data": {
      "text/plain": [
       "<matplotlib.figure.Figure at 0x7fe6be19e450>"
      ]
     },
     "metadata": {},
     "output_type": "display_data"
    },
    {
     "data": {
      "image/png": "[encoded data removed]",
      "text/plain": [
       "<matplotlib.figure.Figure at 0x7fe6f6846690>"
      ]
     },
     "metadata": {},
     "output_type": "display_data"
    },
    {
     "data": {
      "image/png": "[encoded data removed]",
      "text/plain": [
       "<matplotlib.figure.Figure at 0x7fe6be0ecfd0>"
      ]
     },
     "metadata": {},
     "output_type": "display_data"
    },
    {
     "data": {
      "text/plain": [
       "<matplotlib.figure.Figure at 0x7fe6bdffef90>"
      ]
     },
     "metadata": {},
     "output_type": "display_data"
    },
    {
     "name": "stdout",
     "output_type": "stream",
     "text": [
      "EPOCH 1: Avg cost train 1.627285, acc train 0.887325, cost val 0.290139, acc val 0.890200, jacc val 0.750712 took 260.252825 s\n",
      "Per sample accuracy (ratios [0.8, 0.85, 0.9])  train [ 0.87310526  0.75968421  0.53505263] valid [ 0.88695238  0.77539683  0.53777778]\n",
      "saving last model\n"
     ]
    },
    {
     "data": {
      "image/png": "[encoded data removed]",
      "text/plain": [
       "<matplotlib.figure.Figure at 0x7fe6be6f5b90>"
      ]
     },
     "metadata": {},
     "output_type": "display_data"
    },
    {
     "data": {
      "image/png": "[encoded data removed]",
      "text/plain": [
       "<matplotlib.figure.Figure at 0x7fe6bdf60950>"
      ]
     },
     "metadata": {},
     "output_type": "display_data"
    },
    {
     "data": {
      "text/plain": [
       "<matplotlib.figure.Figure at 0x7fe6bdef3650>"
      ]
     },
     "metadata": {},
     "output_type": "display_data"
    },
    {
     "data": {
      "image/png": "[encoded data removed]",
      "text/plain": [
       "<matplotlib.figure.Figure at 0x7fe6be335d10>"
      ]
     },
     "metadata": {},
     "output_type": "display_data"
    },
    {
     "data": {
      "image/png": "[encoded data removed]",
      "text/plain": [
       "<matplotlib.figure.Figure at 0x7fe6bddd3510>"
      ]
     },
     "metadata": {},
     "output_type": "display_data"
    },
    {
     "data": {
      "text/plain": [
       "<matplotlib.figure.Figure at 0x7fe6bdd654d0>"
      ]
     },
     "metadata": {},
     "output_type": "display_data"
    },
    {
     "data": {
      "image/png": "[encoded data removed]",
      "text/plain": [
       "<matplotlib.figure.Figure at 0x7fe6be0a9950>"
      ]
     },
     "metadata": {},
     "output_type": "display_data"
    },
    {
     "data": {
      "image/png": "[encoded data removed]",
      "text/plain": [
       "<matplotlib.figure.Figure at 0x7fe6bdc3f0d0>"
      ]
     },
     "metadata": {},
     "output_type": "display_data"
    },
    {
     "data": {
      "text/plain": [
       "<matplotlib.figure.Figure at 0x7fe6bdbd2090>"
      ]
     },
     "metadata": {},
     "output_type": "display_data"
    },
    {
     "name": "stdout",
     "output_type": "stream",
     "text": [
      "EPOCH 2: Avg cost train 1.349950, acc train 0.894847, cost val 0.272230, acc val 0.898687, jacc val 0.775196 took 260.553711 s\n",
      "Per sample accuracy (ratios [0.8, 0.85, 0.9])  train [ 0.88668421  0.78698246  0.58538596] valid [ 0.89511111  0.80212698  0.61028571]\n",
      "saving best (and last) model\n"
     ]
    },
    {
     "data": {
      "image/png": "[encoded data removed]",
      "text/plain": [
       "<matplotlib.figure.Figure at 0x7fe6bdbfa850>"
      ]
     },
     "metadata": {},
     "output_type": "display_data"
    },
    {
     "data": {
      "image/png": "[encoded data removed]",
      "text/plain": [
       "<matplotlib.figure.Figure at 0x7fe6bdb279d0>"
      ]
     },
     "metadata": {},
     "output_type": "display_data"
    },
    {
     "data": {
      "text/plain": [
       "<matplotlib.figure.Figure at 0x7fe6bda3a6d0>"
      ]
     },
     "metadata": {},
     "output_type": "display_data"
    },
    {
     "data": {
      "image/png": "[encoded data removed]",
      "text/plain": [
       "<matplotlib.figure.Figure at 0x7fe6be473d50>"
      ]
     },
     "metadata": {},
     "output_type": "display_data"
    },
    {
     "data": {
      "image/png": "[encoded data removed]",
      "text/plain": [
       "<matplotlib.figure.Figure at 0x7fe6bd998590>"
      ]
     },
     "metadata": {},
     "output_type": "display_data"
    },
    {
     "data": {
      "text/plain": [
       "<matplotlib.figure.Figure at 0x7fe6bd92a550>"
      ]
     },
     "metadata": {},
     "output_type": "display_data"
    },
    {
     "data": {
      "image/png": "[encoded data removed]",
      "text/plain": [
       "<matplotlib.figure.Figure at 0x7fe6bdd19bd0>"
      ]
     },
     "metadata": {},
     "output_type": "display_data"
    },
    {
     "data": {
      "image/png": "[encoded data removed]",
      "text/plain": [
       "<matplotlib.figure.Figure at 0x7fe6bd807150>"
      ]
     },
     "metadata": {},
     "output_type": "display_data"
    },
    {
     "data": {
      "text/plain": [
       "<matplotlib.figure.Figure at 0x7fe6bd799110>"
      ]
     },
     "metadata": {},
     "output_type": "display_data"
    },
    {
     "name": "stdout",
     "output_type": "stream",
     "text": [
      "EPOCH 3: Avg cost train 1.151292, acc train 0.900980, cost val 0.269548, acc val 0.899963, jacc val 0.773498 took 260.660982 s\n",
      "Per sample accuracy (ratios [0.8, 0.85, 0.9])  train [ 0.89784211  0.80814035  0.62531579] valid [ 0.89552381  0.8052381   0.61479365]\n",
      "saving last model\n"
     ]
    },
    {
     "data": {
      "image/png": "[encoded data removed]",
      "text/plain": [
       "<matplotlib.figure.Figure at 0x7fe6bdb75cd0>"
      ]
     },
     "metadata": {},
     "output_type": "display_data"
    },
    {
     "data": {
      "image/png": "[encoded data removed]",
      "text/plain": [
       "<matplotlib.figure.Figure at 0x7fe6bd6eda90>"
      ]
     },
     "metadata": {},
     "output_type": "display_data"
    },
    {
     "data": {
      "text/plain": [
       "<matplotlib.figure.Figure at 0x7fe6bd601790>"
      ]
     },
     "metadata": {},
     "output_type": "display_data"
    },
    {
     "data": {
      "image/png": "[encoded data removed]",
      "text/plain": [
       "<matplotlib.figure.Figure at 0x7fe6bd73bb90>"
      ]
     },
     "metadata": {},
     "output_type": "display_data"
    },
    {
     "data": {
      "image/png": "[encoded data removed]",
      "text/plain": [
       "<matplotlib.figure.Figure at 0x7fe6bd55e650>"
      ]
     },
     "metadata": {},
     "output_type": "display_data"
    },
    {
     "data": {
      "text/plain": [
       "<matplotlib.figure.Figure at 0x7fe6bd4f1610>"
      ]
     },
     "metadata": {},
     "output_type": "display_data"
    },
    {
     "data": {
      "image/png": "[encoded data removed]",
      "text/plain": [
       "<matplotlib.figure.Figure at 0x7fe6bdfce210>"
      ]
     },
     "metadata": {},
     "output_type": "display_data"
    },
    {
     "data": {
      "image/png": "[encoded data removed]",
      "text/plain": [
       "<matplotlib.figure.Figure at 0x7fe6bd3cc210>"
      ]
     },
     "metadata": {},
     "output_type": "display_data"
    },
    {
     "data": {
      "text/plain": [
       "<matplotlib.figure.Figure at 0x7fe6bd35f1d0>"
      ]
     },
     "metadata": {},
     "output_type": "display_data"
    },
    {
     "name": "stdout",
     "output_type": "stream",
     "text": [
      "EPOCH 4: Avg cost train 1.007555, acc train 0.904402, cost val 0.275335, acc val 0.895587, jacc val 0.765161 took 261.920590 s\n",
      "Per sample accuracy (ratios [0.8, 0.85, 0.9])  train [ 0.90377193  0.82178947  0.64745614] valid [ 0.88669841  0.79257143  0.59546032]\n",
      "saving last model\n"
     ]
    },
    {
     "data": {
      "image/png": "[encoded data removed]",
      "text/plain": [
       "<matplotlib.figure.Figure at 0x7fe6bd35f990>"
      ]
     },
     "metadata": {},
     "output_type": "display_data"
    },
    {
     "data": {
      "image/png": "[encoded data removed]",
      "text/plain": [
       "<matplotlib.figure.Figure at 0x7fe6bd235b10>"
      ]
     },
     "metadata": {},
     "output_type": "display_data"
    },
    {
     "data": {
      "text/plain": [
       "<matplotlib.figure.Figure at 0x7fe6bd1c7810>"
      ]
     },
     "metadata": {},
     "output_type": "display_data"
    },
    {
     "data": {
      "image/png": "[encoded data removed]",
      "text/plain": [
       "<matplotlib.figure.Figure at 0x7fe6bd1ec490>"
      ]
     },
     "metadata": {},
     "output_type": "display_data"
    },
    {
     "data": {
      "image/png": "[encoded data removed]",
      "text/plain": [
       "<matplotlib.figure.Figure at 0x7fe6bd1236d0>"
      ]
     },
     "metadata": {},
     "output_type": "display_data"
    },
    {
     "data": {
      "text/plain": [
       "<matplotlib.figure.Figure at 0x7fe6bd035690>"
      ]
     },
     "metadata": {},
     "output_type": "display_data"
    },
    {
     "data": {
      "image/png": "[encoded data removed]",
      "text/plain": [
       "<matplotlib.figure.Figure at 0x7fe6bd1e2110>"
      ]
     },
     "metadata": {},
     "output_type": "display_data"
    },
    {
     "data": {
      "image/png": "[encoded data removed]",
      "text/plain": [
       "<matplotlib.figure.Figure at 0x7fe6bcf92290>"
      ]
     },
     "metadata": {},
     "output_type": "display_data"
    },
    {
     "data": {
      "text/plain": [
       "<matplotlib.figure.Figure at 0x7fe6bcf26250>"
      ]
     },
     "metadata": {},
     "output_type": "display_data"
    },
    {
     "name": "stdout",
     "output_type": "stream",
     "text": [
      "EPOCH 5: Avg cost train 0.897495, acc train 0.906353, cost val 0.316283, acc val 0.880793, jacc val 0.741025 took 260.382003 s\n",
      "Per sample accuracy (ratios [0.8, 0.85, 0.9])  train [ 0.90552632  0.82622807  0.65940351] valid [ 0.8455873   0.71088889  0.48447619]\n",
      "saving last model\n"
     ]
    },
    {
     "ename": "KeyboardInterrupt",
     "evalue": "",
     "output_type": "error",
     "traceback": [
      "\u001b[0;31m---------------------------------------------------------------------------\u001b[0m",
      "\u001b[0;31mKeyboardInterrupt\u001b[0m                         Traceback (most recent call last)",
      "\u001b[0;32m<ipython-input-16-ad04471b00fb>\u001b[0m in \u001b[0;36m<module>\u001b[0;34m()\u001b[0m\n\u001b[1;32m     39\u001b[0m     \u001b[0;32mfor\u001b[0m \u001b[0mi\u001b[0m \u001b[0;32min\u001b[0m \u001b[0mrange\u001b[0m\u001b[0;34m(\u001b[0m\u001b[0mn_batches_train\u001b[0m\u001b[0;34m)\u001b[0m\u001b[0;34m:\u001b[0m\u001b[0;34m\u001b[0m\u001b[0m\n\u001b[1;32m     40\u001b[0m         \u001b[0;31m# Get minibatch (comment the next line if only 1 minibatch in training)\u001b[0m\u001b[0;34m\u001b[0m\u001b[0;34m\u001b[0m\u001b[0m\n\u001b[0;32m---> 41\u001b[0;31m         \u001b[0mtrain_batch\u001b[0m \u001b[0;34m=\u001b[0m \u001b[0mtrain_iter\u001b[0m\u001b[0;34m.\u001b[0m\u001b[0mnext\u001b[0m\u001b[0;34m(\u001b[0m\u001b[0;34m)\u001b[0m\u001b[0;34m\u001b[0m\u001b[0m\n\u001b[0m\u001b[1;32m     42\u001b[0m         \u001b[0mX_train_batch\u001b[0m\u001b[0;34m,\u001b[0m \u001b[0mL_train_batch\u001b[0m\u001b[0;34m,\u001b[0m \u001b[0midx_train_batch\u001b[0m \u001b[0;34m=\u001b[0m \u001b[0mtrain_batch\u001b[0m\u001b[0;34m[\u001b[0m\u001b[0;34m'data'\u001b[0m\u001b[0;34m]\u001b[0m\u001b[0;34m,\u001b[0m \u001b[0mtrain_batch\u001b[0m\u001b[0;34m[\u001b[0m\u001b[0;34m'labels'\u001b[0m\u001b[0;34m]\u001b[0m\u001b[0;34m,\u001b[0m \u001b[0mtrain_batch\u001b[0m\u001b[0;34m[\u001b[0m\u001b[0;34m'indices'\u001b[0m\u001b[0;34m]\u001b[0m\u001b[0;34m[\u001b[0m\u001b[0;36m0\u001b[0m\u001b[0;34m]\u001b[0m\u001b[0;34m\u001b[0m\u001b[0m\n\u001b[1;32m     43\u001b[0m \u001b[0;34m\u001b[0m\u001b[0m\n",
      "\u001b[0;32m/u/larocste/dataset_loaders/dataset_loaders/parallel_loader.pyc\u001b[0m in \u001b[0;36mnext\u001b[0;34m(self)\u001b[0m\n\u001b[1;32m    437\u001b[0m \u001b[0;34m\u001b[0m\u001b[0m\n\u001b[1;32m    438\u001b[0m     \u001b[0;32mdef\u001b[0m \u001b[0mnext\u001b[0m\u001b[0;34m(\u001b[0m\u001b[0mself\u001b[0m\u001b[0;34m)\u001b[0m\u001b[0;34m:\u001b[0m\u001b[0;34m\u001b[0m\u001b[0m\n\u001b[0;32m--> 439\u001b[0;31m         \u001b[0;32mreturn\u001b[0m \u001b[0mself\u001b[0m\u001b[0;34m.\u001b[0m\u001b[0m_step\u001b[0m\u001b[0;34m(\u001b[0m\u001b[0;34m)\u001b[0m\u001b[0;34m\u001b[0m\u001b[0m\n\u001b[0m\u001b[1;32m    440\u001b[0m \u001b[0;34m\u001b[0m\u001b[0m\n\u001b[1;32m    441\u001b[0m     \u001b[0;32mdef\u001b[0m \u001b[0m_step\u001b[0m\u001b[0;34m(\u001b[0m\u001b[0mself\u001b[0m\u001b[0;34m)\u001b[0m\u001b[0;34m:\u001b[0m\u001b[0;34m\u001b[0m\u001b[0m\n",
      "\u001b[0;32m/u/larocste/dataset_loaders/dataset_loaders/parallel_loader.pyc\u001b[0m in \u001b[0;36m_step\u001b[0;34m(self)\u001b[0m\n\u001b[1;32m    491\u001b[0m                 \u001b[0;32mtry\u001b[0m\u001b[0;34m:\u001b[0m\u001b[0;34m\u001b[0m\u001b[0m\n\u001b[1;32m    492\u001b[0m                     \u001b[0mname_batch\u001b[0m \u001b[0;34m=\u001b[0m \u001b[0mself\u001b[0m\u001b[0;34m.\u001b[0m\u001b[0mnames_batches\u001b[0m\u001b[0;34m.\u001b[0m\u001b[0mnext\u001b[0m\u001b[0;34m(\u001b[0m\u001b[0;34m)\u001b[0m\u001b[0;34m\u001b[0m\u001b[0m\n\u001b[0;32m--> 493\u001b[0;31m                     \u001b[0mdata_batch\u001b[0m \u001b[0;34m=\u001b[0m \u001b[0mself\u001b[0m\u001b[0;34m.\u001b[0m\u001b[0mfetch_from_dataset\u001b[0m\u001b[0;34m(\u001b[0m\u001b[0mname_batch\u001b[0m\u001b[0;34m)\u001b[0m\u001b[0;34m\u001b[0m\u001b[0m\n\u001b[0m\u001b[1;32m    494\u001b[0m                     \u001b[0mdone\u001b[0m \u001b[0;34m=\u001b[0m \u001b[0mTrue\u001b[0m\u001b[0;34m\u001b[0m\u001b[0m\n\u001b[1;32m    495\u001b[0m                 \u001b[0;32mexcept\u001b[0m \u001b[0mStopIteration\u001b[0m\u001b[0;34m:\u001b[0m\u001b[0;34m\u001b[0m\u001b[0m\n",
      "\u001b[0;32m/u/larocste/cortical_layers/data_loader/parallel_loader_1D.pyc\u001b[0m in \u001b[0;36mfetch_from_dataset\u001b[0;34m(self, batch_to_load)\u001b[0m\n\u001b[1;32m    411\u001b[0m         \u001b[0;32mwith\u001b[0m \u001b[0mopen\u001b[0m\u001b[0;34m(\u001b[0m\u001b[0mself\u001b[0m\u001b[0;34m.\u001b[0m\u001b[0mmask_path\u001b[0m\u001b[0;34m)\u001b[0m \u001b[0;32mas\u001b[0m \u001b[0mfp\u001b[0m\u001b[0;34m:\u001b[0m\u001b[0;34m\u001b[0m\u001b[0m\n\u001b[1;32m    412\u001b[0m             \u001b[0;32mfor\u001b[0m \u001b[0mi\u001b[0m\u001b[0;34m,\u001b[0m \u001b[0mline\u001b[0m \u001b[0;32min\u001b[0m \u001b[0menumerate\u001b[0m\u001b[0;34m(\u001b[0m\u001b[0mfp\u001b[0m\u001b[0;34m)\u001b[0m\u001b[0;34m:\u001b[0m\u001b[0;34m\u001b[0m\u001b[0m\n\u001b[0;32m--> 413\u001b[0;31m                 \u001b[0;32mif\u001b[0m \u001b[0mi\u001b[0m \u001b[0;32min\u001b[0m \u001b[0mbatch_to_load\u001b[0m\u001b[0;34m:\u001b[0m\u001b[0;34m\u001b[0m\u001b[0m\n\u001b[0m\u001b[1;32m    414\u001b[0m                     \u001b[0;31m#print 'index : ', i\u001b[0m\u001b[0;34m\u001b[0m\u001b[0;34m\u001b[0m\u001b[0m\n\u001b[1;32m    415\u001b[0m                     \u001b[0mline\u001b[0m \u001b[0;34m=\u001b[0m \u001b[0mre\u001b[0m\u001b[0;34m.\u001b[0m\u001b[0msplit\u001b[0m\u001b[0;34m(\u001b[0m\u001b[0;34m' '\u001b[0m\u001b[0;34m,\u001b[0m \u001b[0mline\u001b[0m\u001b[0;34m)\u001b[0m\u001b[0;34m\u001b[0m\u001b[0m\n",
      "\u001b[0;31mKeyboardInterrupt\u001b[0m: "
     ]
    }
   ],
   "source": [
    "#\n",
    "# Train loop\n",
    "#\n",
    "err_train = []\n",
    "acc_train = []\n",
    "sample_acc_train_tot = []\n",
    "worse_indices_train = []\n",
    "already_seen_idx = []\n",
    "\n",
    "err_valid = []\n",
    "acc_valid = []\n",
    "jacc_valid = []\n",
    "sample_acc_valid_tot = []\n",
    "patience = 0\n",
    "worse_indices_valid =[]\n",
    "\n",
    "\n",
    "\n",
    "# Training main loop\n",
    "print \"Start training\"\n",
    "\n",
    "for epoch in range(num_epochs):\n",
    "    #learn_step.set_value((learn_step.get_value()*0.99).astype(theano.config.floatX))\n",
    "    \n",
    "    # Single epoch training and validation\n",
    "    start_time = time.time()\n",
    "    #Cost train and acc train for this epoch\n",
    "    cost_train_epoch = 0\n",
    "    acc_train_epoch = 0\n",
    "    sample_acc_train_epoch = np.array([0.0 for i in range(len(ratios))])\n",
    "    worse_indices_train_epoch = []\n",
    "\n",
    "    # Train\n",
    "    if minibatches_subset > 0:\n",
    "        n_batches_val = minibatches_subset\n",
    "        n_batches_train = minibatches_subset\n",
    "        \n",
    "        \n",
    "    for i in range(n_batches_train):\n",
    "        # Get minibatch (comment the next line if only 1 minibatch in training)\n",
    "        train_batch = train_iter.next()\n",
    "        X_train_batch, L_train_batch, idx_train_batch = train_batch['data'], train_batch['labels'], train_batch['indices'][0]\n",
    "\n",
    "        L_train_batch = np.reshape(L_train_batch, np.prod(L_train_batch.shape))\n",
    "        \n",
    "        # Training step\n",
    "        cost_train_batch, acc_train_batch, sample_acc_train_batch = train_fn(\n",
    "                                                            X_train_batch, L_train_batch)\n",
    "        sample_acc_train_batch_mean = [np.mean([(i>=ratio) \n",
    "                                for i in sample_acc_train_batch]) for ratio in ratios]\n",
    "        \n",
    "        worse_indices_train_batch = index_worse_than(sample_acc_train_batch, \n",
    "                                          idx_train_batch, treshold=treshold)\n",
    "        \n",
    "\n",
    "        #print i, 'training batch cost : ', cost_train_batch, ' batch accuracy : ', acc_train_batch\n",
    "\n",
    "        #Update epoch results    \n",
    "        cost_train_epoch += cost_train_batch\n",
    "        acc_train_epoch += acc_train_batch\n",
    "        sample_acc_train_epoch += sample_acc_train_batch_mean\n",
    "        worse_indices_train_epoch = np.hstack((worse_indices_train_epoch,worse_indices_train_batch))\n",
    "        \n",
    "    #Add epoch results    \n",
    "    err_train += [cost_train_epoch/n_batches_train]\n",
    "    acc_train += [acc_train_epoch/n_batches_train]\n",
    "    sample_acc_train_tot += [sample_acc_train_epoch/n_batches_train]\n",
    "    worse_indices_train += [worse_indices_train_epoch]\n",
    "    \n",
    "    if plot_results_train: #select random example from the last minibatch and plot it\n",
    "        plot_true_predicted_labels(X_train_batch, L_train_batch,idx_train_batch, smooth_or_raw,which_set='TRAINING')\n",
    "    \n",
    "\n",
    "    # Validation\n",
    "    cost_val_epoch = 0\n",
    "    acc_val_epoch = 0\n",
    "    sample_acc_valid_epoch = np.array([0.0 for i in range(len(ratios))])\n",
    "    jacc_val_epoch = np.zeros((2, n_classes))\n",
    "    worse_indices_val_epoch = []\n",
    "\n",
    "\n",
    "    for i in range(n_batches_val):\n",
    "        \n",
    "        # Get minibatch (comment the next line if only 1 minibatch in training)\n",
    "        val_batch = val_iter.next()\n",
    "        X_val_batch, L_val_batch, idx_val_batch = val_batch['data'], val_batch['labels'], val_batch['indices'][0]\n",
    "\n",
    "        L_val_batch = np.reshape(L_val_batch, np.prod(L_val_batch.shape))\n",
    "        \n",
    "\n",
    "        # Validation step\n",
    "        cost_val_batch, acc_val_batch, sample_acc_valid_batch, jacc_val_batch = valid_fn(X_val_batch, L_val_batch)\n",
    "        #print i, 'validation batch cost : ', cost_val_batch, ' batch accuracy : ', acc_val_batch\n",
    "        worst_index = np.argmin(sample_acc_valid_batch)\n",
    "        \n",
    "        \n",
    "        sample_acc_valid_batch_mean = [np.mean([(i>=ratio) \n",
    "                                for i in sample_acc_valid_batch]) for ratio in ratios]\n",
    "        \n",
    "        worse_indices_val_batch = index_worse_than(sample_acc_valid_batch, \n",
    "                                          idx_val_batch, treshold=treshold)\n",
    "        \n",
    "\n",
    "\n",
    "        #Update epoch results\n",
    "        cost_val_epoch += cost_val_batch\n",
    "        acc_val_epoch += acc_val_batch\n",
    "        sample_acc_valid_epoch += sample_acc_valid_batch_mean\n",
    "        jacc_val_epoch += jacc_val_batch\n",
    "        worse_indices_val_epoch = np.hstack((worse_indices_val_epoch, worse_indices_val_batch))\n",
    "        \n",
    "    \n",
    "    if plot_results_valid: #select random example from the last minibatch and plot it\n",
    "        plot_true_predicted_labels(X_val_batch, L_val_batch, idx_val_batch, smooth_or_raw, index=worst_index, which_set='VALIDATION WORST')\n",
    "        plot_true_predicted_labels(X_val_batch, L_val_batch, idx_val_batch, smooth_or_raw, which_set='VALIDATION')\n",
    "\n",
    "    #Add epoch results \n",
    "    err_valid += [cost_val_epoch/n_batches_val]\n",
    "    acc_valid += [acc_val_epoch/n_batches_val]\n",
    "    sample_acc_valid_tot += [sample_acc_valid_epoch/n_batches_val]\n",
    "    jacc_perclass_valid = jacc_val_epoch[0, :] / jacc_val_epoch[1, :]\n",
    "    jacc_valid += [np.mean(jacc_perclass_valid)]\n",
    "    worse_indices_valid += [worse_indices_val_epoch]\n",
    "    \n",
    "\n",
    "    #Print results (once per epoch)\n",
    "    \n",
    "    out_str = \"EPOCH %i: Avg cost train %f, acc train %f\"+\\\n",
    "        \", cost val %f, acc val %f, jacc val %f took %f s\"\n",
    "    out_str = out_str % (epoch, err_train[epoch],\n",
    "                         acc_train[epoch],\n",
    "                         err_valid[epoch],\n",
    "                         acc_valid[epoch],\n",
    "                         jacc_valid[epoch],\n",
    "                         time.time()-start_time)\n",
    "    out_str2 = 'Per sample accuracy (ratios ' + str(ratios) + ') '\n",
    "    out_str2 += ' train ' +str(sample_acc_train_tot[epoch]) \n",
    "    out_str2 += ' valid ' + str(sample_acc_valid_tot[epoch])\n",
    "    print out_str\n",
    "    print out_str2\n",
    "\n",
    "    \n",
    "\n",
    "    # Early stopping and saving stuff\n",
    "    \n",
    "    with open(os.path.join(savepath, \"fcn1D_output.log\"), \"a\") as f:\n",
    "        f.write(out_str + \"\\n\")\n",
    "        \n",
    "    if epoch == 0:\n",
    "        best_jacc_val = jacc_valid[epoch]\n",
    "    elif epoch > 1 and jacc_valid[epoch] > best_jacc_val:\n",
    "        print('saving best (and last) model')\n",
    "        best_jacc_val = jacc_valid[epoch]\n",
    "        patience = 0\n",
    "        np.savez(os.path.join(savepath, 'new_fcn1D_model_best.npz'),\n",
    "                 *lasagne.layers.get_all_param_values(simple_net_output))\n",
    "        np.savez(os.path.join(savepath , \"fcn1D_errors_best.npz\"),\n",
    "                 err_train=err_train, acc_train=acc_train,\n",
    "                 err_valid=err_valid, acc_valid=acc_valid, jacc_valid=jacc_valid)\n",
    "        np.savez(os.path.join(savepath, 'new_fcn1D_model_last.npz'),\n",
    "                 *lasagne.layers.get_all_param_values(simple_net_output))\n",
    "        np.savez(os.path.join(savepath , \"fcn1D_errors_last.npz\"),\n",
    "                 err_train=err_train, acc_train=acc_train,\n",
    "                 err_valid=err_valid, acc_valid=acc_valid, jacc_valid=jacc_valid)\n",
    "    else:\n",
    "        patience += 1\n",
    "        print('saving last model')\n",
    "        np.savez(os.path.join(savepath, 'new_fcn1D_model_last.npz'),\n",
    "                 *lasagne.layers.get_all_param_values(simple_net_output))\n",
    "        np.savez(os.path.join(savepath , \"fcn1D_errors_last.npz\"),\n",
    "                 err_train=err_train, acc_train=acc_train,\n",
    "                 err_valid=err_valid, acc_valid=acc_valid, jacc_valid=jacc_valid)\n",
    "    # Finish training if patience has expired or max nber of epochs reached\n",
    "\n",
    "    if patience == max_patience or epoch == num_epochs-1:\n",
    "        if savepath != loadpath:\n",
    "            print('Copying model and other training files to {}'.format(loadpath))\n",
    "            copy_tree(savepath, loadpath)\n",
    "        break \n",
    "\n",
    "\n"
   ]
  },
  {
   "cell_type": "code",
   "execution_count": null,
   "metadata": {
    "collapsed": true,
    "deletable": true,
    "editable": true
   },
   "outputs": [],
   "source": []
  },
  {
   "cell_type": "code",
   "execution_count": 20,
   "metadata": {
    "collapsed": false,
    "deletable": true,
    "editable": true
   },
   "outputs": [
    {
     "name": "stdout",
     "output_type": "stream",
     "text": [
      "11\n",
      "71\n",
      "113\n",
      "133\n",
      "143\n",
      "166\n",
      "410\n",
      "502\n",
      "513\n",
      "539\n",
      "618\n",
      "841\n",
      "853\n",
      "874\n",
      "922\n",
      "951\n",
      "1000\n",
      "1011\n",
      "1020\n",
      "1032\n",
      "1146\n",
      "1157\n",
      "1167\n",
      "1226\n",
      "1245\n",
      "1255\n",
      "1277\n",
      "1320\n",
      "1340\n",
      "1511\n",
      "1533\n",
      "1555\n",
      "1614\n",
      "1962\n",
      "1967\n",
      "1989\n",
      "2031\n",
      "2049\n",
      "2256\n",
      "2312\n",
      "2465\n",
      "2469\n",
      "2474\n",
      "2486\n",
      "2492\n",
      "2496\n",
      "2517\n",
      "2518\n",
      "2542\n",
      "2548\n",
      "2562\n",
      "2572\n",
      "2599\n",
      "2674\n",
      "2692\n",
      "2889\n",
      "2911\n",
      "2987\n",
      "3098\n",
      "3116\n",
      "3165\n",
      "3182\n",
      "3223\n",
      "3258\n",
      "3443\n",
      "3461\n",
      "3466\n",
      "3528\n",
      "3585\n",
      "3607\n",
      "3739\n",
      "3930\n",
      "3973\n",
      "4002\n",
      "4013\n",
      "4023\n",
      "4147\n",
      "4187\n",
      "4227\n",
      "4248\n",
      "4298\n",
      "4309\n",
      "4323\n",
      "4326\n",
      "4335\n",
      "4336\n",
      "4354\n",
      "4357\n",
      "4370\n",
      "4374\n",
      "4424\n",
      "4464\n",
      "4553\n",
      "4559\n",
      "4570\n",
      "4592\n",
      "4593\n",
      "4603\n",
      "4675\n",
      "4691\n",
      "4723\n",
      "4724\n",
      "4725\n",
      "4730\n",
      "4817\n",
      "5028\n",
      "5036\n",
      "5057\n",
      "5063\n",
      "5074\n",
      "5101\n",
      "5162\n",
      "5185\n",
      "5191\n",
      "5193\n",
      "5197\n",
      "5283\n",
      "5294\n",
      "5303\n",
      "5312\n",
      "5314\n",
      "5318\n",
      "5323\n",
      "5325\n",
      "5336\n",
      "5347\n",
      "5356\n",
      "5358\n",
      "5362\n",
      "5369\n",
      "5372\n",
      "5400\n",
      "5402\n",
      "5404\n",
      "5406\n",
      "5409\n",
      "5414\n",
      "5415\n",
      "5417\n",
      "5430\n",
      "5431\n",
      "5465\n",
      "5472\n",
      "5476\n",
      "5478\n",
      "5484\n",
      "5488\n",
      "5506\n",
      "5507\n",
      "5518\n",
      "5556\n",
      "5607\n",
      "5752\n",
      "5850\n",
      "5861\n",
      "6011\n",
      "6074\n",
      "6141\n",
      "6163\n",
      "6168\n",
      "6173\n",
      "6179\n",
      "6263\n",
      "6280\n",
      "6285\n",
      "6411\n",
      "6416\n",
      "6678\n",
      "7246\n",
      "7361\n",
      "7397\n",
      "7399\n",
      "7400\n",
      "7402\n",
      "7403\n",
      "7405\n",
      "7406\n",
      "7413\n",
      "7502\n",
      "7513\n",
      "7519\n",
      "7649\n",
      "7737\n",
      "7739\n",
      "7742\n",
      "7744\n",
      "7747\n",
      "7748\n",
      "7752\n",
      "7760\n",
      "7801\n",
      "7908\n",
      "8030\n",
      "8052\n",
      "8184\n",
      "8411\n",
      "8479\n",
      "8551\n",
      "8581\n",
      "8891\n",
      "8991\n",
      "9023\n",
      "9034\n",
      "9059\n",
      "9060\n",
      "9061\n",
      "9062\n",
      "9063\n",
      "9064\n",
      "9065\n",
      "9455\n",
      "10208\n",
      "10226\n",
      "10232\n",
      "10242\n",
      "10255\n",
      "10422\n",
      "10427\n",
      "10594\n",
      "10764\n",
      "10913\n",
      "10918\n",
      "10924\n",
      "11046\n",
      "11090\n",
      "11093\n",
      "11186\n",
      "11227\n",
      "11253\n",
      "11258\n",
      "11263\n",
      "11368\n",
      "11393\n",
      "11728\n",
      "11763\n",
      "11807\n",
      "11879\n",
      "12026\n",
      "12188\n",
      "12205\n",
      "12708\n",
      "12730\n",
      "12736\n",
      "12758\n",
      "12996\n",
      "12997\n",
      "12998\n",
      "13004\n",
      "13011\n",
      "13012\n",
      "13014\n",
      "13015\n",
      "13018\n",
      "13019\n",
      "13178\n",
      "13244\n",
      "13255\n",
      "13261\n",
      "13400\n",
      "13412\n",
      "13433\n",
      "13517\n",
      "13556\n",
      "13579\n",
      "13646\n",
      "13718\n",
      "13746\n",
      "13775\n",
      "13911\n",
      "13947\n",
      "13958\n",
      "13978\n",
      "14159\n",
      "14295\n",
      "14365\n",
      "14368\n",
      "14388\n",
      "14396\n",
      "14418\n",
      "14579\n",
      "14601\n",
      "14716\n",
      "15040\n",
      "15046\n",
      "15071\n",
      "15072\n",
      "15074\n",
      "15085\n",
      "15096\n",
      "15398\n",
      "15577\n",
      "15624\n",
      "15630\n",
      "15670\n",
      "15692\n",
      "15707\n",
      "15708\n",
      "15724\n",
      "15727\n",
      "15739\n",
      "15775\n",
      "15780\n",
      "15784\n",
      "15790\n",
      "15801\n",
      "15815\n",
      "15817\n",
      "16105\n",
      "16225\n",
      "16886\n",
      "16887\n",
      "16888\n",
      "16889\n",
      "16890\n",
      "16891\n",
      "16893\n",
      "16894\n",
      "16895\n",
      "16896\n",
      "16897\n",
      "16898\n",
      "16899\n",
      "17299\n",
      "17332\n",
      "17343\n",
      "17634\n",
      "17645\n",
      "17651\n",
      "17694\n",
      "17865\n",
      "17921\n",
      "18085\n",
      "18113\n",
      "18119\n",
      "18141\n",
      "18152\n",
      "18174\n",
      "18195\n",
      "18377\n",
      "18414\n",
      "18417\n",
      "18420\n",
      "18451\n",
      "18536\n",
      "18537\n",
      "18538\n",
      "18539\n",
      "18540\n",
      "18541\n",
      "18547\n",
      "18548\n",
      "18550\n",
      "18595\n",
      "18600\n",
      "18638\n",
      "18673\n",
      "18677\n",
      "18680\n",
      "18681\n",
      "18685\n",
      "18689\n",
      "18691\n",
      "18696\n",
      "18702\n",
      "18707\n",
      "18750\n",
      "18764\n",
      "18788\n",
      "18798\n",
      "19039\n",
      "19151\n",
      "19176\n",
      "19193\n",
      "19195\n",
      "19203\n",
      "19222\n",
      "19271\n",
      "19291\n",
      "19312\n",
      "19354\n",
      "19595\n",
      "19884\n",
      "19971\n",
      "20011\n",
      "20724\n",
      "20770\n",
      "21080\n",
      "21086\n",
      "21097\n",
      "21106\n",
      "21132\n",
      "21176\n",
      "21233\n",
      "21241\n",
      "21295\n",
      "21301\n",
      "21304\n",
      "21323\n",
      "21324\n",
      "21329\n",
      "21334\n",
      "21340\n",
      "21345\n",
      "21371\n",
      "21401\n",
      "21410\n",
      "21739\n",
      "21740\n",
      "21741\n",
      "21742\n",
      "21743\n",
      "21745\n",
      "21746\n",
      "21747\n",
      "21748\n",
      "21750\n",
      "21752\n",
      "21753\n",
      "21759\n",
      "21760\n",
      "21761\n",
      "21763\n",
      "21764\n",
      "21818\n",
      "21821\n",
      "21822\n",
      "21832\n",
      "21841\n",
      "21849\n",
      "21851\n",
      "22062\n",
      "22079\n",
      "22211\n",
      "22222\n",
      "22368\n",
      "22444\n",
      "22784\n",
      "23106\n",
      "23117\n",
      "23333\n",
      "23334\n",
      "23337\n",
      "23384\n",
      "23390\n",
      "23430\n",
      "23440\n",
      "23482\n",
      "23536\n",
      "23544\n",
      "23584\n",
      "23589\n",
      "23616\n",
      "23633\n",
      "23635\n",
      "23636\n",
      "23641\n",
      "23642\n",
      "23665\n",
      "23708\n",
      "23717\n",
      "23718\n",
      "23735\n",
      "23736\n",
      "23740\n",
      "23745\n",
      "23749\n",
      "23767\n",
      "23777\n",
      "23783\n",
      "23793\n",
      "23810\n",
      "23818\n",
      "23828\n",
      "23884\n",
      "23894\n",
      "23904\n",
      "23924\n",
      "23935\n",
      "23946\n",
      "23957\n",
      "24158\n",
      "24213\n",
      "24231\n",
      "24269\n",
      "24645\n",
      "24940\n",
      "24986\n",
      "25017\n",
      "25096\n",
      "25202\n",
      "25388\n",
      "25389\n",
      "25401\n",
      "25422\n",
      "25423\n",
      "25424\n",
      "25430\n",
      "25436\n",
      "25490\n",
      "25491\n",
      "25502\n",
      "25524\n",
      "25525\n",
      "25526\n",
      "25537\n",
      "25542\n",
      "25593\n",
      "25628\n",
      "25629\n",
      "25631\n",
      "25654\n",
      "25663\n",
      "25664\n",
      "25668\n",
      "25696\n",
      "25749\n",
      "25784\n",
      "25919\n",
      "26162\n",
      "26173\n",
      "26218\n",
      "26262\n",
      "26268\n",
      "26278\n",
      "26315\n",
      "26335\n",
      "26541\n",
      "26552\n",
      "26574\n",
      "26607\n",
      "26630\n",
      "26637\n",
      "27019\n",
      "27024\n",
      "27041\n",
      "27194\n",
      "27201\n",
      "27235\n",
      "27295\n",
      "27348\n",
      "27365\n",
      "27384\n",
      "27799\n",
      "27844\n",
      "27880\n",
      "27881\n",
      "27883\n",
      "27884\n",
      "27885\n",
      "27887\n",
      "27938\n",
      "28086\n",
      "28370\n",
      "28372\n",
      "28377\n",
      "28612\n",
      "28795\n",
      "28796\n",
      "28799\n",
      "28805\n",
      "28810\n",
      "28811\n",
      "28824\n",
      "28832\n",
      "28837\n",
      "28851\n",
      "28855\n",
      "28856\n",
      "28857\n",
      "28998\n",
      "29062\n",
      "29112\n",
      "29123\n",
      "29124\n",
      "29125\n",
      "29126\n",
      "29128\n",
      "29129\n",
      "29130\n",
      "29131\n",
      "29132\n",
      "29133\n",
      "29134\n",
      "29135\n",
      "29136\n",
      "29137\n",
      "29138\n",
      "29152\n",
      "29157\n",
      "29163\n",
      "29171\n",
      "29180\n",
      "29203\n",
      "29204\n",
      "29209\n",
      "29213\n",
      "29224\n",
      "29229\n",
      "29234\n",
      "29238\n",
      "29246\n",
      "29254\n",
      "29261\n",
      "29265\n",
      "29277\n",
      "29282\n",
      "29296\n",
      "29303\n",
      "29305\n",
      "29310\n",
      "29331\n",
      "29336\n",
      "29341\n",
      "29345\n",
      "29372\n",
      "29378\n",
      "29386\n",
      "29388\n",
      "29404\n",
      "29410\n",
      "29415\n",
      "29420\n",
      "29425\n",
      "29428\n",
      "29430\n",
      "29439\n",
      "29445\n",
      "29456\n",
      "29464\n",
      "29466\n",
      "29474\n",
      "29475\n",
      "29480\n",
      "29485\n",
      "29491\n",
      "29497\n",
      "29499\n",
      "29517\n",
      "29522\n",
      "29526\n",
      "29532\n",
      "29533\n",
      "29540\n",
      "29549\n",
      "29552\n",
      "29575\n",
      "29583\n",
      "29592\n",
      "29593\n",
      "29594\n",
      "29612\n",
      "29614\n",
      "29615\n",
      "29620\n",
      "29625\n",
      "29633\n",
      "29634\n",
      "29635\n",
      "29640\n",
      "29651\n",
      "29671\n",
      "29681\n",
      "29692\n",
      "29703\n",
      "29706\n",
      "29708\n",
      "29716\n",
      "29718\n",
      "29723\n",
      "29727\n",
      "29739\n",
      "29740\n",
      "29745\n",
      "29756\n",
      "29759\n",
      "29760\n",
      "29781\n",
      "29786\n",
      "29788\n",
      "29791\n",
      "29796\n",
      "29800\n",
      "29802\n",
      "29818\n",
      "29823\n",
      "29824\n",
      "29831\n",
      "29839\n",
      "29844\n",
      "29849\n",
      "29858\n",
      "29865\n",
      "29873\n",
      "29894\n",
      "29897\n",
      "29898\n",
      "29949\n",
      "30914\n",
      "30915\n",
      "30921\n",
      "30922\n",
      "31090\n",
      "31111\n",
      "31403\n",
      "31516\n",
      "32057\n",
      "32059\n",
      "32063\n",
      "32066\n",
      "32145\n",
      "32408\n",
      "32420\n",
      "32471\n",
      "32833\n",
      "32924\n",
      "32997\n",
      "32999\n",
      "33005\n",
      "33007\n",
      "33022\n",
      "33043\n",
      "33044\n",
      "33047\n",
      "33048\n",
      "33051\n",
      "33052\n",
      "33055\n",
      "33056\n",
      "33062\n",
      "33101\n",
      "33112\n",
      "33118\n",
      "33119\n",
      "33151\n",
      "33160\n",
      "33161\n",
      "33179\n",
      "33180\n",
      "33185\n",
      "33241\n",
      "33242\n",
      "33246\n",
      "33282\n",
      "33283\n",
      "33284\n",
      "33302\n",
      "33318\n",
      "33323\n",
      "33329\n",
      "33334\n",
      "33340\n",
      "33341\n",
      "33346\n",
      "33351\n",
      "33357\n",
      "33362\n",
      "33363\n",
      "33384\n",
      "33390\n",
      "33395\n",
      "33401\n",
      "33405\n",
      "33412\n",
      "33423\n",
      "33424\n",
      "33445\n",
      "33451\n",
      "33457\n",
      "33462\n",
      "33466\n",
      "33479\n",
      "33484\n",
      "33490\n",
      "33533\n",
      "33552\n",
      "33557\n",
      "33562\n",
      "33595\n",
      "33613\n",
      "33697\n",
      "33749\n",
      "33839\n",
      "33866\n",
      "33872\n",
      "33877\n",
      "33904\n",
      "33915\n",
      "33926\n",
      "33942\n",
      "33963\n",
      "33974\n",
      "34266\n",
      "34290\n",
      "34297\n",
      "34307\n",
      "34312\n",
      "34315\n",
      "34318\n",
      "34323\n",
      "34327\n",
      "34329\n",
      "34334\n",
      "34339\n",
      "34340\n",
      "34344\n",
      "34401\n",
      "34455\n",
      "34489\n",
      "34618\n",
      "34627\n",
      "34629\n",
      "34635\n",
      "34638\n",
      "34641\n",
      "34654\n",
      "34698\n",
      "34807\n",
      "34883\n",
      "35325\n",
      "35332\n",
      "35733\n",
      "35952\n",
      "35993\n",
      "36025\n",
      "36108\n",
      "36119\n",
      "36120\n",
      "36174\n",
      "36175\n",
      "36237\n",
      "36257\n",
      "36548\n",
      "36796\n",
      "36798\n",
      "36799\n",
      "36801\n",
      "36802\n",
      "36803\n",
      "36805\n",
      "36806\n",
      "36807\n",
      "36808\n",
      "36812\n",
      "36813\n",
      "36814\n",
      "36820\n",
      "36821\n",
      "36824\n",
      "36825\n",
      "36829\n",
      "36830\n",
      "36831\n",
      "36833\n",
      "36834\n",
      "36835\n",
      "36836\n",
      "36837\n",
      "36838\n",
      "36839\n",
      "36840\n",
      "36842\n",
      "36843\n",
      "36844\n",
      "36849\n",
      "36850\n",
      "36852\n",
      "36853\n",
      "36856\n",
      "36858\n",
      "36859\n",
      "36862\n",
      "36863\n",
      "36864\n",
      "36866\n",
      "36867\n",
      "36868\n",
      "36870\n",
      "36876\n",
      "36877\n",
      "36878\n",
      "37297\n",
      "37391\n",
      "37525\n",
      "37557\n",
      "37567\n",
      "37819\n",
      "37840\n",
      "37841\n",
      "37855\n",
      "37857\n",
      "37873\n",
      "37874\n",
      "37894\n",
      "37898\n",
      "37906\n",
      "37911\n",
      "37913\n",
      "37920\n",
      "37924\n",
      "37934\n",
      "37940\n",
      "37944\n",
      "37951\n",
      "37953\n",
      "37973\n",
      "37995\n",
      "38022\n",
      "38039\n",
      "38295\n",
      "38438\n",
      "38506\n",
      "38523\n",
      "38672\n",
      "38683\n",
      "38825\n",
      "39754\n",
      "39782\n",
      "40073\n",
      "40213\n",
      "40224\n",
      "40619\n",
      "40652\n",
      "40664\n",
      "40674\n",
      "40677\n",
      "40681\n",
      "40684\n",
      "40685\n",
      "40689\n",
      "40692\n",
      "40720\n",
      "40729\n",
      "40734\n",
      "40748\n",
      "40755\n",
      "40768\n",
      "40771\n",
      "40778\n",
      "40781\n",
      "40785\n",
      "40788\n",
      "40838\n",
      "40847\n",
      "40859\n",
      "40872\n",
      "40878\n",
      "40884\n",
      "40885\n",
      "40886\n",
      "40887\n",
      "41172\n",
      "41218\n",
      "41285\n",
      "41477\n",
      "41490\n",
      "41599\n",
      "41600\n",
      "41601\n",
      "41624\n",
      "41625\n",
      "41626\n",
      "41627\n",
      "41628\n",
      "41632\n",
      "41636\n",
      "41640\n",
      "41645\n",
      "41646\n",
      "41654\n",
      "41655\n",
      "41656\n",
      "41686\n",
      "41705\n",
      "41719\n",
      "41730\n",
      "41731\n",
      "42010\n",
      "42021\n",
      "42385\n",
      "42524\n",
      "42917\n",
      "42974\n",
      "42978\n",
      "42979\n",
      "42982\n",
      "42987\n",
      "42988\n",
      "42998\n",
      "43003\n",
      "43006\n",
      "43011\n",
      "43015\n",
      "43016\n",
      "43022\n",
      "43023\n",
      "43027\n",
      "43029\n",
      "43032\n",
      "43035\n",
      "43041\n",
      "43145\n",
      "43321\n",
      "44061\n",
      "44069\n",
      "44089\n",
      "44093\n",
      "44094\n",
      "44100\n",
      "44108\n",
      "44111\n",
      "44128\n",
      "44129\n",
      "44172\n",
      "44175\n",
      "44198\n",
      "44200\n",
      "44204\n",
      "44344\n",
      "44627\n",
      "44715\n",
      "44716\n",
      "44780\n",
      "44803\n",
      "45390\n",
      "45391\n",
      "45412\n",
      "45417\n",
      "45433\n",
      "45476\n",
      "45514\n",
      "45556\n",
      "45695\n",
      "45700\n",
      "46023\n",
      "46027\n",
      "46033\n",
      "46035\n",
      "46162\n",
      "46164\n",
      "46290\n",
      "46335\n",
      "46367\n",
      "46401\n",
      "46508\n",
      "46523\n",
      "46694\n",
      "46703\n",
      "46704\n",
      "47106\n",
      "47116\n",
      "47180\n",
      "47181\n",
      "47197\n",
      "47264\n",
      "47279\n",
      "47342\n",
      "47565\n",
      "47623\n",
      "47659\n",
      "47661\n",
      "47742\n",
      "47971\n",
      "48033\n",
      "48077\n",
      "48194\n",
      "49145\n",
      "49176\n",
      "49449\n",
      "49450\n",
      "49925\n",
      "49938\n",
      "50014\n",
      "50018\n",
      "50025\n",
      "50027\n",
      "50030\n",
      "50031\n",
      "50036\n",
      "50039\n",
      "50048\n",
      "50060\n",
      "50109\n",
      "50214\n",
      "50298\n",
      "50399\n",
      "50430\n",
      "50483\n",
      "50491\n",
      "50505\n",
      "51610\n",
      "51662\n",
      "51679\n",
      "51689\n",
      "51690\n",
      "51691\n",
      "51692\n",
      "51693\n",
      "51694\n",
      "51695\n",
      "51696\n",
      "51697\n",
      "51698\n",
      "51703\n",
      "51706\n",
      "51707\n",
      "51708\n",
      "51710\n",
      "51711\n",
      "51712\n",
      "51713\n",
      "51783\n",
      "51803\n",
      "51877\n",
      "51907\n",
      "51918\n",
      "51929\n",
      "51955\n",
      "51966\n",
      "51977\n",
      "51983\n",
      "51988\n",
      "52000\n",
      "52015\n",
      "52279\n",
      "52640\n",
      "52688\n",
      "52691\n",
      "52696\n",
      "52735\n",
      "52738\n",
      "52754\n",
      "52758\n",
      "52760\n",
      "52765\n",
      "52768\n",
      "52787\n",
      "52801\n",
      "52815\n",
      "52860\n",
      "52862\n",
      "53110\n",
      "53111\n",
      "53112\n",
      "53117\n",
      "53118\n",
      "53125\n",
      "53128\n",
      "53138\n",
      "53139\n",
      "53145\n",
      "53147\n",
      "53148\n",
      "53158\n",
      "53161\n",
      "53162\n",
      "53163\n",
      "53164\n",
      "53165\n",
      "53166\n",
      "53167\n",
      "53311\n",
      "53319\n",
      "53331\n",
      "53487\n",
      "53507\n",
      "53538\n",
      "53591\n",
      "53601\n",
      "53630\n",
      "53651\n",
      "53677\n",
      "53695\n",
      "53696\n",
      "53713\n",
      "53746\n",
      "53782\n",
      "53787\n",
      "53797\n",
      "53802\n",
      "53812\n",
      "53818\n",
      "53823\n",
      "53828\n",
      "53829\n",
      "53830\n",
      "53834\n",
      "53845\n",
      "53850\n",
      "53854\n",
      "53872\n",
      "53877\n",
      "53881\n",
      "53891\n",
      "53896\n",
      "53903\n",
      "53907\n",
      "53912\n",
      "53914\n",
      "53943\n",
      "53949\n",
      "53951\n",
      "53983\n",
      "53989\n",
      "53990\n",
      "53993\n",
      "53999\n",
      "54010\n",
      "54024\n",
      "54035\n",
      "54041\n",
      "54044\n",
      "54072\n",
      "54074\n",
      "54101\n",
      "54111\n",
      "54113\n",
      "54142\n",
      "54146\n",
      "54160\n",
      "54165\n",
      "54172\n",
      "54198\n",
      "54208\n",
      "54209\n",
      "54241\n",
      "54246\n",
      "54249\n",
      "54257\n",
      "54263\n",
      "54268\n",
      "54269\n",
      "54277\n",
      "54299\n",
      "54305\n",
      "54313\n",
      "54324\n",
      "54363\n",
      "54372\n",
      "54373\n",
      "54404\n",
      "54414\n",
      "54444\n",
      "54446\n",
      "54499\n",
      "54525\n",
      "54527\n",
      "54536\n",
      "54557\n",
      "54566\n",
      "54567\n",
      "54572\n",
      "54600\n",
      "54606\n",
      "54611\n",
      "54621\n",
      "54652\n",
      "54680\n",
      "54701\n",
      "54706\n",
      "54727\n",
      "54737\n",
      "54757\n",
      "54775\n",
      "54777\n",
      "54806\n",
      "54807\n",
      "54817\n",
      "54838\n",
      "54849\n",
      "54898\n",
      "54961\n",
      "54966\n",
      "54971\n",
      "54979\n",
      "55013\n",
      "55053\n",
      "55054\n",
      "55062\n",
      "55125\n",
      "55205\n",
      "55249\n",
      "55613\n",
      "56032\n",
      "56131\n",
      "56319\n",
      "56357\n",
      "56358\n",
      "56359\n",
      "56360\n",
      "56361\n",
      "56362\n",
      "56363\n",
      "56364\n",
      "56366\n",
      "56369\n",
      "56370\n",
      "56371\n",
      "56372\n",
      "56373\n",
      "56374\n",
      "56378\n",
      "56380\n",
      "56383\n",
      "56385\n",
      "56386\n",
      "56388\n",
      "56389\n",
      "56392\n",
      "56393\n",
      "56394\n",
      "56396\n",
      "56398\n",
      "56611\n",
      "56679\n",
      "56751\n",
      "56786\n",
      "57124\n",
      "57125\n",
      "57129\n",
      "57134\n",
      "57135\n",
      "57136\n",
      "57137\n",
      "57138\n",
      "57139\n",
      "57141\n",
      "57143\n",
      "57145\n",
      "57147\n",
      "57149\n",
      "57151\n",
      "57152\n",
      "57154\n",
      "57156\n",
      "57161\n",
      "57164\n",
      "57165\n",
      "57171\n",
      "57172\n",
      "57176\n",
      "57180\n",
      "57181\n",
      "57185\n",
      "57186\n",
      "57187\n",
      "57191\n",
      "57195\n",
      "57196\n",
      "57197\n",
      "57199\n",
      "57200\n",
      "57203\n",
      "57208\n",
      "57209\n",
      "57211\n",
      "57216\n",
      "57219\n",
      "57221\n",
      "57225\n",
      "57226\n",
      "57230\n",
      "57233\n",
      "57238\n",
      "57239\n",
      "57319\n",
      "57335\n",
      "57351\n",
      "57370\n",
      "57376\n",
      "57387\n",
      "57557\n",
      "57558\n",
      "57559\n",
      "57577\n",
      "57617\n",
      "57628\n",
      "57853\n",
      "57869\n",
      "57870\n",
      "57905\n",
      "57940\n",
      "57954\n",
      "57965\n",
      "58038\n",
      "58041\n",
      "58049\n",
      "58064\n",
      "58066\n",
      "58077\n",
      "58083\n",
      "58088\n",
      "58158\n",
      "58160\n",
      "58231\n",
      "58244\n",
      "58414\n",
      "58424\n",
      "58620\n",
      "58634\n",
      "58635\n",
      "58672\n",
      "58705\n",
      "58706\n",
      "58811\n",
      "58827\n",
      "58969\n",
      "58971\n",
      "58973\n",
      "58974\n",
      "58975\n",
      "58976\n",
      "58980\n",
      "58982\n",
      "59175\n",
      "59186\n",
      "59258\n",
      "59260\n",
      "59490\n",
      "59511\n",
      "59631\n",
      "59641\n",
      "59652\n",
      "59655\n",
      "59663\n",
      "59669\n",
      "59795\n",
      "60031\n",
      "60124\n",
      "60125\n",
      "60126\n",
      "60127\n",
      "60129\n",
      "60377\n",
      "60382\n",
      "60388\n",
      "60521\n",
      "60642\n",
      "60754\n",
      "60762\n",
      "60808\n",
      "60829\n",
      "60844\n",
      "60848\n",
      "60904\n",
      "60920\n",
      "60935\n",
      "60945\n",
      "60954\n",
      "60959\n",
      "60976\n",
      "60981\n",
      "61000\n",
      "61004\n",
      "61013\n",
      "61022\n",
      "61030\n",
      "61034\n",
      "61050\n",
      "61063\n",
      "61080\n",
      "61090\n",
      "61095\n",
      "61142\n",
      "61149\n",
      "61151\n",
      "61169\n",
      "61172\n",
      "61225\n",
      "61251\n",
      "61688\n",
      "61690\n",
      "61691\n",
      "61696\n",
      "61698\n",
      "61705\n",
      "61709\n",
      "61713\n",
      "61726\n",
      "61862\n",
      "61866\n",
      "61870\n",
      "61879\n",
      "61880\n",
      "61882\n",
      "61883\n",
      "61888\n",
      "61890\n",
      "61891\n",
      "61892\n",
      "61893\n",
      "61894\n",
      "61896\n",
      "61897\n",
      "61900\n",
      "61901\n",
      "61906\n",
      "61910\n",
      "61914\n",
      "61916\n",
      "61917\n",
      "61918\n",
      "61921\n",
      "61923\n",
      "61924\n",
      "61925\n",
      "61926\n",
      "61927\n",
      "62078\n",
      "62108\n",
      "62114\n",
      "62130\n",
      "62133\n",
      "62150\n",
      "62171\n",
      "62206\n",
      "62247\n",
      "62256\n",
      "62259\n",
      "62287\n",
      "62292\n",
      "62297\n",
      "62389\n",
      "62393\n",
      "62814\n",
      "62833\n",
      "62912\n",
      "62964\n",
      "63061\n",
      "63066\n",
      "63094\n",
      "63296\n",
      "63308\n",
      "63374\n",
      "63382\n",
      "63388\n",
      "63586\n",
      "63988\n",
      "64018\n",
      "64019\n",
      "64025\n",
      "64036\n",
      "64037\n",
      "64096\n",
      "64100\n",
      "64162\n",
      "64168\n",
      "64287\n",
      "64304\n",
      "64305\n",
      "64313\n",
      "64329\n",
      "64331\n",
      "64332\n",
      "64345\n",
      "64386\n",
      "64445\n",
      "64506\n",
      "64510\n",
      "64690\n",
      "65635\n",
      "65720\n",
      "65777\n",
      "65865\n",
      "65969\n",
      "66031\n",
      "66035\n",
      "66045\n",
      "66047\n",
      "66069\n",
      "66089\n",
      "66091\n",
      "66107\n",
      "66138\n"
     ]
    }
   ],
   "source": [
    "worse_train = np.sort(worse_indices_train[4])\n",
    "for i in worse_train:\n",
    "    print int(i)"
   ]
  },
  {
   "cell_type": "code",
   "execution_count": 21,
   "metadata": {
    "collapsed": false,
    "deletable": true,
    "editable": true
   },
   "outputs": [
    {
     "name": "stdout",
     "output_type": "stream",
     "text": [
      "32\n",
      "859\n",
      "1235\n",
      "1998\n",
      "3050\n",
      "3366\n",
      "3445\n",
      "3530\n",
      "3602\n",
      "4344\n",
      "4349\n",
      "5051\n",
      "5170\n",
      "5329\n",
      "5379\n",
      "5390\n",
      "5411\n",
      "5441\n",
      "5453\n",
      "5483\n",
      "5494\n",
      "5519\n",
      "5613\n",
      "6291\n",
      "7508\n",
      "7751\n",
      "8180\n",
      "8613\n",
      "8881\n",
      "9066\n",
      "10203\n",
      "10213\n",
      "10985\n",
      "11042\n",
      "11350\n",
      "12169\n",
      "12993\n",
      "13376\n",
      "13383\n",
      "13490\n",
      "14366\n",
      "14390\n",
      "14552\n",
      "14880\n",
      "15129\n",
      "15327\n",
      "15583\n",
      "15719\n",
      "15788\n",
      "15792\n",
      "15796\n",
      "15805\n",
      "15808\n",
      "15809\n",
      "15879\n",
      "16885\n",
      "16892\n",
      "17045\n",
      "17051\n",
      "17304\n",
      "18432\n",
      "18543\n",
      "18639\n",
      "18667\n",
      "18687\n",
      "18931\n",
      "19033\n",
      "19163\n",
      "19333\n",
      "20125\n",
      "21117\n",
      "21201\n",
      "21217\n",
      "21219\n",
      "21235\n",
      "21245\n",
      "21268\n",
      "21277\n",
      "21313\n",
      "21314\n",
      "21328\n",
      "21342\n",
      "21354\n",
      "21402\n",
      "21744\n",
      "21751\n",
      "21817\n",
      "22058\n",
      "22092\n",
      "23476\n",
      "23570\n",
      "23580\n",
      "23627\n",
      "23632\n",
      "23681\n",
      "23690\n",
      "23729\n",
      "23875\n",
      "23910\n",
      "25322\n",
      "25548\n",
      "26524\n",
      "26929\n",
      "27051\n",
      "27062\n",
      "27383\n",
      "28357\n",
      "28419\n",
      "28850\n",
      "29127\n",
      "29139\n",
      "29140\n",
      "29141\n",
      "29150\n",
      "29153\n",
      "29158\n",
      "29179\n",
      "29240\n",
      "29242\n",
      "29271\n",
      "29285\n",
      "29292\n",
      "29325\n",
      "29326\n",
      "29340\n",
      "29351\n",
      "29357\n",
      "29375\n",
      "29382\n",
      "29397\n",
      "29426\n",
      "29435\n",
      "29436\n",
      "29441\n",
      "29449\n",
      "29516\n",
      "29518\n",
      "29521\n",
      "29523\n",
      "29524\n",
      "29527\n",
      "29550\n",
      "29560\n",
      "29569\n",
      "29572\n",
      "29613\n",
      "29654\n",
      "29664\n",
      "29688\n",
      "29705\n",
      "29713\n",
      "29724\n",
      "29733\n",
      "29737\n",
      "29750\n",
      "29814\n",
      "29815\n",
      "29816\n",
      "29820\n",
      "29829\n",
      "29834\n",
      "29856\n",
      "29859\n",
      "29860\n",
      "29891\n",
      "29901\n",
      "29906\n",
      "29944\n",
      "30092\n",
      "30929\n",
      "31081\n",
      "31202\n",
      "32340\n",
      "33003\n",
      "33008\n",
      "33068\n",
      "33157\n",
      "33223\n",
      "33301\n",
      "33312\n",
      "33344\n",
      "33404\n",
      "33418\n",
      "33485\n",
      "34293\n",
      "34296\n",
      "34308\n",
      "34338\n",
      "34394\n",
      "34683\n",
      "34689\n",
      "34845\n",
      "35508\n",
      "35669\n",
      "35963\n",
      "36587\n",
      "36797\n",
      "36800\n",
      "36815\n",
      "36818\n",
      "36819\n",
      "36822\n",
      "36826\n",
      "36851\n",
      "36854\n",
      "36869\n",
      "36872\n",
      "37561\n",
      "37839\n",
      "37864\n",
      "37917\n",
      "37933\n",
      "37937\n",
      "37945\n",
      "37981\n",
      "37996\n",
      "38023\n",
      "38150\n",
      "38509\n",
      "39217\n",
      "39220\n",
      "39228\n",
      "39249\n",
      "39255\n",
      "39458\n",
      "39507\n",
      "39530\n",
      "39543\n",
      "39553\n",
      "39928\n",
      "40497\n",
      "40693\n",
      "40736\n",
      "40741\n",
      "40791\n",
      "40821\n",
      "40832\n",
      "40883\n",
      "41664\n",
      "41684\n",
      "41715\n",
      "42971\n",
      "42983\n",
      "42997\n",
      "43037\n",
      "43779\n",
      "44080\n",
      "44186\n",
      "44191\n",
      "44203\n",
      "44781\n",
      "46370\n",
      "47151\n",
      "47164\n",
      "47591\n",
      "47630\n",
      "48039\n",
      "49228\n",
      "49312\n",
      "51704\n",
      "51705\n",
      "52669\n",
      "52739\n",
      "52791\n",
      "52861\n",
      "53108\n",
      "53127\n",
      "53129\n",
      "53307\n",
      "53679\n",
      "53718\n",
      "53791\n",
      "53840\n",
      "53861\n",
      "53866\n",
      "53918\n",
      "54027\n",
      "54141\n",
      "54415\n",
      "54856\n",
      "54974\n",
      "55232\n",
      "55254\n",
      "56315\n",
      "56367\n",
      "56377\n",
      "56397\n",
      "56749\n",
      "56777\n",
      "57128\n",
      "57130\n",
      "57144\n",
      "57157\n",
      "57166\n",
      "57189\n",
      "57190\n",
      "57205\n",
      "57207\n",
      "57215\n",
      "57231\n",
      "57234\n",
      "57431\n",
      "57469\n",
      "57886\n",
      "58018\n",
      "58078\n",
      "58103\n",
      "58230\n",
      "58235\n",
      "58622\n",
      "58623\n",
      "58628\n",
      "58809\n",
      "59252\n",
      "59259\n",
      "59479\n",
      "59800\n",
      "59845\n",
      "60006\n",
      "60058\n",
      "60112\n",
      "60128\n",
      "60227\n",
      "60248\n",
      "60357\n",
      "60636\n",
      "60745\n",
      "60883\n",
      "60965\n",
      "61099\n",
      "61143\n",
      "61216\n",
      "61706\n",
      "61744\n",
      "62125\n",
      "62224\n",
      "62275\n",
      "62286\n",
      "62302\n",
      "62330\n",
      "62391\n",
      "62392\n",
      "62554\n",
      "62557\n",
      "62565\n",
      "62600\n",
      "62613\n",
      "62650\n",
      "63042\n",
      "65384\n"
     ]
    }
   ],
   "source": [
    "worse_valid = np.sort(worse_indices_valid[4])\n",
    "for i in worse_valid:\n",
    "    print int(i)"
   ]
  },
  {
   "cell_type": "code",
   "execution_count": null,
   "metadata": {
    "collapsed": true,
    "deletable": true,
    "editable": true
   },
   "outputs": [],
   "source": []
  },
  {
   "cell_type": "code",
   "execution_count": null,
   "metadata": {
    "collapsed": true,
    "deletable": true,
    "editable": true
   },
   "outputs": [],
   "source": []
  },
  {
   "cell_type": "code",
   "execution_count": 22,
   "metadata": {
    "collapsed": false,
    "deletable": true,
    "editable": true
   },
   "outputs": [],
   "source": [
    "\n",
    "#####################################################################################\n",
    "# Stuff for computational graphs and profiling functions (to analyse theano behavior)\n",
    "#####################################################################################\n",
    "\n",
    "# with open('/u/larocste/cortical_layers/train_fct_debugprint_stephanie.txt', 'w') as save_file:\n",
    "#     theano.printing.debugprint(train_fn, file=save_file)\n",
    "\n",
    "# train_fn.profile.summary()\n",
    "\n",
    "# with open('/u/larocste/cortical_layers/test_fct_debugprint_stephanie.txt', 'w') as save_file:\n",
    "#     theano.printing.debugprint(valid_fn, file=save_file)\n",
    "\n",
    "# valid_fn.profile.summary()\n",
    "\n"
   ]
  },
  {
   "cell_type": "code",
   "execution_count": null,
   "metadata": {
    "collapsed": true,
    "deletable": true,
    "editable": true
   },
   "outputs": [],
   "source": []
  },
  {
   "cell_type": "code",
   "execution_count": null,
   "metadata": {
    "collapsed": true,
    "deletable": true,
    "editable": true
   },
   "outputs": [],
   "source": []
  },
  {
   "cell_type": "code",
   "execution_count": null,
   "metadata": {
    "collapsed": true,
    "deletable": true,
    "editable": true
   },
   "outputs": [],
   "source": []
  },
  {
   "cell_type": "code",
   "execution_count": 23,
   "metadata": {
    "collapsed": true,
    "deletable": true,
    "editable": true
   },
   "outputs": [],
   "source": [
    "def show_feature_maps(net, layers_name, subset=25, type = 'grayscale'):\n",
    "    #Show feature maps for the net's layers_name in grayscale or regular plot\n",
    "    #(example below)\n",
    "    \n",
    "    p = lasagne.layers.get_all_param_values(net[layers_name])\n",
    "    nb = min(subset, p[0].shape[0])\n",
    "    if type =='grayscale':\n",
    "        for i in range(subset):\n",
    "            plt.imshow(make_2Darray(p[0][i, 0, :], height = 5), cmap='gray')\n",
    "            plt.figure()\n",
    "    elif type =='regular':\n",
    "        for i in range(subset):\n",
    "            plt.plot(p[0][i, 0, :])\n",
    "            plt.show()\n",
    "        "
   ]
  },
  {
   "cell_type": "code",
   "execution_count": 24,
   "metadata": {
    "collapsed": false,
    "deletable": true,
    "editable": true,
    "scrolled": true
   },
   "outputs": [
    {
     "data": {
      "image/png": "[encoded data removed]",
      "text/plain": [
       "<matplotlib.figure.Figure at 0x7fe6be88e250>"
      ]
     },
     "metadata": {},
     "output_type": "display_data"
    },
    {
     "data": {
      "image/png": "[encoded data removed]",
      "text/plain": [
       "<matplotlib.figure.Figure at 0x7fe6be934d10>"
      ]
     },
     "metadata": {},
     "output_type": "display_data"
    },
    {
     "data": {
      "image/png": "[encoded data removed]",
      "text/plain": [
       "<matplotlib.figure.Figure at 0x7fe6bcdb8fd0>"
      ]
     },
     "metadata": {},
     "output_type": "display_data"
    },
    {
     "data": {
      "image/png": "[encoded data removed]",
      "text/plain": [
       "<matplotlib.figure.Figure at 0x7fe6bccbfd50>"
      ]
     },
     "metadata": {},
     "output_type": "display_data"
    },
    {
     "data": {
      "image/png": "[encoded data removed]",
      "text/plain": [
       "<matplotlib.figure.Figure at 0x7fe6bcc7aad0>"
      ]
     },
     "metadata": {},
     "output_type": "display_data"
    },
    {
     "data": {
      "image/png": "[encoded data removed]",
      "text/plain": [
       "<matplotlib.figure.Figure at 0x7fe6bcbd2090>"
      ]
     },
     "metadata": {},
     "output_type": "display_data"
    },
    {
     "data": {
      "image/png": "[encoded data removed]",
      "text/plain": [
       "<matplotlib.figure.Figure at 0x7fe6bcb57d50>"
      ]
     },
     "metadata": {},
     "output_type": "display_data"
    },
    {
     "data": {
      "image/png": "[encoded data removed]",
      "text/plain": [
       "<matplotlib.figure.Figure at 0x7fe6bcad6690>"
      ]
     },
     "metadata": {},
     "output_type": "display_data"
    },
    {
     "data": {
      "image/png": "[encoded data removed]",
      "text/plain": [
       "<matplotlib.figure.Figure at 0x7fe6bca69650>"
      ]
     },
     "metadata": {},
     "output_type": "display_data"
    },
    {
     "data": {
      "image/png": "[encoded data removed]",
      "text/plain": [
       "<matplotlib.figure.Figure at 0x7fe6bc9e62d0>"
      ]
     },
     "metadata": {},
     "output_type": "display_data"
    },
    {
     "data": {
      "text/plain": [
       "<matplotlib.figure.Figure at 0x7fe6bc8fa0d0>"
      ]
     },
     "metadata": {},
     "output_type": "display_data"
    }
   ],
   "source": [
    "show_feature_maps(net, layers_name = 'relu3_3',subset=10, type='grayscale')"
   ]
  },
  {
   "cell_type": "code",
   "execution_count": 25,
   "metadata": {
    "collapsed": false,
    "deletable": true,
    "editable": true
   },
   "outputs": [
    {
     "data": {
      "image/png": "[encoded data removed]",
      "text/plain": [
       "<matplotlib.figure.Figure at 0x7fe6be88e1d0>"
      ]
     },
     "metadata": {},
     "output_type": "display_data"
    },
    {
     "data": {
      "image/png": "[encoded data removed]",
      "text/plain": [
       "<matplotlib.figure.Figure at 0x7fe6bc866e50>"
      ]
     },
     "metadata": {},
     "output_type": "display_data"
    },
    {
     "data": {
      "image/png": "[encoded data removed]",
      "text/plain": [
       "<matplotlib.figure.Figure at 0x7fe6bc8353d0>"
      ]
     },
     "metadata": {},
     "output_type": "display_data"
    },
    {
     "data": {
      "image/png": "[encoded data removed]",
      "text/plain": [
       "<matplotlib.figure.Figure at 0x7fe6bcab9310>"
      ]
     },
     "metadata": {},
     "output_type": "display_data"
    },
    {
     "data": {
      "image/png": "[encoded data removed]",
      "text/plain": [
       "<matplotlib.figure.Figure at 0x7fe6bca043d0>"
      ]
     },
     "metadata": {},
     "output_type": "display_data"
    },
    {
     "data": {
      "image/png": "[encoded data removed]",
      "text/plain": [
       "<matplotlib.figure.Figure at 0x7fe6bcab91d0>"
      ]
     },
     "metadata": {},
     "output_type": "display_data"
    },
    {
     "data": {
      "image/png": "[encoded data removed]",
      "text/plain": [
       "<matplotlib.figure.Figure at 0x7fe6bce9c2d0>"
      ]
     },
     "metadata": {},
     "output_type": "display_data"
    },
    {
     "data": {
      "image/png": "[encoded data removed]",
      "text/plain": [
       "<matplotlib.figure.Figure at 0x7fe6bd300650>"
      ]
     },
     "metadata": {},
     "output_type": "display_data"
    },
    {
     "data": {
      "image/png": "[encoded data removed]",
      "text/plain": [
       "<matplotlib.figure.Figure at 0x7fe6bc8a1e10>"
      ]
     },
     "metadata": {},
     "output_type": "display_data"
    },
    {
     "data": {
      "image/png": "[encoded data removed]",
      "text/plain": [
       "<matplotlib.figure.Figure at 0x7fe6bcab9750>"
      ]
     },
     "metadata": {},
     "output_type": "display_data"
    }
   ],
   "source": [
    "show_feature_maps(net, 'relu3_3',subset =10, type='regular')"
   ]
  },
  {
   "cell_type": "code",
   "execution_count": null,
   "metadata": {
    "collapsed": true,
    "deletable": true,
    "editable": true
   },
   "outputs": [],
   "source": []
  },
  {
   "cell_type": "code",
   "execution_count": null,
   "metadata": {
    "collapsed": true,
    "deletable": true,
    "editable": true
   },
   "outputs": [],
   "source": []
  },
  {
   "cell_type": "code",
   "execution_count": 26,
   "metadata": {
    "collapsed": true,
    "deletable": true,
    "editable": true
   },
   "outputs": [],
   "source": [
    "def plot_error_acc_curves(err_train = err_train, err_valid = err_valid,\n",
    "                    acc_train = acc_train, acc_valid=acc_valid, jacc_valid =jacc_valid):\n",
    "    plt.title('Cost error')\n",
    "    plt.plot(err_train, 'blue', label='cost train')\n",
    "    plt.plot(err_valid, 'orange', label='cost valid')\n",
    "    #plt.ylim((0,2))\n",
    "    plt.legend()\n",
    "    plt.figure()\n",
    "    \n",
    "    plt.title('Accuracy')\n",
    "    plt.plot(acc_train, 'blue', label='acc train')\n",
    "    plt.plot(acc_valid, 'orange', label='acc valid')\n",
    "    plt.plot(jacc_valid, 'green', label='jaccard valid')\n",
    "    plt.legend()\n",
    "    \n",
    "    \n",
    "    \n",
    "    "
   ]
  },
  {
   "cell_type": "code",
   "execution_count": 27,
   "metadata": {
    "collapsed": false,
    "deletable": true,
    "editable": true
   },
   "outputs": [
    {
     "data": {
      "image/png": "[encoded data removed]",
      "text/plain": [
       "<matplotlib.figure.Figure at 0x7fe6be934b10>"
      ]
     },
     "metadata": {},
     "output_type": "display_data"
    },
    {
     "data": {
      "image/png": "[encoded data removed]",
      "text/plain": [
       "<matplotlib.figure.Figure at 0x7fe6c21903d0>"
      ]
     },
     "metadata": {},
     "output_type": "display_data"
    }
   ],
   "source": [
    "plot_error_acc_curves()"
   ]
  },
  {
   "cell_type": "markdown",
   "metadata": {
    "deletable": true,
    "editable": true
   },
   "source": [
    "## Ground truth labels colors :\n",
    "\n",
    "- Purple : label 0 (padding)\n",
    "- Purple/blue : label 1 (layers 1)\n",
    "- blue : label 2 (layer 2-3)\n",
    "- turkoise : label 3 (layers 4 ... almost never present in the predicted labels)\n",
    "- green : label 4 (layer 5-6)\n",
    "- yellow : label 5 (nonsense)"
   ]
  },
  {
   "cell_type": "markdown",
   "metadata": {
    "deletable": true,
    "editable": true
   },
   "source": [
    "### Thoughts after version 2\n",
    "\n",
    "- Batch normalization (BN) helped a lot with the accuracy. 25% to 80% accuracy by adding BN to each convlayer\n",
    "- Label 3 seems really hard to predict. Often predicted as label 4 \n",
    "    - true labels distribution (per class) [4607, 1539, 5637, 976, 6041, 1200]\n",
    "    - pred labels distribution (per class) [4980, 1470, 6702, 0, 6188, 660]\n",
    "- Can't learn (yet) the nonsense label\n",
    "- Learning rate 0.005 seems too big --lot of fluctuations in the cost error (0.001 seems fine, maybe lower could be good too)"
   ]
  },
  {
   "cell_type": "markdown",
   "metadata": {
    "deletable": true,
    "editable": true
   },
   "source": [
    "### Thoughts after version 3\n",
    "\n",
    "- Can now achieve 93-95% training accuracy, 90-91% validation accuracy\n",
    "- Can now predict class 3 and nonsense labels (better than in version 2)\n",
    "\n",
    "- Per sample accuracy as early stopping criterion? \n",
    "- Use raw+smooth? (instead of just raw)\n",
    "- Try to simplify the model (simpler the better)"
   ]
  },
  {
   "cell_type": "markdown",
   "metadata": {
    "deletable": true,
    "editable": true
   },
   "source": [
    "### Thoughts after version 4\n",
    "\n",
    "- Using raw+smooth (i.e. 2 in_channels) requires use_threads=False. If set to True, each epoch takes ~500sec instead of ~300sec. Back to ~300sec when set to False. When only 1 in_channel, what is faster? (Does it change something)."
   ]
  },
  {
   "cell_type": "markdown",
   "metadata": {
    "deletable": true,
    "editable": true
   },
   "source": [
    "## Best hyper-parameters so far\n",
    "\n",
    "- n_filters = 64\n",
    "- filter_size = [7, 15, 25, 49]\n",
    "- depth = 4\n",
    "- weight_decay = 0.001\n",
    "- num epochs max = 500\n",
    "- max patience = 25\n",
    "- learning rate initial value = 0.0005\n",
    "- smooth or raw ? raw\n",
    "- batch size = [500, 500, 1]\n",
    "- shuffle at each epoch ? True n_subset = 0\n",
    "\n",
    "\n",
    "### Achieves\n",
    "\n",
    "- Training cost : 0.22\n",
    "- Validation cost : 0.23\n",
    "\n",
    "- Training accuracy (per pixel) : 94.1%\n",
    "- Validation accuracy (per pixel) : 91.4%\n",
    "- Validation jaccard accuracy : 80.6%\n",
    "\n",
    "## Better hyperparameters have been found (in terms of % of the sample that achives >90%)"
   ]
  },
  {
   "cell_type": "code",
   "execution_count": null,
   "metadata": {
    "collapsed": true,
    "deletable": true,
    "editable": true
   },
   "outputs": [],
   "source": []
  }
 ],
 "metadata": {
  "kernelspec": {
   "display_name": "Python 2",
   "language": "python",
   "name": "python2"
  },
  "language_info": {
   "codemirror_mode": {
    "name": "ipython",
    "version": 2
   },
   "file_extension": ".py",
   "mimetype": "text/x-python",
   "name": "python",
   "nbconvert_exporter": "python",
   "pygments_lexer": "ipython2",
   "version": "2.7.13"
  }
 },
 "nbformat": 4,
 "nbformat_minor": 2
}
