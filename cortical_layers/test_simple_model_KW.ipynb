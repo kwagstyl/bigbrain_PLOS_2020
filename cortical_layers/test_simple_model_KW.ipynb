{
 "cells": [
  {
   "cell_type": "code",
   "execution_count": 1,
   "metadata": {
    "collapsed": false,
    "deletable": true,
    "editable": true
   },
   "outputs": [
    {
     "name": "stderr",
     "output_type": "stream",
     "text": [
      "WARNING (theano.sandbox.cuda): The cuda backend is deprecated and will be removed in the next release (v0.10).  Please switch to the gpuarray backend. You can get more information about how to switch at this URL:\n",
      " https://github.com/Theano/Theano/wiki/Converting-to-the-new-gpu-back-end%28gpuarray%29\n",
      "\n",
      "Using gpu device 0: TITAN X (Pascal) (CNMeM is disabled, cuDNN not available)\n"
     ]
    }
   ],
   "source": [
    "#!/usr/bin/env python2\n",
    "#Inspire du fichier train_fcn8.py\n",
    "\n",
    "import os\n",
    "import argparse\n",
    "import time\n",
    "from getpass import getuser\n",
    "from distutils.dir_util import copy_tree\n",
    "\n",
    "import numpy as np\n",
    "import random\n",
    "import theano\n",
    "import theano.tensor as T\n",
    "from theano import config\n",
    "import lasagne\n",
    "from lasagne.regularization import regularize_network_params\n",
    "from lasagne.objectives import categorical_crossentropy\n",
    "\n",
    "import PIL.Image as Image\n",
    "from matplotlib import pyplot as plt\n",
    "from matplotlib import colors\n",
    "from matplotlib import gridspec\n",
    "\n",
    "from fcn_1D_general import buildFCN_1D\n",
    "from metrics import jaccard, accuracy, crossentropy\n",
    "from cortical_layers import CorticalLayersDataset\n",
    "from simple_model_1path import build_simple_model\n",
    "\n",
    "%matplotlib inline"
   ]
  },
  {
   "cell_type": "code",
   "execution_count": 2,
   "metadata": {
    "collapsed": true,
    "deletable": true,
    "editable": true
   },
   "outputs": [],
   "source": [
    "input_var = T.tensor3('input')"
   ]
  },
  {
   "cell_type": "code",
   "execution_count": null,
   "metadata": {
    "collapsed": true,
    "deletable": true,
    "editable": true
   },
   "outputs": [],
   "source": []
  },
  {
   "cell_type": "code",
   "execution_count": 3,
   "metadata": {
    "collapsed": true,
    "deletable": true,
    "editable": true
   },
   "outputs": [],
   "source": [
    "exp_name = 'simple_model_lrate=0.0005_fil=64_fsizes=[25]_depth=8_data=both_decay=0.001_pat=25'\n",
    "\n",
    "\n",
    "#Model hyperparameters\n",
    "n_filters = 64\n",
    "filter_size = [25]  \n",
    "depth  = 8\n",
    "data_augmentation={} #{'horizontal_flip': True, 'fill_mode':'constant'}\n",
    "block = 'bn_relu_conv'\n",
    "\n",
    "#Training loop hyperparameters\n",
    "weight_decay=0.001\n",
    "num_epochs=500\n",
    "max_patience=25\n",
    "resume=False\n",
    "learning_rate_value = 0.0005\n",
    "#learning rate is defined below as a theano variable.\n",
    "#Hyperparameters for the dataset loader\n",
    "batch_size=[1000,1000,1]\n",
    "smooth_or_raw = 'both'\n",
    "shuffle_at_each_epoch = True \n",
    "minibatches_subset = 5\n",
    "n_layers=6"
   ]
  },
  {
   "cell_type": "code",
   "execution_count": null,
   "metadata": {
    "collapsed": true,
    "deletable": true,
    "editable": true
   },
   "outputs": [],
   "source": []
  },
  {
   "cell_type": "code",
   "execution_count": 4,
   "metadata": {
    "collapsed": false,
    "deletable": true,
    "editable": true
   },
   "outputs": [],
   "source": [
    "net = build_simple_model(input_var, filter_size = filter_size)"
   ]
  },
  {
   "cell_type": "code",
   "execution_count": 5,
   "metadata": {
    "collapsed": true,
    "deletable": true,
    "editable": true
   },
   "outputs": [],
   "source": [
    "SAVEPATH = '/data1/data/kwagstyl/bigbrain/cortical_layers/'\n",
    "LOADPATH = '/data1/data/kwagstyl/bigbrain/cortical_layers/'\n",
    "WEIGHTS_PATH = LOADPATH"
   ]
  },
  {
   "cell_type": "code",
   "execution_count": 6,
   "metadata": {
    "collapsed": false,
    "deletable": true,
    "editable": true
   },
   "outputs": [],
   "source": [
    "build_model_name = False\n",
    "\n",
    "if build_model_name :\n",
    "    exp_name = 'simple_model'\n",
    "    exp_name += '_lrate=' + str(learning_rate_value)\n",
    "    exp_name += '_fil=' + str(n_filters)\n",
    "    exp_name += '_fsizes=' + str(filter_size)\n",
    "    #uncomment this line if new version of train_function\n",
    "    exp_name += '_depth=' + str(depth)\n",
    "    exp_name += '_' + smooth_or_raw\n",
    "    exp_name += '_decay=' + str(weight_decay)\n",
    "    exp_name += '_pat=' + str(max_patience)\n",
    "    exp_name += ('_noshuffle'+str(minibatches_subset)+'batch') if not shuffle_at_each_epoch else ''\n",
    "\n",
    "    print exp_name\n",
    "    \n",
    "    "
   ]
  },
  {
   "cell_type": "code",
   "execution_count": null,
   "metadata": {
    "collapsed": false,
    "deletable": true,
    "editable": true
   },
   "outputs": [],
   "source": []
  },
  {
   "cell_type": "code",
   "execution_count": 7,
   "metadata": {
    "collapsed": false,
    "deletable": true,
    "editable": true
   },
   "outputs": [],
   "source": [
    "dataset = '6cortical_layers_all'\n",
    "weight_path = os.path.join(WEIGHTS_PATH, dataset, exp_name, 'new_fcn1D_model_best.npz')"
   ]
  },
  {
   "cell_type": "code",
   "execution_count": null,
   "metadata": {
    "collapsed": true,
    "deletable": true,
    "editable": true
   },
   "outputs": [],
   "source": []
  },
  {
   "cell_type": "code",
   "execution_count": 8,
   "metadata": {
    "collapsed": false,
    "deletable": true,
    "editable": true
   },
   "outputs": [],
   "source": [
    "#\n",
    "# Build dataset iterator\n",
    "#\n",
    "if smooth_or_raw =='both':\n",
    "    nb_in_channels = 2\n",
    "    use_threads = False\n",
    "else:\n",
    "    nb_in_channels = 1\n",
    "    use_threads = True\n",
    "\n",
    "train_iter = CorticalLayersDataset(\n",
    "    which_set='train',\n",
    "    smooth_or_raw = smooth_or_raw,\n",
    "    batch_size=batch_size[0],\n",
    "    data_augm_kwargs=data_augmentation,\n",
    "    shuffle_at_each_epoch = shuffle_at_each_epoch,\n",
    "    return_one_hot=False,\n",
    "    return_01c=False,\n",
    "    return_list=False,\n",
    "    use_threads=use_threads,\n",
    "    preload=True,\n",
    "    n_layers=n_layers)\n",
    "\n",
    "val_iter = CorticalLayersDataset(\n",
    "    which_set='valid',\n",
    "    smooth_or_raw = smooth_or_raw,\n",
    "    batch_size=batch_size[1],\n",
    "    shuffle_at_each_epoch = shuffle_at_each_epoch,\n",
    "    return_one_hot=False,\n",
    "    return_01c=False,\n",
    "    return_list=False,\n",
    "    use_threads=use_threads,\n",
    "    preload=True,\n",
    "    n_layers=n_layers)\n",
    "\n",
    "test_iter = None\n",
    "\n",
    "\n",
    "n_batches_train = train_iter.nbatches\n",
    "n_batches_val = val_iter.nbatches\n",
    "n_batches_test = test_iter.nbatches if test_iter is not None else 0\n",
    "n_classes = train_iter.non_void_nclasses\n",
    "void_labels = train_iter.void_labels\n",
    "\n"
   ]
  },
  {
   "cell_type": "code",
   "execution_count": 9,
   "metadata": {
    "collapsed": true,
    "deletable": true,
    "editable": true
   },
   "outputs": [],
   "source": [
    "#\n",
    "# Define symbolic variables\n",
    "#\n",
    "input_var = T.tensor3('input_var') #n_example*nb_in_channels*ray_size\n",
    "target_var = T.ivector('target_var') #n_example*ray_size\n",
    "\n",
    "learn_step=  theano.shared(np.array(learning_rate_value, dtype=theano.config.floatX))"
   ]
  },
  {
   "cell_type": "code",
   "execution_count": 10,
   "metadata": {
    "collapsed": false,
    "deletable": true,
    "editable": true
   },
   "outputs": [
    {
     "name": "stdout",
     "output_type": "stream",
     "text": [
      "Done building model\n",
      "Done assigning weights\n"
     ]
    }
   ],
   "source": [
    "#\n",
    "# Build model and assign trained weights\n",
    "#\n",
    "simple_net_output, net = build_simple_model(input_var,\n",
    "                    filter_size = filter_size,\n",
    "                    n_filters = n_filters,\n",
    "                    depth = depth,\n",
    "                    block= block,\n",
    "                    nb_in_channels = nb_in_channels,\n",
    "                    n_classes = n_classes)\n",
    "#must be set to 1 for the new models\n",
    "                    #in the last version, last_filter_size was uncorrectly set to 3\n",
    "                    #so, in order to recover/resassign weights correctly, must be a\n",
    "                    #\"new\" parameter\n",
    "\n",
    "print 'Done building model'\n",
    "\n",
    "with np.load(weight_path) as f:\n",
    "    param_values = [f['arr_%d' % i] for i in range(len(f.files))]\n",
    "    \n",
    "nlayers=len(lasagne.layers.get_all_params(simple_net_output))\n",
    "lasagne.layers.set_all_param_values(simple_net_output, param_values[:nlayers])\n",
    "\n",
    "print 'Done assigning weights'"
   ]
  },
  {
   "cell_type": "code",
   "execution_count": null,
   "metadata": {
    "collapsed": false,
    "deletable": true,
    "editable": true
   },
   "outputs": [],
   "source": []
  },
  {
   "cell_type": "code",
   "execution_count": null,
   "metadata": {
    "collapsed": true,
    "deletable": true,
    "editable": true
   },
   "outputs": [],
   "source": []
  },
  {
   "cell_type": "code",
   "execution_count": null,
   "metadata": {
    "collapsed": true,
    "deletable": true,
    "editable": true
   },
   "outputs": [],
   "source": []
  },
  {
   "cell_type": "code",
   "execution_count": 11,
   "metadata": {
    "collapsed": false,
    "deletable": true,
    "editable": true
   },
   "outputs": [
    {
     "name": "stdout",
     "output_type": "stream",
     "text": [
      "Defining and compiling test functions\n",
      "Done\n"
     ]
    }
   ],
   "source": [
    "print \"Defining and compiling test functions\"\n",
    "test_prediction = lasagne.layers.get_output(simple_net_output[0],\n",
    "                                            deterministic=True)\n",
    "test_loss = categorical_crossentropy(test_prediction, target_var)\n",
    "test_loss = test_loss.mean()\n",
    "test_acc, test_acc_per_sample =accuracy(test_prediction, target_var, void_labels)\n",
    "test_jacc = jaccard(test_prediction, target_var, n_classes)\n",
    "\n",
    "test_fn = theano.function([input_var, target_var], [test_loss, test_acc,\n",
    "                                                   test_jacc, test_acc_per_sample])\n",
    "print \"Done\""
   ]
  },
  {
   "cell_type": "code",
   "execution_count": null,
   "metadata": {
    "collapsed": true,
    "deletable": true,
    "editable": true
   },
   "outputs": [],
   "source": []
  },
  {
   "cell_type": "code",
   "execution_count": 12,
   "metadata": {
    "collapsed": false,
    "deletable": true,
    "editable": true
   },
   "outputs": [],
   "source": [
    "#Function computing the prediction with current parameters (for visualization)\n",
    "pred = theano.function([input_var], lasagne.layers.get_output(net['probs_reshape'],\n",
    "                                            deterministic=True))"
   ]
  },
  {
   "cell_type": "code",
   "execution_count": 13,
   "metadata": {
    "collapsed": true,
    "deletable": true,
    "editable": true
   },
   "outputs": [],
   "source": [
    "#To visualize the ray \n",
    "def make_2Darray(arr, height = 25):\n",
    "    arr = np.reshape(arr, (1,arr.shape[0]))\n",
    "    x = np.repeat(arr, height, 0)\n",
    "    return x"
   ]
  },
  {
   "cell_type": "code",
   "execution_count": null,
   "metadata": {
    "collapsed": false
   },
   "outputs": [],
   "source": []
  },
  {
   "cell_type": "code",
   "execution_count": 14,
   "metadata": {
    "collapsed": false
   },
   "outputs": [],
   "source": [
    "def profile2indices(profile):\n",
    "    if 8 in profile or len(set(profile))<5:\n",
    "        #If nonsense profile, return all indices as zeros.\n",
    "        Indices=[0,0,0,0,0,0,0]\n",
    "        return Indices\n",
    "    else:\n",
    "        try :\n",
    "            if profile.index(0) < 100:\n",
    "                profile[0:profile.index(0)]=[0]*profile.index(0)\n",
    "                if 8 in profile or len(set(profile))<5:\n",
    "                    Indices=[0,0,0,0,0,0,0]\n",
    "                    return Indices\n",
    "        except ValueError:\n",
    "            pass\n",
    "        try :\n",
    "        #Get index of first layer 1\n",
    "            Indices=[profile.index(1)]\n",
    "        except ValueError:\n",
    "        #If no layer 1s, get first nonzero,\n",
    "        #  sometimes layer 1 is ripped off but we still want locations of other layers\n",
    "            Indices=[next((i for i, x in enumerate(profile) if x), None)]\n",
    "        #then set all before that to 1, to get rid of some nonsense\n",
    "        profile[0:Indices[0]]=[1]*Indices[0]\n",
    "        try :\n",
    "            Indices.append(profile.index(2))\n",
    "        except ValueError:\n",
    "            try :\n",
    "                Indices.append(len(profile)-profile[::-1].index(1)-1)\n",
    "            except ValueError:\n",
    "                return [0,0,0,0,0,0,0]\n",
    "        #If no layer 2\n",
    "        #then set all before that to 2,\n",
    "        profile[0:Indices[1]]=[2]*Indices[1]\n",
    "        try :\n",
    "            Indices.append(profile.index(3))\n",
    "        except ValueError:\n",
    "        #If no layer 3\n",
    "            try :\n",
    "                Indices.append(profile.index(4))\n",
    "            except ValueError:\n",
    "                #if no layer 3 or 4, nonsense\n",
    "                try :\n",
    "                    Indices.append(profile.index(5))\n",
    "                except ValueError:\n",
    "#                    print(\"error b\")\n",
    "                    return [0,0,0,0,0,0,0]\n",
    "        profile[0:Indices[2]]=[3]*Indices[2]\n",
    "        try :\n",
    "            Indices.append(profile.index(4))\n",
    "        except ValueError:\n",
    "            Indices.append(len(profile)-profile[::-1].index(3)-1)\n",
    "        profile[0:Indices[3]]=[4]*Indices[3]\n",
    "        try :\n",
    "            Indices.append(profile.index(5))\n",
    "        except ValueError:\n",
    "            Indices.append(len(profile)-profile[::-1].index(4)-1)\n",
    "        profile[0:Indices[4]]=[5]*Indices[4]\n",
    "        try :\n",
    "            Indices.append(profile.index(6))\n",
    "        except ValueError:\n",
    "            Indices.append(len(profile)-profile[::-1].index(5)-1)\n",
    "        #get last occurance of index 4.\n",
    "        try:\n",
    "            Indices.append(len(profile)-profile[::-1].index(6)-1)\n",
    "        except ValueError:\n",
    "            Indices.append(len(profile)-profile[::-1].index(5)-1)\n",
    "    return Indices;\n"
   ]
  },
  {
   "cell_type": "code",
   "execution_count": 21,
   "metadata": {
    "collapsed": true
   },
   "outputs": [],
   "source": [
    "hemi='left'\n",
    "Raw = '/data1/data/kwagstyl/bigbrain/TestData/raw_'+hemi+'.txt'\n",
    "Geo = '/data1/data/kwagstyl/bigbrain/TestData/geo_'+hemi+'.txt'\n"
   ]
  },
  {
   "cell_type": "code",
   "execution_count": 22,
   "metadata": {
    "collapsed": true
   },
   "outputs": [],
   "source": [
    "geo=np.loadtxt(Geo)\n",
    "raw=np.loadtxt(Raw)\n"
   ]
  },
  {
   "cell_type": "code",
   "execution_count": 23,
   "metadata": {
    "collapsed": false
   },
   "outputs": [],
   "source": [
    "data=np.hstack([geo,raw])"
   ]
  },
  {
   "cell_type": "code",
   "execution_count": 24,
   "metadata": {
    "collapsed": true
   },
   "outputs": [],
   "source": [
    "Data=np.reshape(data,[655362,2,200],order='A').astype('float32')"
   ]
  },
  {
   "cell_type": "code",
   "execution_count": 25,
   "metadata": {
    "collapsed": false
   },
   "outputs": [
    {
     "name": "stdout",
     "output_type": "stream",
     "text": [
      "0.0% done\n",
      "1.52587424965% done\n",
      "3.0517484993% done\n",
      "4.57762274895% done\n",
      "6.10349699861% done\n",
      "7.62937124826% done\n",
      "9.15524549791% done\n",
      "10.6811197476% done\n",
      "12.2069939972% done\n",
      "13.7328682469% done\n",
      "15.2587424965% done\n",
      "16.7846167462% done\n",
      "18.3104909958% done\n",
      "19.8363652455% done\n",
      "21.3622394951% done\n",
      "22.8881137448% done\n",
      "24.4139879944% done\n",
      "25.9398622441% done\n",
      "27.4657364937% done\n",
      "28.9916107434% done\n",
      "30.517484993% done\n",
      "32.0433592427% done\n",
      "33.5692334923% done\n",
      "35.095107742% done\n",
      "36.6209819916% done\n",
      "38.1468562413% done\n",
      "39.6727304909% done\n",
      "41.1986047406% done\n",
      "42.7244789902% done\n",
      "44.2503532399% done\n",
      "45.7762274895% done\n",
      "47.3021017392% done\n",
      "48.8279759888% done\n",
      "50.3538502385% done\n",
      "51.8797244881% done\n",
      "53.4055987378% done\n",
      "54.9314729874% done\n",
      "56.4573472371% done\n",
      "57.9832214868% done\n",
      "59.5090957364% done\n",
      "61.0349699861% done\n",
      "62.5608442357% done\n",
      "64.0867184854% done\n",
      "65.612592735% done\n",
      "67.1384669847% done\n",
      "68.6643412343% done\n",
      "70.190215484% done\n",
      "71.7160897336% done\n",
      "73.2419639833% done\n",
      "74.7678382329% done\n",
      "76.2937124826% done\n",
      "77.8195867322% done\n",
      "79.3454609819% done\n",
      "80.8713352315% done\n",
      "82.3972094812% done\n",
      "83.9230837308% done\n",
      "85.4489579805% done\n",
      "86.9748322301% done\n",
      "88.5007064798% done\n",
      "90.0265807294% done\n",
      "91.5524549791% done\n",
      "93.0783292287% done\n",
      "94.6042034784% done\n",
      "96.130077728% done\n",
      "97.6559519777% done\n",
      "99.1818262273% done\n"
     ]
    }
   ],
   "source": [
    "Dividers=np.round(np.linspace(0,655362,30)).astype(int)\n",
    "Indices=np.zeros((655362,7))\n",
    "\n",
    "k=-1\n",
    "for D in range(len(Dividers)-1):\n",
    "    predicted_labels=np.argmax(pred(Data[Dividers[D]:Dividers[D+1]]), axis=2)\n",
    "    for p in predicted_labels:\n",
    "        k+=1\n",
    "        Is=profile2indices(p.tolist())\n",
    "        Indices[k,:]=Is\n",
    "        if k % 10000 ==0:\n",
    "            print str(100* k / 655362.0) + '% done'"
   ]
  },
  {
   "cell_type": "code",
   "execution_count": 26,
   "metadata": {
    "collapsed": false
   },
   "outputs": [],
   "source": [
    "np.savetxt(''+hemi+'_indices.txt',Indices,fmt='%i')"
   ]
  },
  {
   "cell_type": "code",
   "execution_count": null,
   "metadata": {
    "collapsed": false,
    "deletable": true,
    "editable": true,
    "scrolled": true
   },
   "outputs": [],
   "source": [
    "\n",
    "#import time\n",
    "#run model\n",
    "k=-1\n",
    "Indices=np.zeros((655362,7))\n",
    "with open(Raw,'r') as R, open(Geo,'r') as G:\n",
    "    while True:\n",
    "        try:\n",
    "            k+=1\n",
    "            rawline=R.readline().rstrip().split(' ')\n",
    "            geoline=G.readline().rstrip().split(' ')\n",
    "            raw=map( float, rawline)\n",
    "            geo=map(float, geoline )\n",
    "            data=(geo, raw)\n",
    "            Data=np.reshape(data,[1,2,200]).astype('float32')\n",
    "            predicted_labels = np.argmax(pred(Data), axis=2)\n",
    "            Is=profile2indices(predicted_labels.tolist()[0])\n",
    "            Indices[k,:]=Is\n",
    "            if k % 10000 ==0:\n",
    "                print str(100* k / 655362.0) + '% done'\n",
    "            elif not isinstance(Is[4],int):\n",
    "                print k\n",
    "                print \"not index error\"\n",
    "                break\n",
    "        except ValueError:\n",
    "            print \"finished if \" + str(k)+ \"=655362\"\n",
    "            print \"otherwise error\"\n",
    "            break\n",
    "#predicted_labels = np.argmax(pred(Data), axis=2)\n",
    "\n",
    "\n"
   ]
  },
  {
   "cell_type": "code",
   "execution_count": 260,
   "metadata": {
    "collapsed": false
   },
   "outputs": [
    {
     "data": {
      "text/plain": [
       "array([[5, 5, 5, 5, 5, 5, 5, 5, 5, 5, 5, 5, 5, 5, 5, 5, 5, 5, 5, 5, 5, 6,\n",
       "        6, 6, 6, 6, 6, 6, 6, 1, 1, 1, 1, 1, 1, 1, 1, 1, 1, 1, 1, 1, 1, 1,\n",
       "        3, 3, 3, 3, 3, 3, 5, 5, 5, 5, 5, 5, 5, 5, 5, 5, 5, 5, 5, 5, 0, 0,\n",
       "        0, 0, 0, 0, 0, 0, 0, 0, 0, 0, 0, 0, 0, 0, 0, 0, 0, 0, 0, 0, 0, 0,\n",
       "        0, 0, 0, 0, 0, 0, 0, 0, 0, 0, 0, 0, 0, 0, 0, 0, 0, 0, 0, 0, 0, 0,\n",
       "        0, 0, 0, 0, 0, 0, 0, 0, 0, 0, 0, 0, 0, 0, 0, 0, 0, 0, 0, 0, 0, 0,\n",
       "        0, 0, 0, 0, 0, 0, 0, 0, 0, 0, 0, 0, 0, 0, 0, 0, 0, 0, 0, 0, 0, 0,\n",
       "        0, 0, 0, 0, 0, 0, 0, 0, 0, 0, 0, 0, 0, 0, 0, 0, 0, 0, 0, 0, 0, 0,\n",
       "        0, 0, 0, 0, 0, 0, 0, 0, 0, 0, 0, 0, 0, 0, 0, 0, 0, 0, 0, 0, 0, 0,\n",
       "        0, 0]])"
      ]
     },
     "execution_count": 260,
     "metadata": {},
     "output_type": "execute_result"
    }
   ],
   "source": [
    "predicted_labels"
   ]
  },
  {
   "cell_type": "code",
   "execution_count": 17,
   "metadata": {
    "collapsed": false
   },
   "outputs": [],
   "source": [
    "np.savetxt(''+hemi+'_indices.txt',Indices,fmt='%i')"
   ]
  },
  {
   "cell_type": "code",
   "execution_count": 106,
   "metadata": {
    "collapsed": false
   },
   "outputs": [],
   "source": [
    "#trouble shooting\n",
    "\n",
    "R=open(Raw,'r')\n",
    "G=open(Geo,'r')\n"
   ]
  },
  {
   "cell_type": "code",
   "execution_count": 234,
   "metadata": {
    "collapsed": false
   },
   "outputs": [],
   "source": [
    "k=-1\n",
    "while k!=1309286:\n",
    "    rawline=R.readline().rstrip().split(' ')\n",
    "    geoline=G.readline().rstrip().split(' ')\n",
    "    k+=1\n",
    "    raw=map( float, rawline)\n",
    "    geo=map(float, geoline )\n",
    "    data=(geo, raw)\n",
    "    Data=np.reshape(data,[1,2,200]).astype('float32')\n",
    "    predicted_labels = np.argmax(pred(Data), axis=2)\n",
    "    I=profile2indices(predicted_labels.tolist()[0])\n",
    "    if I==[0,0,0,0,0,0,0]:\n",
    "        break"
   ]
  },
  {
   "cell_type": "code",
   "execution_count": 262,
   "metadata": {
    "collapsed": false
   },
   "outputs": [],
   "source": [
    "I=profile2indices(predicted_labels.tolist()[0])"
   ]
  },
  {
   "cell_type": "code",
   "execution_count": 263,
   "metadata": {
    "collapsed": false
   },
   "outputs": [
    {
     "data": {
      "text/plain": [
       "[0, 0, 0, 0, 0, 0, 0]"
      ]
     },
     "execution_count": 263,
     "metadata": {},
     "output_type": "execute_result"
    }
   ],
   "source": [
    "I"
   ]
  },
  {
   "cell_type": "code",
   "execution_count": 256,
   "metadata": {
    "collapsed": false
   },
   "outputs": [
    {
     "data": {
      "image/png": "[encoded data removed]",
      "text/plain": [
       "<matplotlib.figure.Figure at 0x7fd8e70fbd90>"
      ]
     },
     "metadata": {},
     "output_type": "display_data"
    }
   ],
   "source": [
    "#plot profiles\n",
    "f, axarr = plt.subplots(3, sharex=True)\n",
    "axarr[0].plot(raw)\n",
    "axarr[1].plot(geo)\n",
    "axarr[2].plot(predicted_labels[0])\n",
    "for i in I:\n",
    "    axarr[0].axvline(x=i,color=[i/200,i/200,i/200])\n",
    "    axarr[1].axvline(x=i,color=[i/200,i/200,i/200])\n",
    "    axarr[2].axvline(x=i,color=[i/200,i/200,i/200])\n",
    "    "
   ]
  },
  {
   "cell_type": "code",
   "execution_count": 190,
   "metadata": {
    "collapsed": false,
    "deletable": true,
    "editable": true
   },
   "outputs": [
    {
     "data": {
      "text/plain": [
       "[90, 111, 119, 118, 119, 139, 193]"
      ]
     },
     "execution_count": 190,
     "metadata": {},
     "output_type": "execute_result"
    }
   ],
   "source": [
    "profile2indices(predicted_labels.tolist()[0])\n",
    "    "
   ]
  },
  {
   "cell_type": "code",
   "execution_count": 182,
   "metadata": {
    "collapsed": false
   },
   "outputs": [
    {
     "data": {
      "text/plain": [
       "array([[0, 0, 0, 0, 0, 0, 0, 0, 0, 0, 0, 0, 0, 0, 0, 0, 0, 0, 0, 0, 0, 0,\n",
       "        0, 0, 0, 0, 0, 0, 0, 0, 0, 0, 0, 0, 0, 0, 0, 0, 0, 0, 0, 0, 0, 0,\n",
       "        0, 0, 0, 1, 1, 1, 1, 1, 1, 1, 3, 3, 3, 3, 3, 3, 3, 3, 4, 4, 4, 2,\n",
       "        2, 2, 2, 2, 2, 2, 2, 2, 2, 2, 5, 5, 5, 5, 5, 5, 5, 5, 5, 5, 5, 5,\n",
       "        5, 5, 5, 5, 5, 5, 5, 5, 5, 5, 5, 5, 5, 5, 5, 5, 6, 6, 6, 6, 6, 6,\n",
       "        6, 6, 6, 6, 6, 6, 6, 6, 6, 6, 6, 6, 6, 6, 6, 6, 6, 6, 6, 6, 6, 6,\n",
       "        6, 6, 6, 5, 5, 5, 5, 5, 5, 5, 5, 5, 5, 5, 5, 6, 6, 6, 6, 6, 6, 6,\n",
       "        6, 6, 6, 6, 6, 6, 6, 6, 6, 6, 6, 0, 0, 0, 0, 0, 0, 0, 0, 0, 0, 0,\n",
       "        0, 0, 0, 0, 0, 0, 0, 0, 0, 0, 0, 0, 6, 6, 0, 0, 0, 0, 0, 0, 0, 0,\n",
       "        0, 0]])"
      ]
     },
     "execution_count": 182,
     "metadata": {},
     "output_type": "execute_result"
    }
   ],
   "source": [
    "predicted_labels"
   ]
  },
  {
   "cell_type": "code",
   "execution_count": null,
   "metadata": {
    "collapsed": true
   },
   "outputs": [],
   "source": []
  }
 ],
 "metadata": {
  "kernelspec": {
   "display_name": "Python 2",
   "language": "python",
   "name": "python2"
  },
  "language_info": {
   "codemirror_mode": {
    "name": "ipython",
    "version": 2
   },
   "file_extension": ".py",
   "mimetype": "text/x-python",
   "name": "python",
   "nbconvert_exporter": "python",
   "pygments_lexer": "ipython2",
   "version": "2.7.13"
  }
 },
 "nbformat": 4,
 "nbformat_minor": 2
}
