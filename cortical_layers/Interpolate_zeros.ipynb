{
 "cells": [
  {
   "cell_type": "code",
   "execution_count": 1,
   "metadata": {
    "collapsed": true
   },
   "outputs": [],
   "source": [
    "import numpy as np\n"
   ]
  },
  {
   "cell_type": "code",
   "execution_count": 2,
   "metadata": {
    "collapsed": true
   },
   "outputs": [],
   "source": [
    "\n",
    "def chunks(l,n):\n",
    "  \"\"\"Yield n-sized chunks from l\"\"\"\n",
    "  for i in xrange(0, len(l), n):\n",
    "    yield l[i:i+n]\n",
    "\n",
    "\n",
    "def get_neighbours(surfname):\n",
    "  \"\"\"Get neighbours from obj file\"\"\"\n",
    "  Polys=[]\n",
    "  k=0\n",
    "  with open(surfname,'r') as fp:\n",
    "    for i, line in enumerate(fp):\n",
    "      if i==0:\n",
    "    #Number of vertices\n",
    "        n_vert=int(line.split()[6])\n",
    "      elif i==2*n_vert+3:\n",
    "        n_poly=int(line)\n",
    "      elif i>2*n_vert+5:\n",
    "        if not line.strip():\n",
    "          k=1\n",
    "        elif k==1:\n",
    "          Polys.extend(line.split())\n",
    "  Polys=map(int, Polys)\n",
    "  tris=list(chunks(Polys,3))\n",
    "  neighbours=[[] for i in range(n_vert)]\n",
    "  for tri in tris:\n",
    "      neighbours[tri[0]].extend([tri[1],tri[2]])\n",
    "      neighbours[tri[2]].extend([tri[1],tri[0]])\n",
    "      neighbours[tri[1]].extend([tri[0],tri[2]])\n",
    "#Get unique neighbours\n",
    "  for k in range(len(neighbours)):\n",
    "      neighbours[k]=(list(set(neighbours[k])))\n",
    "  return neighbours;\n"
   ]
  },
  {
   "cell_type": "code",
   "execution_count": 16,
   "metadata": {
    "collapsed": false
   },
   "outputs": [],
   "source": [
    "hemi='left'\n",
    "Indices=np.loadtxt('/data1/data/kwagstyl/bigbrain/cortical_layers/'+hemi+'_indices.txt',dtype=int)\n",
    "neighbours=get_neighbours('/data1/data/kwagstyl/bigbrain/TestData/white_'+hemi+'_up.obj')"
   ]
  },
  {
   "cell_type": "code",
   "execution_count": 17,
   "metadata": {
    "collapsed": false
   },
   "outputs": [],
   "source": [
    "ZeroRows=np.where(~Indices.any(axis=1))[0]"
   ]
  },
  {
   "cell_type": "code",
   "execution_count": 18,
   "metadata": {
    "collapsed": false
   },
   "outputs": [],
   "source": [
    "NewIndices=np.zeros((len(ZeroRows),7))\n",
    "k=-1\n",
    "for z in ZeroRows:\n",
    "    k+=1\n",
    "    N1=neighbours[z]\n",
    "    N2=[]\n",
    "    for N in N1:\n",
    "        N2.extend(neighbours[N])\n",
    "    N2=np.unique(N2)\n",
    "    Nonzeros=np.where(Indices.any(axis=1))[0]\n",
    "    if not Nonzeros.any():\n",
    "        N3=[]\n",
    "        for N in N2:\n",
    "            N3.extend(neighbours[N])\n",
    "        N2=np.unique(N3)\n",
    "    Nonzeros=np.where(Indices[N2].any(axis=1))[0]\n",
    "    if Nonzeros.any():\n",
    "        I=np.round(np.mean(Indices[Nonzeros],axis=0))\n",
    "        NewIndices[k]=I"
   ]
  },
  {
   "cell_type": "code",
   "execution_count": 19,
   "metadata": {
    "collapsed": false
   },
   "outputs": [],
   "source": [
    "Indices[ZeroRows]=NewIndices"
   ]
  },
  {
   "cell_type": "code",
   "execution_count": 20,
   "metadata": {
    "collapsed": false
   },
   "outputs": [],
   "source": [
    "np.savetxt('/data1/data/kwagstyl/bigbrain/TestData/'+hemi+'_indices_nonzeros.txt',Indices,fmt='%i')"
   ]
  },
  {
   "cell_type": "code",
   "execution_count": 75,
   "metadata": {
    "collapsed": false
   },
   "outputs": [
    {
     "data": {
      "text/plain": [
       "(655362, 7)"
      ]
     },
     "execution_count": 75,
     "metadata": {},
     "output_type": "execute_result"
    }
   ],
   "source": [
    "np.shape(Indices)"
   ]
  },
  {
   "cell_type": "code",
   "execution_count": 93,
   "metadata": {
    "collapsed": false
   },
   "outputs": [
    {
     "data": {
      "text/plain": [
       "(1049, 7)"
      ]
     },
     "execution_count": 93,
     "metadata": {},
     "output_type": "execute_result"
    }
   ],
   "source": [
    "np.shape(NewIndices)"
   ]
  },
  {
   "cell_type": "code",
   "execution_count": 87,
   "metadata": {
    "collapsed": false
   },
   "outputs": [
    {
     "data": {
      "text/plain": [
       "array([[ 31,  55,  73, ..., 125, 151, 180],\n",
       "       [ 30,  50,  69, ..., 128, 153, 181],\n",
       "       [ 46,  67,  84, ..., 126, 152, 176],\n",
       "       ..., \n",
       "       [ 31,  56,  75, ..., 128, 152, 182],\n",
       "       [ 31,  53,  73, ..., 126, 152, 181],\n",
       "       [ 29,  52,  71, ..., 125, 151, 180]])"
      ]
     },
     "execution_count": 87,
     "metadata": {},
     "output_type": "execute_result"
    }
   ],
   "source": [
    "Indices[ZeroRows]"
   ]
  },
  {
   "cell_type": "code",
   "execution_count": 96,
   "metadata": {
    "collapsed": false
   },
   "outputs": [
    {
     "data": {
      "text/plain": [
       "(array([], dtype=int64), array([], dtype=int64))"
      ]
     },
     "execution_count": 96,
     "metadata": {},
     "output_type": "execute_result"
    }
   ],
   "source": [
    "np.where(Indices<0)"
   ]
  },
  {
   "cell_type": "code",
   "execution_count": null,
   "metadata": {
    "collapsed": true
   },
   "outputs": [],
   "source": []
  }
 ],
 "metadata": {
  "kernelspec": {
   "display_name": "Python 2",
   "language": "python",
   "name": "python2"
  },
  "language_info": {
   "codemirror_mode": {
    "name": "ipython",
    "version": 2
   },
   "file_extension": ".py",
   "mimetype": "text/x-python",
   "name": "python",
   "nbconvert_exporter": "python",
   "pygments_lexer": "ipython2",
   "version": "2.7.13"
  }
 },
 "nbformat": 4,
 "nbformat_minor": 2
}
