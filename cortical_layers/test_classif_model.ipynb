{
 "cells": [
  {
   "cell_type": "code",
   "execution_count": 1,
   "metadata": {
    "collapsed": false,
    "deletable": true,
    "editable": true
   },
   "outputs": [],
   "source": [
    "import os\n",
    "import argparse\n",
    "import time\n",
    "from getpass import getuser\n",
    "from distutils.dir_util import copy_tree\n",
    "import pickle\n",
    "\n",
    "import numpy as np\n",
    "import random\n",
    "import theano\n",
    "import theano.tensor as T\n",
    "from theano import config\n",
    "import lasagne\n",
    "from lasagne.regularization import regularize_network_params\n",
    "from lasagne.objectives import categorical_crossentropy\n",
    "from lasagne.objectives import categorical_accuracy\n",
    "\n",
    "import PIL.Image as Image\n",
    "from matplotlib import pyplot as plt\n",
    "from matplotlib import colors\n",
    "from matplotlib import gridspec\n",
    "\n",
    "#from fcn_1D_general import buildFCN_1D\n",
    "from metrics import accuracy, crossentropy\n",
    "from data_loader.cortical_layers import ParcellationDataset #Cortical4LayersDataset, Cortical6LayersDataset\n",
    "from classif_model import classif_model\n",
    "\n",
    "%matplotlib inline"
   ]
  },
  {
   "cell_type": "code",
   "execution_count": 2,
   "metadata": {
    "collapsed": true,
    "deletable": true,
    "editable": true
   },
   "outputs": [],
   "source": [
    "exp_name = 'simple_model_lrate=0.0005_fil=64_fsizes=[25]_depth=4_data=both_decay=0.001_pat=25'\n",
    "\n",
    "#Model hyperparameters\n",
    "n_filters = 64\n",
    "filter_size = [25]\n",
    "depth  = 4\n",
    "data_augmentation={} #{'horizontal_flip': True, 'fill_mode':'constant'}\n",
    "block = 'bn_relu_conv'\n",
    "\n",
    "#Training loop hyperparameters\n",
    "weight_decay=0.001\n",
    "learning_rate_value = 0.0005 #learning rate is defined below as a theano variable.\n",
    "\n",
    "\n",
    "\n",
    "#Hyperparameters for the dataset loader\n",
    "batch_size=[1000,1000,1]\n",
    "smooth_or_raw = 'both'\n",
    "shuffle_at_each_epoch = True\n",
    "minibatches_subset = 0\n"
   ]
  },
  {
   "cell_type": "code",
   "execution_count": null,
   "metadata": {
    "collapsed": true,
    "deletable": true,
    "editable": true
   },
   "outputs": [],
   "source": []
  },
  {
   "cell_type": "code",
   "execution_count": null,
   "metadata": {
    "collapsed": true,
    "deletable": true,
    "editable": true
   },
   "outputs": [],
   "source": []
  },
  {
   "cell_type": "code",
   "execution_count": null,
   "metadata": {
    "collapsed": true,
    "deletable": true,
    "editable": true
   },
   "outputs": [],
   "source": []
  },
  {
   "cell_type": "code",
   "execution_count": 3,
   "metadata": {
    "collapsed": false,
    "deletable": true,
    "editable": true
   },
   "outputs": [
    {
     "name": "stdout",
     "output_type": "stream",
     "text": [
      "weight path is  /data/lisatmp4/larocste/cortical_layers/parcellation/simple_model_lrate=0.0005_fil=64_fsizes=[25]_depth=4_data=both_decay=0.001_pat=25/new_fcn1D_model_best.npz\n"
     ]
    }
   ],
   "source": [
    "#SAVEPATH = '/Tmp/larocste/cortical_layers'\n",
    "LOADPATH = '/data/lisatmp4/larocste/cortical_layers'\n",
    "WEIGHTS_PATH = LOADPATH\n",
    "\n",
    "#dataset = 'cortical_layers'\n",
    "dataset='parcellation'\n",
    "weight_path = os.path.join(WEIGHTS_PATH, dataset, exp_name, 'new_fcn1D_model_best.npz')\n",
    "\n",
    "print 'weight path is ' , weight_path"
   ]
  },
  {
   "cell_type": "code",
   "execution_count": null,
   "metadata": {
    "collapsed": false,
    "deletable": true,
    "editable": true
   },
   "outputs": [],
   "source": []
  },
  {
   "cell_type": "code",
   "execution_count": 16,
   "metadata": {
    "collapsed": false,
    "deletable": true,
    "editable": true
   },
   "outputs": [
    {
     "name": "stdout",
     "output_type": "stream",
     "text": [
      "nb batches train 7 valid 2\n"
     ]
    }
   ],
   "source": [
    "if smooth_or_raw =='both':\n",
    "    nb_in_channels = 2\n",
    "    use_threads = False\n",
    "else:\n",
    "    nb_in_channels = 1\n",
    "    use_threads = True\n",
    "\n",
    "\n",
    "train_iter = ParcellationDataset(\n",
    "    which_set='train',\n",
    "    smooth_or_raw = smooth_or_raw,\n",
    "    batch_size=batch_size[0],\n",
    "    data_augm_kwargs=data_augmentation,\n",
    "    shuffle_at_each_epoch = shuffle_at_each_epoch,\n",
    "    return_one_hot=False,\n",
    "    return_01c=False,\n",
    "    return_list=False,\n",
    "    use_threads=use_threads)\n",
    "\n",
    "valid_iter = ParcellationDataset(\n",
    "    which_set='valid',\n",
    "    smooth_or_raw = smooth_or_raw,\n",
    "    batch_size=batch_size[1],\n",
    "    shuffle_at_each_epoch = shuffle_at_each_epoch,\n",
    "    return_one_hot=False,\n",
    "    return_01c=False,\n",
    "    return_list=False,\n",
    "    use_threads=use_threads)\n",
    "\n",
    "test_iter = None\n",
    "\n",
    "\n",
    "\n",
    "\n",
    "n_batches_train = train_iter.nbatches\n",
    "n_batches_val = valid_iter.nbatches\n",
    "n_batches_test = test_iter.nbatches if test_iter is not None else 0\n",
    "n_classes = train_iter.non_void_nclasses\n",
    "void_labels = train_iter.void_labels\n",
    "\n",
    "print 'nb batches train ' + str(n_batches_train) + ' valid ' + str(n_batches_val)\n",
    "\n"
   ]
  },
  {
   "cell_type": "code",
   "execution_count": null,
   "metadata": {
    "collapsed": true,
    "deletable": true,
    "editable": true
   },
   "outputs": [],
   "source": []
  },
  {
   "cell_type": "code",
   "execution_count": 5,
   "metadata": {
    "collapsed": true,
    "deletable": true,
    "editable": true
   },
   "outputs": [],
   "source": [
    "#\n",
    "# Define symbolic variables\n",
    "#\n",
    "input_var = T.tensor3('input_var') #n_example*nb_in_channels*ray_size\n",
    "target_var = T.ivector('target_var') #n_example*ray_size\n",
    "\n",
    "learn_step=  theano.shared(np.array(learning_rate_value, dtype=theano.config.floatX))"
   ]
  },
  {
   "cell_type": "code",
   "execution_count": 6,
   "metadata": {
    "collapsed": false,
    "deletable": true,
    "editable": true
   },
   "outputs": [
    {
     "name": "stdout",
     "output_type": "stream",
     "text": [
      "Done building model\n",
      "Done assigning weights\n"
     ]
    }
   ],
   "source": [
    "#\n",
    "# Build model and assign trained weights\n",
    "#\n",
    "model = classif_model()\n",
    "\n",
    "simple_net_output, net = model.build_model(input_var,\n",
    "                    filter_size = filter_size,\n",
    "                    n_filters = n_filters,\n",
    "                    depth = depth,\n",
    "                    block= block,\n",
    "                    pool_factor = 2,\n",
    "                    nb_in_channels = nb_in_channels,\n",
    "                    n_classes = n_classes)\n",
    "\n",
    "print 'Done building model'\n",
    "\n",
    "with np.load(weight_path) as f:\n",
    "    param_values = [f['arr_%d' % i] for i in range(len(f.files))]\n",
    "    \n",
    "nlayers = len(lasagne.layers.get_all_params(model.net))\n",
    "lasagne.layers.set_all_param_values(model.net, param_values[:nlayers])\n",
    "\n",
    "print 'Done assigning weights'"
   ]
  },
  {
   "cell_type": "code",
   "execution_count": null,
   "metadata": {
    "collapsed": true,
    "deletable": true,
    "editable": true
   },
   "outputs": [],
   "source": []
  },
  {
   "cell_type": "code",
   "execution_count": null,
   "metadata": {
    "collapsed": true,
    "deletable": true,
    "editable": true
   },
   "outputs": [],
   "source": []
  },
  {
   "cell_type": "code",
   "execution_count": null,
   "metadata": {
    "collapsed": true,
    "deletable": true,
    "editable": true
   },
   "outputs": [],
   "source": []
  },
  {
   "cell_type": "code",
   "execution_count": 7,
   "metadata": {
    "collapsed": false,
    "deletable": true,
    "editable": true
   },
   "outputs": [
    {
     "name": "stdout",
     "output_type": "stream",
     "text": [
      "Defining and compiling test functions\n",
      "Done\n"
     ]
    }
   ],
   "source": [
    "print \"Defining and compiling test functions\"\n",
    "test_prediction = lasagne.layers.get_output(model.net, deterministic=True)\n",
    "test_loss = categorical_crossentropy(test_prediction, target_var)\n",
    "test_loss = test_loss.mean()\n",
    "test_acc = T.mean(categorical_accuracy(test_prediction, target_var))\n",
    "\n",
    "\n",
    "test_fn = theano.function([input_var, target_var], [test_loss, test_acc])\n",
    "print \"Done\""
   ]
  },
  {
   "cell_type": "code",
   "execution_count": 29,
   "metadata": {
    "collapsed": false,
    "deletable": true,
    "editable": true,
    "scrolled": true
   },
   "outputs": [],
   "source": [
    "#Function computing the prediction with current parameters (for visualization)\n",
    "pred = theano.function([input_var], lasagne.layers.get_output(model.net, deterministic=True))"
   ]
  },
  {
   "cell_type": "code",
   "execution_count": null,
   "metadata": {
    "collapsed": true,
    "deletable": true,
    "editable": true
   },
   "outputs": [],
   "source": []
  },
  {
   "cell_type": "code",
   "execution_count": 65,
   "metadata": {
    "collapsed": false,
    "deletable": true,
    "editable": true
   },
   "outputs": [],
   "source": [
    "def test_and_plot(exp_name, test_iter):\n",
    "    \n",
    "    \n",
    "    n_batches_test = test_iter.nbatches\n",
    "    cost_test_tot = 0\n",
    "    acc_test_tot = 0\n",
    "    \n",
    "    \n",
    "    n_true_labels = [0 for i in range(n_classes)]\n",
    "    n_pred_labels = [0 for i in range(n_classes)]\n",
    "    wrong_labels = [0 for i in range(n_classes)]\n",
    "    wrong_pred_labels = [0 for i in range(n_classes)]\n",
    "    \n",
    "    for i in range(n_batches_test):\n",
    "        \n",
    "        # Get minibatch\n",
    "        \n",
    "        test_batch = test_iter.next()\n",
    "\n",
    "        \n",
    "        X_test_batch, L_test_batch, idx_test_batch = test_batch['data'], test_batch['labels'],test_batch['filenames'][0]   \n",
    "        \n",
    "        L_test_batch = np.reshape(L_test_batch, np.prod(L_test_batch.shape))\n",
    "        \n",
    "        nb = 50\n",
    "        \n",
    "        \n",
    "        print 'True labels ' , L_test_batch[:nb]\n",
    "        softmax_pred = pred(X_test_batch)\n",
    "        #print 'softmax', softmax_pred\n",
    "        \n",
    "        #pred_labels = [softmax_pred[j][L_test_batch[j]] for j in range(nb)]\n",
    "        #print 'Pred lables ' , pred_labels\n",
    "        \n",
    "        predicted_labels = np.array([np.argmax(softmax_pred[j]) for j in range(len(softmax_pred))])\n",
    "        print 'Pred labels ', predicted_labels[:nb]\n",
    "        print np.sum(predicted_labels[:nb]==L_test_batch[:nb])\n",
    "        \n",
    "        \n",
    "        for label in L_test_batch:\n",
    "            n_true_labels[label] += 1\n",
    "        for label in predicted_labels :\n",
    "            n_pred_labels[label] += 1\n",
    "        for j in range(len(L_test_batch)):\n",
    "            true_label = L_test_batch[j]\n",
    "            pred_label = predicted_labels[j]\n",
    "            if true_label!=pred_label:\n",
    "                wrong_labels[true_label]+=1\n",
    "                wrong_pred_labels[pred_label]+=1\n",
    "        \n",
    "        \n",
    "        # Test step\n",
    "        cost_test, acc_test = test_fn(X_test_batch, L_test_batch)\n",
    "        \n",
    "       \n",
    "        acc_test_tot += acc_test\n",
    "        cost_test_tot += cost_test\n",
    "        \n",
    "        \n",
    "\n",
    "    err_test = cost_test_tot/n_batches_test\n",
    "    acc_test = acc_test_tot/n_batches_test\n",
    "    \n",
    "        \n",
    "\n",
    "    out_str = \"FINAL MODEL: err test % f, acc test %f\"\n",
    "    out_str = out_str % (err_test,\n",
    "                         acc_test)\n",
    "    print exp_name\n",
    "    print out_str\n",
    "    \n",
    "    print 'N_true labels : ', n_true_labels\n",
    "    print 'N_pred labels : ', n_pred_labels\n",
    "    print 'wrong labels : ', wrong_labels\n",
    "    print 'wrong pred labels : ', wrong_pred_labels\n",
    "    "
   ]
  },
  {
   "cell_type": "code",
   "execution_count": null,
   "metadata": {
    "collapsed": false,
    "deletable": true,
    "editable": true
   },
   "outputs": [],
   "source": []
  },
  {
   "cell_type": "code",
   "execution_count": 62,
   "metadata": {
    "collapsed": false,
    "deletable": true,
    "editable": true
   },
   "outputs": [
    {
     "name": "stdout",
     "output_type": "stream",
     "text": [
      "True labels  [2 2 2 2 2 2 2 2 2 2 3 3 3 3 3 3 3 3 3 3 3 3 3 3 3 3 3 3 3 3 3 1 1 1 1 1 1\n",
      " 1 1 1 1 1 1 1 1 1 1 1 1 1]\n",
      "Pred labels  [2 2 2 2 2 2 2 2 2 2 3 3 3 3 3 3 3 3 3 3 3 3 3 3 3 3 3 3 3 3 3 1 1 1 1 1 1\n",
      " 1 1 1 1 1 1 1 1 1 1 1 1 1]\n",
      "0\n"
     ]
    },
    {
     "name": "stderr",
     "output_type": "stream",
     "text": [
      "/part/01/Tmp/lisa/os_v5/anaconda/lib/python2.7/site-packages/ipykernel/__main__.py:37: DeprecationWarning: elementwise == comparison failed; this will raise an error in the future.\n"
     ]
    },
    {
     "name": "stdout",
     "output_type": "stream",
     "text": [
      "True labels  [2 2 2 2 2 2 2 2 2 2 2 2 2 3 3 3 3 3 3 3 3 3 3 3 3 3 3 3 3 3 3 3 3 3 3 3 3\n",
      " 3 1 1 1 1 1 1 1 1 1 1 1 1]\n",
      "Pred labels  [2 2 2 2 2 2 2 2 2 2 2 2 2 3 3 3 3 3 3 3 3 3 3 3 3 3 3 3 3 3 3 3 3 3 3 3 3\n",
      " 3 1 1 1 1 1 1 1 1 1 1 1 1]\n",
      "0\n",
      "True labels  [2 3 3 1 0 0 0 0 0 1 1 7 6 4 4 4 4 4 5 5 5 5 4 4 5 5 5 3 1 1 0 0 0 0 0 0 1\n",
      " 1 7 6 6 4 4 4 4 5 5 4 4 4]\n",
      "Pred labels  [2 3 3 1 0 0 0 0 0 1 1 7 6 4 4 4 4 4 5 5 5 5 4 4 5 5 5 3 1 1 0 0 0 0 0 0 1\n",
      " 1 7 6 6 4 4 4 4 5 5 4 4 4]\n",
      "0\n",
      "True labels  [2 2 2 2 2 2 2 2 2 2 2 2 2 2 2 2 2 3 3 3 3 3 3 3 3 3 3 3 3 3 3 3 3 3 3 3 3\n",
      " 1 1 1 1 1 1 1 1 1 1 1 1 1]\n",
      "Pred labels  [2 2 2 2 2 2 2 2 2 2 2 2 2 2 2 2 2 3 3 3 3 3 3 3 3 3 3 3 3 3 3 3 3 3 3 3 3\n",
      " 1 1 1 1 1 1 1 1 1 1 1 1 1]\n",
      "0\n",
      "True labels  [2 2 2 2 2 2 2 2 2 2 2 2 2 2 2 3 3 3 3 3 3 3 3 3 3 3 3 3 3 3 3 3 3 3 3 3 3\n",
      " 3 3 3 3 3 3 3 3 3 3 1 1 1]\n",
      "Pred labels  [2 2 2 2 2 2 2 2 2 2 2 2 2 2 2 3 3 3 3 3 3 3 3 3 3 3 3 3 3 3 3 3 3 3 3 3 3\n",
      " 3 3 3 3 3 3 3 3 3 3 1 1 1]\n",
      "0\n",
      "True labels  [2 2 2 2 2 2 2 2 2 2 2 2 2 2 2 2 2 3 3 3 3 3 3 3 3 3 3 3 3 3 3 3 3 3 3 3 3\n",
      " 3 3 3 1 1 1 1 1 1 1 1 1 1]\n",
      "Pred labels  [2 2 2 2 2 2 2 2 2 2 2 2 2 2 2 2 2 3 3 3 3 3 3 3 3 3 3 3 3 3 3 3 3 3 3 3 3\n",
      " 3 3 3 1 1 1 1 1 1 1 1 1 1]\n",
      "0\n",
      "True labels  [2 2 2 2 2 2 2 2 2 2 2 2 2 3 3 3 3 3 3 3 3 3 3 3 3 3 3 3 3 3 3 3 3 3 3 3 1\n",
      " 1 1 1 1 1 1 1 1 1 1 1 1 1]\n",
      "Pred labels  [2 2 2 2 2 2 2 2 2 2 2 2 2 3 3 3 3 3 3 3 3 3 3 3 3 3 3 3 3 3 3 3 3 3 3 3 1\n",
      " 1 1 1 1 1 1 1 1 1 1 1 1 1]\n",
      "0\n",
      "simple_model_lrate=0.0005_fil=64_fsizes=[25]_depth=4_data=both_decay=0.001_pat=25\n",
      "FINAL MODEL: err test  0.003405, acc test 1.000000\n",
      "N_true labels :  [1332, 771, 236, 433, 1399, 835, 773, 305, 0]\n",
      "N_pred labels :  [1332, 771, 236, 433, 1399, 835, 773, 305, 0]\n",
      "wrong labels :  [0, 0, 0, 0, 0, 0, 0, 0, 0]\n",
      "wrong pred labels :  [0, 0, 0, 0, 0, 0, 0, 0, 0]\n"
     ]
    }
   ],
   "source": [
    "test_and_plot(exp_name, train_iter)"
   ]
  },
  {
   "cell_type": "code",
   "execution_count": 66,
   "metadata": {
    "collapsed": false,
    "deletable": true,
    "editable": true
   },
   "outputs": [
    {
     "name": "stdout",
     "output_type": "stream",
     "text": [
      "True labels  [2 2 2 2 2 2 2 2 2 2 2 2 2 2 2 2 3 3 3 3 3 3 3 3 3 3 3 3 3 3 3 3 3 3 3 3 3\n",
      " 3 1 1 1 1 1 1 1 1 1 1 1 1]\n",
      "Pred labels  [2 2 2 2 2 2 2 2 2 2 2 2 2 2 2 2 3 3 3 3 3 3 3 3 3 3 3 3 3 3 3 3 3 3 3 3 3\n",
      " 1 1 7 7 1 1 1 1 1 1 1 1 1]\n",
      "47\n",
      "True labels  [3 3 0 0 0 0 0 1 1 1 6 6 6 6 4 4 4 4 5 5 4 4 4 5 5 5 3 3 3 1 1 0 0 0 0 0 0\n",
      " 0 0 1 6 6 6 4 4 4 5 4 4 4]\n",
      "Pred labels  [3 3 6 0 0 0 0 1 1 1 6 6 6 6 4 4 4 4 5 5 4 4 4 5 5 5 3 2 3 1 5 0 0 0 0 0 0\n",
      " 0 0 1 6 6 6 4 4 4 5 5 4 4]\n",
      "46\n",
      "simple_model_lrate=0.0005_fil=64_fsizes=[25]_depth=4_data=both_decay=0.001_pat=25\n",
      "FINAL MODEL: err test  0.232856, acc test 0.911203\n",
      "N_true labels :  [260, 128, 60, 70, 221, 157, 122, 56]\n",
      "N_pred labels :  [266, 123, 63, 68, 221, 158, 124, 51]\n",
      "wrong labels :  [5, 19, 1, 9, 14, 22, 8, 12]\n",
      "wrong pred labels :  [11, 14, 4, 7, 14, 23, 10, 7]\n"
     ]
    }
   ],
   "source": [
    "test_and_plot(exp_name, valid_iter)"
   ]
  },
  {
   "cell_type": "code",
   "execution_count": null,
   "metadata": {
    "collapsed": true
   },
   "outputs": [],
   "source": []
  }
 ],
 "metadata": {
  "kernelspec": {
   "display_name": "Python 2",
   "language": "python",
   "name": "python2"
  },
  "language_info": {
   "codemirror_mode": {
    "name": "ipython",
    "version": 2
   },
   "file_extension": ".py",
   "mimetype": "text/x-python",
   "name": "python",
   "nbconvert_exporter": "python",
   "pygments_lexer": "ipython2",
   "version": "2.7.13"
  }
 },
 "nbformat": 4,
 "nbformat_minor": 2
}
