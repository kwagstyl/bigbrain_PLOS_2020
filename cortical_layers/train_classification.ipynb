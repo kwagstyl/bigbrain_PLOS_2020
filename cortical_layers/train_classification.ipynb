{
 "cells": [
  {
   "cell_type": "code",
   "execution_count": 65,
   "metadata": {
    "collapsed": false
   },
   "outputs": [],
   "source": [
    "\n",
    "import os\n",
    "import argparse\n",
    "import time\n",
    "from getpass import getuser\n",
    "from distutils.dir_util import copy_tree\n",
    "import pickle\n",
    "\n",
    "import numpy as np\n",
    "import random\n",
    "import theano\n",
    "import theano.tensor as T\n",
    "from theano import config\n",
    "import lasagne\n",
    "from lasagne.regularization import regularize_network_params\n",
    "from lasagne.objectives import categorical_crossentropy\n",
    "from lasagne.objectives import categorical_accuracy\n",
    "\n",
    "import PIL.Image as Image\n",
    "from matplotlib import pyplot as plt\n",
    "from matplotlib import colors\n",
    "from matplotlib import gridspec\n",
    "\n",
    "#from fcn_1D_general import buildFCN_1D\n",
    "from metrics import accuracy, crossentropy\n",
    "from cortical_layers import ParcellationDataset\n",
    "from classif_model import classif_model, dense_model\n",
    "%matplotlib inline\n",
    "\n"
   ]
  },
  {
   "cell_type": "code",
   "execution_count": 50,
   "metadata": {
    "collapsed": false
   },
   "outputs": [],
   "source": [
    "\n",
    "SAVEPATH = '/data1/users/kwagstyl/bigbrain/NeuralNetworks/Parcellation/NN/'\n",
    "LOADPATH = '/data1/users/kwagstyl/bigbrain/NeuralNetworks/Parcellation/NN/'\n",
    "WEIGHTS_PATH = LOADPATH\n"
   ]
  },
  {
   "cell_type": "code",
   "execution_count": 51,
   "metadata": {
    "collapsed": true
   },
   "outputs": [],
   "source": [
    "\n",
    "#Model hyperparameters\n",
    "n_filters = 32\n",
    "filter_size = [15]#[7,15,25,49]\n",
    "depth  = 2\n",
    "data_augmentation={} #{'horizontal_flip': True, 'fill_mode':'constant'}\n",
    "block = 'bn_relu_conv'\n",
    "\n",
    "#Training loop hyperparameters\n",
    "weight_decay=0.001\n",
    "num_epochs=500\n",
    "max_patience=100\n",
    "resume=False\n",
    "learning_rate_value = 0.0005 #learning rate is defined below as a theano variable.\n",
    "\n",
    "\n",
    "\n",
    "#Hyperparameters for the dataset loader\n",
    "batch_size=[1000,1000,1]\n",
    "smooth_or_raw = 'both'\n",
    "shuffle_at_each_epoch = True\n",
    "minibatches_subset = 0\n",
    "n_layers = 6"
   ]
  },
  {
   "cell_type": "code",
   "execution_count": 52,
   "metadata": {
    "collapsed": false
   },
   "outputs": [
    {
     "name": "stdout",
     "output_type": "stream",
     "text": [
      "Savepath : \n",
      "/data1/users/kwagstyl/bigbrain/NeuralNetworks/Parcellation/NN/parcellation/classif_model_alldataset_lrate=0.0005_fil=32_fsizes=[15]_depth=2_data=both_decay=0.001_pat=100\n",
      "Loadpath : \n",
      "/data1/users/kwagstyl/bigbrain/NeuralNetworks/Parcellation/NN/parcellation/classif_model_alldataset_lrate=0.0005_fil=32_fsizes=[15]_depth=2_data=both_decay=0.001_pat=100\n",
      "\u001b[93m The following folder already exists /data1/users/kwagstyl/bigbrain/NeuralNetworks/Parcellation/NN/parcellation/classif_model_alldataset_lrate=0.0005_fil=32_fsizes=[15]_depth=2_data=both_decay=0.001_pat=100. It will be overwritten in a few seconds...\u001b[0m\n",
      "Saving directory : /data1/users/kwagstyl/bigbrain/NeuralNetworks/Parcellation/NN/parcellation/classif_model_alldataset_lrate=0.0005_fil=32_fsizes=[15]_depth=2_data=both_decay=0.001_pat=100\n"
     ]
    }
   ],
   "source": [
    "_FLOATX = config.floatX\n",
    "\n",
    "savepath=SAVEPATH\n",
    "loadpath=LOADPATH\n",
    "\n",
    "exp_name = 'classif_model_alldataset'\n",
    "exp_name += '_lrate=' + str(learning_rate_value)\n",
    "exp_name += '_fil=' + str(n_filters)\n",
    "exp_name += '_fsizes=' + str(filter_size)\n",
    "exp_name += '_depth=' + str(depth)\n",
    "exp_name += '_data=' + smooth_or_raw\n",
    "exp_name += '_decay=' + str(weight_decay)\n",
    "exp_name += '_pat=' + str(max_patience)\n",
    "exp_name += ('_noshuffle'+str(minibatches_subset)+'batch') if not shuffle_at_each_epoch else ''\n",
    "#exp_name += 'test'\n",
    "\n",
    "dataset = 'parcellation'\n",
    "savepath = os.path.join(savepath, dataset, exp_name)\n",
    "loadpath = os.path.join(loadpath, dataset, exp_name)\n",
    "print 'Savepath : '\n",
    "print savepath\n",
    "print 'Loadpath : '\n",
    "print loadpath\n",
    "\n",
    "if not os.path.exists(savepath):\n",
    "    os.makedirs(savepath)\n",
    "else:\n",
    "    print('\\033[93m The following folder already exists {}. '\n",
    "          'It will be overwritten in a few seconds...\\033[0m'.format(\n",
    "              savepath))\n",
    "\n",
    "print('Saving directory : ' + savepath)\n",
    "with open(os.path.join(savepath, \"config.txt\"), \"w\") as f:\n",
    "    for key, value in locals().items():\n",
    "        f.write('{} = {}\\n'.format(key, value))\n"
   ]
  },
  {
   "cell_type": "code",
   "execution_count": 53,
   "metadata": {
    "collapsed": false
   },
   "outputs": [],
   "source": [
    "\n",
    "input_var = T.tensor3('input_var') #n_example*nb_in_channels*ray_size\n",
    "target_var = T.ivector('target_var') #n_example*ray_size\n",
    "\n",
    "learn_step=  theano.shared(np.array(learning_rate_value, dtype=theano.config.floatX))\n"
   ]
  },
  {
   "cell_type": "code",
   "execution_count": 54,
   "metadata": {
    "collapsed": false
   },
   "outputs": [
    {
     "name": "stdout",
     "output_type": "stream",
     "text": [
      "train /data1/users/kwagstyl/bigbrain/NeuralNetworks/cortical_layers/cortical_layers/Parcellation/training_cls.txt 5184\n",
      "val /data1/users/kwagstyl/bigbrain/NeuralNetworks/cortical_layers/cortical_layers/Parcellation/training_cls.txt 5184\n",
      "nb batches train 5 valid 1\n"
     ]
    }
   ],
   "source": [
    "\n",
    "# Build dataset iterator\n",
    "#\n",
    "\n",
    "if smooth_or_raw =='both':\n",
    "    nb_in_channels = 2\n",
    "    use_threads = False\n",
    "else:\n",
    "    nb_in_channels = 1\n",
    "    use_threads = True\n",
    "\n",
    "train_iter = ParcellationDataset(\n",
    "    which_set='train',\n",
    "    smooth_or_raw = 'both',\n",
    "    batch_size=batch_size[0],\n",
    "    data_augm_kwargs=data_augmentation,\n",
    "    shuffle_at_each_epoch = shuffle_at_each_epoch,\n",
    "    return_one_hot=False,\n",
    "    return_01c=False,\n",
    "    return_list=False,\n",
    "    use_threads=use_threads)\n",
    "\n",
    "val_iter = ParcellationDataset(\n",
    "    which_set='valid',\n",
    "    smooth_or_raw = 'both',\n",
    "    batch_size=batch_size[1],\n",
    "    shuffle_at_each_epoch = shuffle_at_each_epoch,\n",
    "    return_one_hot=False,\n",
    "    return_01c=False,\n",
    "    return_list=False,\n",
    "    use_threads=use_threads)\n",
    "\n",
    "test_iter = None\n",
    "\n",
    "n_batches_train = train_iter.nbatches\n",
    "n_batches_val = val_iter.nbatches\n",
    "n_batches_test = test_iter.nbatches if test_iter is not None else 0\n",
    "n_classes = train_iter.non_void_nclasses\n",
    "void_labels = train_iter.void_labels\n",
    "\n",
    "print 'nb batches train ' + str(n_batches_train) + ' valid ' + str(n_batches_val)\n",
    "\n"
   ]
  },
  {
   "cell_type": "code",
   "execution_count": 55,
   "metadata": {
    "collapsed": false
   },
   "outputs": [
    {
     "name": "stdout",
     "output_type": "stream",
     "text": [
      "train /data1/users/kwagstyl/bigbrain/NeuralNetworks/cortical_layers/cortical_layers/Parcellation/training_cls.txt 5184\n"
     ]
    }
   ],
   "source": [
    "train_iter = ParcellationDataset(\n",
    "    which_set='train',\n",
    "    smooth_or_raw = 'both',\n",
    "    batch_size=batch_size[0],\n",
    "    data_augm_kwargs=data_augmentation,\n",
    "    shuffle_at_each_epoch = shuffle_at_each_epoch,\n",
    "    return_one_hot=False,\n",
    "    return_01c=False,\n",
    "    return_list=False,\n",
    "    use_threads=use_threads)\n"
   ]
  },
  {
   "cell_type": "code",
   "execution_count": 56,
   "metadata": {
    "collapsed": false
   },
   "outputs": [
    {
     "name": "stdout",
     "output_type": "stream",
     "text": [
      "val /data1/users/kwagstyl/bigbrain/NeuralNetworks/cortical_layers/cortical_layers/Parcellation/training_cls.txt 5184\n"
     ]
    }
   ],
   "source": [
    "val_iter = ParcellationDataset(\n",
    "    which_set='valid',\n",
    "    smooth_or_raw = smooth_or_raw,\n",
    "    batch_size=batch_size[1],\n",
    "    shuffle_at_each_epoch = shuffle_at_each_epoch,\n",
    "    return_one_hot=False,\n",
    "    return_01c=False,\n",
    "    return_list=False,\n",
    "    use_threads=use_threads)\n",
    "\n"
   ]
  },
  {
   "cell_type": "code",
   "execution_count": 57,
   "metadata": {
    "collapsed": false
   },
   "outputs": [
    {
     "name": "stdout",
     "output_type": "stream",
     "text": [
      "nb batches train 5 valid 1\n"
     ]
    }
   ],
   "source": [
    "test_iter = None\n",
    "\n",
    "\n",
    "\n",
    "n_batches_train = train_iter.nbatches\n",
    "n_batches_val = val_iter.nbatches\n",
    "n_batches_test = test_iter.nbatches if test_iter is not None else 0\n",
    "n_classes = train_iter.non_void_nclasses\n",
    "void_labels = train_iter.void_labels\n",
    "print 'nb batches train ' + str(n_batches_train) + ' valid ' + str(n_batches_val)\n",
    "\n"
   ]
  },
  {
   "cell_type": "code",
   "execution_count": 58,
   "metadata": {
    "collapsed": true
   },
   "outputs": [],
   "source": [
    "model = dense_model()\n",
    "simple_net_output, net = model.build_model(input_var, nb_in_channels = nb_in_channels)\n",
    "\n"
   ]
  },
  {
   "cell_type": "code",
   "execution_count": 59,
   "metadata": {
    "collapsed": false
   },
   "outputs": [
    {
     "name": "stdout",
     "output_type": "stream",
     "text": [
      "Defining and compiling training functions\n",
      "Done\n"
     ]
    }
   ],
   "source": [
    "print \"Defining and compiling training functions\"\n",
    "\n",
    "prediction = lasagne.layers.get_output(simple_net_output[0])\n",
    "loss = categorical_crossentropy(prediction, target_var)\n",
    "loss = loss.mean()\n",
    "\n",
    "if weight_decay > 0:\n",
    "    weightsl2 = regularize_network_params(\n",
    "        simple_net_output, lasagne.regularization.l2)\n",
    "    loss += weight_decay * weightsl2\n",
    "train_acc = T.mean(categorical_accuracy(prediction, target_var))\n",
    "\n",
    "params = lasagne.layers.get_all_params(simple_net_output, trainable=True)\n",
    "updates = lasagne.updates.adam(loss, params, learning_rate=learn_step)\n",
    "\n",
    "train_fn = theano.function([input_var, target_var], [loss, train_acc],\n",
    "                           updates=updates)\n",
    "\n",
    "print \"Done\"\n",
    "\n",
    "\n",
    "\n"
   ]
  },
  {
   "cell_type": "code",
   "execution_count": 60,
   "metadata": {
    "collapsed": false
   },
   "outputs": [
    {
     "name": "stdout",
     "output_type": "stream",
     "text": [
      "Defining and compiling valid functions\n",
      "Done\n"
     ]
    }
   ],
   "source": [
    "print \"Defining and compiling valid functions\"\n",
    "valid_prediction = lasagne.layers.get_output(simple_net_output[0],\n",
    "                                            deterministic=True)\n",
    "valid_loss = categorical_crossentropy(valid_prediction, target_var)\n",
    "valid_loss = valid_loss.mean()\n",
    "\n",
    "valid_acc = T.mean(categorical_accuracy(valid_prediction, target_var))\n",
    "\n",
    "valid_fn = theano.function([input_var, target_var],\n",
    "                           [valid_loss, valid_acc])#,profile=True)\n",
    "print \"Done\"\n",
    "\n"
   ]
  },
  {
   "cell_type": "code",
   "execution_count": 61,
   "metadata": {
    "collapsed": false
   },
   "outputs": [
    {
     "name": "stdout",
     "output_type": "stream",
     "text": [
      "Start training\n",
      "EPOCH 0: Avg cost train 221.773302, acc train 0.439789, cost val 202.445323, acc val 0.493573, took 2.059717 s\n",
      "EPOCH 1: Avg cost train 164.582016, acc train 0.516263, cost val 142.110917, acc val 0.516710, took 1.873151 s\n",
      "saving last model\n",
      "EPOCH 2: Avg cost train 106.212364, acc train 0.463960, cost val 103.903501, acc val 0.541131, took 1.872188 s\n",
      "saving best (and last) model\n",
      "EPOCH 3: Avg cost train 75.740173, acc train 0.564627, cost val 76.697940, acc val 0.438303, took 1.875944 s\n",
      "saving last model\n",
      "EPOCH 4: Avg cost train 55.947915, acc train 0.512123, cost val 66.430711, acc val 0.625964, took 2.089875 s\n",
      "saving best (and last) model\n",
      "EPOCH 5: Avg cost train 44.113902, acc train 0.593489, cost val 51.474559, acc val 0.480720, took 2.238270 s\n",
      "saving last model\n",
      "EPOCH 6: Avg cost train 33.847682, acc train 0.579723, cost val 43.233025, acc val 0.649100, took 2.268769 s\n",
      "saving best (and last) model\n",
      "EPOCH 7: Avg cost train 28.042809, acc train 0.592512, cost val 37.084904, acc val 0.656812, took 2.265839 s\n",
      "saving best (and last) model\n",
      "EPOCH 8: Avg cost train 25.590468, acc train 0.606679, cost val 35.298025, acc val 0.665810, took 2.249990 s\n",
      "saving best (and last) model\n",
      "EPOCH 9: Avg cost train 22.114812, acc train 0.613394, cost val 29.753625, acc val 0.654242, took 2.001720 s\n",
      "saving last model\n",
      "EPOCH 10: Avg cost train 18.121052, acc train 0.641238, cost val 25.932754, acc val 0.503856, took 1.886597 s\n",
      "saving last model\n",
      "EPOCH 11: Avg cost train 16.999715, acc train 0.595307, cost val 23.655413, acc val 0.503856, took 1.886325 s\n",
      "saving last model\n",
      "EPOCH 12: Avg cost train 15.592094, acc train 0.636565, cost val 22.631049, acc val 0.501285, took 2.103883 s\n",
      "saving last model\n",
      "EPOCH 13: Avg cost train 15.644140, acc train 0.592634, cost val 19.529403, acc val 0.651671, took 2.235292 s\n",
      "saving last model\n",
      "EPOCH 14: Avg cost train 13.374592, acc train 0.607346, cost val 19.561478, acc val 0.649100, took 2.246077 s\n",
      "saving last model\n",
      "EPOCH 15: Avg cost train 12.518875, acc train 0.597868, cost val 20.287914, acc val 0.658098, took 2.119606 s\n",
      "saving last model\n",
      "EPOCH 16: Avg cost train 12.999330, acc train 0.637230, cost val 19.913121, acc val 0.488432, took 2.233503 s\n",
      "saving last model\n",
      "EPOCH 17: Avg cost train 10.874603, acc train 0.627483, cost val 15.723807, acc val 0.503856, took 2.261723 s\n",
      "saving last model\n",
      "EPOCH 18: Avg cost train 8.351463, acc train 0.621938, cost val 15.227289, acc val 0.492288, took 3.089032 s\n",
      "saving last model\n",
      "EPOCH 19: Avg cost train 8.783532, acc train 0.587581, cost val 12.691464, acc val 0.654242, took 1.975242 s\n",
      "saving last model\n",
      "EPOCH 20: Avg cost train 7.119126, acc train 0.639931, cost val 12.940980, acc val 0.659383, took 1.947576 s\n",
      "saving last model\n",
      "EPOCH 21: Avg cost train 7.157399, acc train 0.609015, cost val 12.060096, acc val 0.655527, took 2.250745 s\n",
      "saving last model\n",
      "EPOCH 22: Avg cost train 6.837261, acc train 0.634479, cost val 11.774744, acc val 0.655527, took 1.875357 s\n",
      "saving last model\n",
      "EPOCH 23: Avg cost train 8.488314, acc train 0.610961, cost val 16.607315, acc val 0.650386, took 1.868894 s\n",
      "saving last model\n",
      "EPOCH 24: Avg cost train 10.581595, acc train 0.599981, cost val 10.493513, acc val 0.649100, took 2.246230 s\n",
      "saving last model\n",
      "EPOCH 25: Avg cost train 6.688814, acc train 0.685579, cost val 16.385519, acc val 0.470437, took 2.410695 s\n",
      "saving last model\n",
      "EPOCH 26: Avg cost train 9.203248, acc train 0.601931, cost val 14.012203, acc val 0.641388, took 2.347751 s\n",
      "saving last model\n",
      "EPOCH 27: Avg cost train 8.192354, acc train 0.603116, cost val 12.120042, acc val 0.655527, took 2.746053 s\n",
      "saving last model\n",
      "EPOCH 28: Avg cost train 5.918882, acc train 0.655624, cost val 9.823474, acc val 0.659383, took 2.964977 s\n",
      "saving last model\n",
      "EPOCH 29: Avg cost train 4.864035, acc train 0.649487, cost val 9.184329, acc val 0.665810, took 2.260687 s\n",
      "saving last model\n",
      "EPOCH 30: Avg cost train 5.035357, acc train 0.646746, cost val 9.167516, acc val 0.498715, took 2.248089 s\n",
      "saving last model\n",
      "EPOCH 31: Avg cost train 3.784686, acc train 0.645175, cost val 9.248294, acc val 0.488432, took 2.262423 s\n",
      "saving last model\n",
      "EPOCH 32: Avg cost train 5.371928, acc train 0.598933, cost val 8.473815, acc val 0.508997, took 2.272708 s\n",
      "saving last model\n",
      "EPOCH 33: Avg cost train 5.046691, acc train 0.621718, cost val 8.489853, acc val 0.655527, took 2.266217 s\n",
      "saving last model\n",
      "EPOCH 34: Avg cost train 4.406965, acc train 0.637620, cost val 8.336219, acc val 0.655527, took 2.274066 s\n",
      "saving last model\n",
      "EPOCH 35: Avg cost train 6.621169, acc train 0.606161, cost val 14.345647, acc val 0.659383, took 2.262077 s\n",
      "saving last model\n",
      "EPOCH 36: Avg cost train 5.929388, acc train 0.606990, cost val 11.965619, acc val 0.656812, took 2.782011 s\n",
      "saving last model\n",
      "EPOCH 37: Avg cost train 5.833803, acc train 0.606059, cost val 11.123554, acc val 0.643959, took 1.995655 s\n",
      "saving last model\n",
      "EPOCH 38: Avg cost train 7.862757, acc train 0.687649, cost val 11.261348, acc val 0.452442, took 1.874105 s\n",
      "saving last model\n",
      "EPOCH 39: Avg cost train 6.692660, acc train 0.604883, cost val 10.366279, acc val 0.651671, took 1.870373 s\n",
      "saving last model\n",
      "EPOCH 40: Avg cost train 6.171356, acc train 0.596868, cost val 14.997436, acc val 0.660668, took 2.127426 s\n",
      "saving last model\n",
      "EPOCH 41: Avg cost train 7.866320, acc train 0.662478, cost val 10.867385, acc val 0.460154, took 2.262554 s\n",
      "saving last model\n",
      "EPOCH 42: Avg cost train 4.250929, acc train 0.632494, cost val 12.666384, acc val 0.457584, took 2.265694 s\n",
      "saving last model\n",
      "EPOCH 43: Avg cost train 7.349499, acc train 0.622535, cost val 12.921586, acc val 0.652956, took 1.932038 s\n",
      "saving last model\n",
      "EPOCH 44: Avg cost train 5.965892, acc train 0.608546, cost val 10.893117, acc val 0.654242, took 1.873578 s\n",
      "saving last model\n",
      "EPOCH 45: Avg cost train 4.569679, acc train 0.649361, cost val 7.185198, acc val 0.646530, took 2.094701 s\n",
      "saving last model\n",
      "EPOCH 46: Avg cost train 4.004792, acc train 0.657687, cost val 7.452532, acc val 0.488432, took 2.239976 s\n",
      "saving last model\n",
      "EPOCH 47: Avg cost train 2.764513, acc train 0.615712, cost val 7.519203, acc val 0.654242, took 2.264329 s\n",
      "saving last model\n",
      "EPOCH 48: Avg cost train 3.143992, acc train 0.653609, cost val 7.060760, acc val 0.498715, took 2.266873 s\n",
      "saving last model\n",
      "EPOCH 49: Avg cost train 3.463232, acc train 0.611381, cost val 6.808861, acc val 0.643959, took 2.268797 s\n",
      "saving last model\n",
      "EPOCH 50: Avg cost train 3.013845, acc train 0.662198, cost val 7.676395, acc val 0.650386, took 2.269254 s\n",
      "saving last model\n",
      "EPOCH 51: Avg cost train 2.654581, acc train 0.636175, cost val 8.213630, acc val 0.474293, took 2.267769 s\n",
      "saving last model\n",
      "EPOCH 52: Avg cost train 2.839471, acc train 0.614678, cost val 8.521820, acc val 0.643959, took 2.266083 s\n",
      "saving last model\n",
      "EPOCH 53: Avg cost train 3.760647, acc train 0.653238, cost val 8.150995, acc val 0.643959, took 2.261873 s\n",
      "saving last model\n",
      "EPOCH 54: Avg cost train 3.431152, acc train 0.636315, cost val 8.306676, acc val 0.651671, took 2.265854 s\n",
      "saving last model\n",
      "EPOCH 55: Avg cost train 3.728005, acc train 0.623848, cost val 9.999396, acc val 0.655527, took 2.160105 s\n",
      "saving last model\n",
      "EPOCH 56: Avg cost train 5.380341, acc train 0.701468, cost val 15.765134, acc val 0.422879, took 1.873571 s\n",
      "saving last model\n",
      "EPOCH 57: Avg cost train 6.933875, acc train 0.603350, cost val 8.418367, acc val 0.655527, took 1.870970 s\n",
      "saving last model\n",
      "EPOCH 58: Avg cost train 2.696808, acc train 0.609985, cost val 8.229998, acc val 0.650386, took 1.873391 s\n",
      "saving last model\n",
      "EPOCH 59: Avg cost train 3.446642, acc train 0.659901, cost val 6.174573, acc val 0.654242, took 2.244097 s\n",
      "saving last model\n",
      "EPOCH 60: Avg cost train 2.671469, acc train 0.671842, cost val 9.786180, acc val 0.458869, took 2.263933 s\n",
      "saving last model\n",
      "EPOCH 61: Avg cost train 3.552910, acc train 0.654761, cost val 8.993343, acc val 0.466581, took 2.196308 s\n",
      "saving last model\n",
      "EPOCH 62: Avg cost train 5.007171, acc train 0.631579, cost val 8.808173, acc val 0.655527, took 3.060174 s\n",
      "saving last model\n",
      "EPOCH 63: Avg cost train 3.633431, acc train 0.630072, cost val 8.487792, acc val 0.651671, took 2.272955 s\n",
      "saving last model\n",
      "EPOCH 64: Avg cost train 4.330390, acc train 0.619446, cost val 12.646248, acc val 0.659383, took 2.276790 s\n",
      "saving last model\n",
      "EPOCH 65: Avg cost train 6.588066, acc train 0.663167, cost val 10.922830, acc val 0.444730, took 2.266147 s\n",
      "saving last model\n",
      "EPOCH 66: Avg cost train 4.228674, acc train 0.664024, cost val 9.636495, acc val 0.458869, took 2.094382 s\n",
      "saving last model\n",
      "EPOCH 67: Avg cost train 5.360736, acc train 0.620438, cost val 8.885775, acc val 0.640103, took 2.227821 s\n",
      "saving last model\n",
      "EPOCH 68: Avg cost train 3.772046, acc train 0.623409, cost val 8.266716, acc val 0.652956, took 2.271902 s\n",
      "saving last model\n",
      "EPOCH 69: Avg cost train 4.361533, acc train 0.631676, cost val 11.750384, acc val 0.663239, took 2.264312 s\n",
      "saving last model\n",
      "EPOCH 70: Avg cost train 6.427079, acc train 0.645900, cost val 10.711359, acc val 0.430591, took 2.275677 s\n",
      "saving last model\n",
      "EPOCH 71: Avg cost train 5.295329, acc train 0.659657, cost val 5.582776, acc val 0.647815, took 2.263190 s\n",
      "saving last model\n",
      "EPOCH 72: Avg cost train 5.107337, acc train 0.618613, cost val 11.072997, acc val 0.663239, took 2.260088 s\n",
      "saving last model\n",
      "EPOCH 73: Avg cost train 5.305868, acc train 0.615507, cost val 7.396770, acc val 0.655527, took 2.261924 s\n",
      "saving last model\n",
      "EPOCH 74: Avg cost train 3.986523, acc train 0.675156, cost val 6.219492, acc val 0.473008, took 2.260441 s\n",
      "saving last model\n",
      "EPOCH 75: Avg cost train 4.019947, acc train 0.660453, cost val 9.401944, acc val 0.446015, took 2.263083 s\n",
      "saving last model\n",
      "EPOCH 76: Avg cost train 5.291028, acc train 0.614946, cost val 8.303038, acc val 0.661954, took 2.263843 s\n",
      "saving last model\n",
      "EPOCH 77: Avg cost train 3.286703, acc train 0.635087, cost val 8.383612, acc val 0.659383, took 2.190065 s\n",
      "saving last model\n",
      "EPOCH 78: Avg cost train 3.643243, acc train 0.625828, cost val 11.086055, acc val 0.667095, took 3.092983 s\n",
      "saving best (and last) model\n",
      "EPOCH 79: Avg cost train 5.790036, acc train 0.652129, cost val 12.013254, acc val 0.435733, took 3.079898 s\n",
      "saving last model\n",
      "EPOCH 80: Avg cost train 4.938943, acc train 0.660165, cost val 5.688863, acc val 0.652956, took 1.870026 s\n",
      "saving last model\n",
      "EPOCH 81: Avg cost train 2.290034, acc train 0.665087, cost val 7.366869, acc val 0.466581, took 1.867872 s\n",
      "saving last model\n",
      "EPOCH 82: Avg cost train 2.002224, acc train 0.642165, cost val 5.543813, acc val 0.663239, took 1.949263 s\n",
      "saving last model\n",
      "EPOCH 83: Avg cost train 1.596938, acc train 0.669356, cost val 7.538835, acc val 0.663239, took 2.947118 s\n",
      "saving last model\n"
     ]
    },
    {
     "ename": "KeyboardInterrupt",
     "evalue": "",
     "output_type": "error",
     "traceback": [
      "\u001b[1;31m---------------------------------------------------------------------------\u001b[0m",
      "\u001b[1;31mKeyboardInterrupt\u001b[0m                         Traceback (most recent call last)",
      "\u001b[1;32m<ipython-input-61-bc9e40fd3d2a>\u001b[0m in \u001b[0;36m<module>\u001b[1;34m()\u001b[0m\n\u001b[0;32m     24\u001b[0m     \u001b[1;32mfor\u001b[0m \u001b[0mi\u001b[0m \u001b[1;32min\u001b[0m \u001b[0mrange\u001b[0m\u001b[1;33m(\u001b[0m\u001b[0mn_batches_train\u001b[0m\u001b[1;33m)\u001b[0m\u001b[1;33m:\u001b[0m\u001b[1;33m\u001b[0m\u001b[0m\n\u001b[0;32m     25\u001b[0m         \u001b[1;31m# Get minibatch (comment the next line if only 1 minibatch in training)\u001b[0m\u001b[1;33m\u001b[0m\u001b[1;33m\u001b[0m\u001b[0m\n\u001b[1;32m---> 26\u001b[1;33m         \u001b[0mtrain_batch\u001b[0m \u001b[1;33m=\u001b[0m \u001b[0mtrain_iter\u001b[0m\u001b[1;33m.\u001b[0m\u001b[0mnext\u001b[0m\u001b[1;33m(\u001b[0m\u001b[1;33m)\u001b[0m\u001b[1;33m\u001b[0m\u001b[0m\n\u001b[0m\u001b[0;32m     27\u001b[0m         \u001b[0mX_train_batch\u001b[0m\u001b[1;33m,\u001b[0m \u001b[0mL_train_batch\u001b[0m\u001b[1;33m,\u001b[0m \u001b[0midx_train_batch\u001b[0m \u001b[1;33m=\u001b[0m \u001b[0mtrain_batch\u001b[0m\u001b[1;33m[\u001b[0m\u001b[1;34m'data'\u001b[0m\u001b[1;33m]\u001b[0m\u001b[1;33m,\u001b[0m \u001b[0mtrain_batch\u001b[0m\u001b[1;33m[\u001b[0m\u001b[1;34m'labels'\u001b[0m\u001b[1;33m]\u001b[0m\u001b[1;33m,\u001b[0m \u001b[0mtrain_batch\u001b[0m\u001b[1;33m[\u001b[0m\u001b[1;34m'indices'\u001b[0m\u001b[1;33m]\u001b[0m\u001b[1;33m[\u001b[0m\u001b[1;36m0\u001b[0m\u001b[1;33m]\u001b[0m\u001b[1;33m\u001b[0m\u001b[0m\n\u001b[0;32m     28\u001b[0m \u001b[1;33m\u001b[0m\u001b[0m\n",
      "\u001b[1;32m/data1/users/kwagstyl/anaconda2/lib/python2.7/site-packages/dataset_loaders-1.0.0-py2.7.egg/dataset_loaders/parallel_loader.pyc\u001b[0m in \u001b[0;36mnext\u001b[1;34m(self)\u001b[0m\n\u001b[0;32m    438\u001b[0m \u001b[1;33m\u001b[0m\u001b[0m\n\u001b[0;32m    439\u001b[0m     \u001b[1;32mdef\u001b[0m \u001b[0mnext\u001b[0m\u001b[1;33m(\u001b[0m\u001b[0mself\u001b[0m\u001b[1;33m)\u001b[0m\u001b[1;33m:\u001b[0m\u001b[1;33m\u001b[0m\u001b[0m\n\u001b[1;32m--> 440\u001b[1;33m         \u001b[1;32mreturn\u001b[0m \u001b[0mself\u001b[0m\u001b[1;33m.\u001b[0m\u001b[0m_step\u001b[0m\u001b[1;33m(\u001b[0m\u001b[1;33m)\u001b[0m\u001b[1;33m\u001b[0m\u001b[0m\n\u001b[0m\u001b[0;32m    441\u001b[0m \u001b[1;33m\u001b[0m\u001b[0m\n\u001b[0;32m    442\u001b[0m     \u001b[1;32mdef\u001b[0m \u001b[0m_step\u001b[0m\u001b[1;33m(\u001b[0m\u001b[0mself\u001b[0m\u001b[1;33m)\u001b[0m\u001b[1;33m:\u001b[0m\u001b[1;33m\u001b[0m\u001b[0m\n",
      "\u001b[1;32m/data1/users/kwagstyl/anaconda2/lib/python2.7/site-packages/dataset_loaders-1.0.0-py2.7.egg/dataset_loaders/parallel_loader.pyc\u001b[0m in \u001b[0;36m_step\u001b[1;34m(self)\u001b[0m\n\u001b[0;32m    492\u001b[0m                 \u001b[1;32mtry\u001b[0m\u001b[1;33m:\u001b[0m\u001b[1;33m\u001b[0m\u001b[0m\n\u001b[0;32m    493\u001b[0m                     \u001b[0mname_batch\u001b[0m \u001b[1;33m=\u001b[0m \u001b[0mself\u001b[0m\u001b[1;33m.\u001b[0m\u001b[0mnames_batches\u001b[0m\u001b[1;33m.\u001b[0m\u001b[0mnext\u001b[0m\u001b[1;33m(\u001b[0m\u001b[1;33m)\u001b[0m\u001b[1;33m\u001b[0m\u001b[0m\n\u001b[1;32m--> 494\u001b[1;33m                     \u001b[0mdata_batch\u001b[0m \u001b[1;33m=\u001b[0m \u001b[0mself\u001b[0m\u001b[1;33m.\u001b[0m\u001b[0mfetch_from_dataset\u001b[0m\u001b[1;33m(\u001b[0m\u001b[0mname_batch\u001b[0m\u001b[1;33m)\u001b[0m\u001b[1;33m\u001b[0m\u001b[0m\n\u001b[0m\u001b[0;32m    495\u001b[0m                     \u001b[0mdone\u001b[0m \u001b[1;33m=\u001b[0m \u001b[0mTrue\u001b[0m\u001b[1;33m\u001b[0m\u001b[0m\n\u001b[0;32m    496\u001b[0m                 \u001b[1;32mexcept\u001b[0m \u001b[0mStopIteration\u001b[0m\u001b[1;33m:\u001b[0m\u001b[1;33m\u001b[0m\u001b[0m\n",
      "\u001b[1;32m/data1/users/kwagstyl/bigbrain/NeuralNetworks/Parcellation/cortical_layers/data_loader/parallel_loader_1D.pyc\u001b[0m in \u001b[0;36mfetch_from_dataset\u001b[1;34m(self, batch_to_load)\u001b[0m\n\u001b[0;32m    425\u001b[0m             \u001b[1;32mwith\u001b[0m \u001b[0mopen\u001b[0m\u001b[1;33m(\u001b[0m\u001b[0mself\u001b[0m\u001b[1;33m.\u001b[0m\u001b[0mmask_path\u001b[0m\u001b[1;33m)\u001b[0m \u001b[1;32mas\u001b[0m \u001b[0mfp\u001b[0m\u001b[1;33m:\u001b[0m\u001b[1;33m\u001b[0m\u001b[0m\n\u001b[0;32m    426\u001b[0m                 \u001b[1;32mfor\u001b[0m \u001b[0mi\u001b[0m\u001b[1;33m,\u001b[0m \u001b[0mline\u001b[0m \u001b[1;32min\u001b[0m \u001b[0menumerate\u001b[0m\u001b[1;33m(\u001b[0m\u001b[0mfp\u001b[0m\u001b[1;33m)\u001b[0m\u001b[1;33m:\u001b[0m\u001b[1;33m\u001b[0m\u001b[0m\n\u001b[1;32m--> 427\u001b[1;33m                     \u001b[1;32mif\u001b[0m \u001b[0mi\u001b[0m \u001b[1;32min\u001b[0m \u001b[0mbatch_to_load\u001b[0m\u001b[1;33m:\u001b[0m\u001b[1;33m\u001b[0m\u001b[0m\n\u001b[0m\u001b[0;32m    428\u001b[0m                         \u001b[0mline\u001b[0m \u001b[1;33m=\u001b[0m \u001b[0mre\u001b[0m\u001b[1;33m.\u001b[0m\u001b[0msplit\u001b[0m\u001b[1;33m(\u001b[0m\u001b[1;34m' '\u001b[0m\u001b[1;33m,\u001b[0m \u001b[0mline\u001b[0m\u001b[1;33m)\u001b[0m\u001b[1;33m\u001b[0m\u001b[0m\n\u001b[0;32m    429\u001b[0m                         \u001b[0mline\u001b[0m \u001b[1;33m=\u001b[0m \u001b[0mnp\u001b[0m\u001b[1;33m.\u001b[0m\u001b[0marray\u001b[0m\u001b[1;33m(\u001b[0m\u001b[1;33m[\u001b[0m\u001b[0mint\u001b[0m\u001b[1;33m(\u001b[0m\u001b[0mel\u001b[0m\u001b[1;33m)\u001b[0m \u001b[1;32mfor\u001b[0m \u001b[0mel\u001b[0m \u001b[1;32min\u001b[0m \u001b[0mline\u001b[0m\u001b[1;33m]\u001b[0m\u001b[1;33m)\u001b[0m\u001b[1;33m\u001b[0m\u001b[0m\n",
      "\u001b[1;31mKeyboardInterrupt\u001b[0m: "
     ]
    }
   ],
   "source": [
    "err_train = []\n",
    "acc_train = []\n",
    "\n",
    "\n",
    "\n",
    "err_valid = []\n",
    "acc_valid = []\n",
    "\n",
    "\n",
    "patience = 10\n",
    "# Training main loop\n",
    "print \"Start training\"\n",
    "\n",
    "for epoch in range(num_epochs):\n",
    "    #learn_step.set_value((learn_step.get_value()*0.99).astype(theano.config.floatX))\n",
    "\n",
    "    # Single epoch training and validation\n",
    "    start_time = time.time()\n",
    "    #Cost train and acc train for this epoch\n",
    "    cost_train_epoch = 0\n",
    "    acc_train_epoch = 0\n",
    "\n",
    "\n",
    "    for i in range(n_batches_train):\n",
    "        # Get minibatch (comment the next line if only 1 minibatch in training)\n",
    "        train_batch = train_iter.next()\n",
    "        X_train_batch, L_train_batch, idx_train_batch = train_batch['data'], train_batch['labels'], train_batch['indices'][0]\n",
    "\n",
    "\n",
    "        L_train_batch = np.reshape(L_train_batch, np.prod(L_train_batch.shape))\n",
    "\n",
    "\n",
    "        cost_train_batch, acc_train_batch = train_fn(X_train_batch, L_train_batch)\n",
    "\n",
    "        #Update epoch results\n",
    "        cost_train_epoch += cost_train_batch\n",
    "        acc_train_epoch += acc_train_batch\n",
    "\n",
    "    #Add epoch results\n",
    "    err_train += [cost_train_epoch/n_batches_train]\n",
    "    acc_train += [acc_train_epoch/n_batches_train]\n",
    "\n",
    "    # Validation\n",
    "    cost_val_epoch = 0\n",
    "    acc_val_epoch = 0\n",
    "\n",
    "    for i in range(n_batches_val):\n",
    "\n",
    "        # Get minibatch (comment the next line if only 1 minibatch in training)\n",
    "        val_batch = val_iter.next()\n",
    "        X_val_batch, L_val_batch, idx_val_batch = val_batch['data'], val_batch['labels'], val_batch['indices'][0]\n",
    "\n",
    "        L_val_batch = np.reshape(L_val_batch, np.prod(L_val_batch.shape))\n",
    "\n",
    "\n",
    "        # Validation step\n",
    "        cost_val_batch, acc_val_batch = valid_fn(X_val_batch, L_val_batch)\n",
    "        #print i, 'validation batch cost : ', cost_val_batch, ' batch accuracy : ', acc_val_batch\n",
    "\n",
    "        #Update epoch results\n",
    "        cost_val_epoch += cost_val_batch\n",
    "        acc_val_epoch += acc_val_batch\n",
    "\n",
    "\n",
    "\n",
    "    #Add epoch results\n",
    "    err_valid += [cost_val_epoch/n_batches_val]\n",
    "    acc_valid += [acc_val_epoch/n_batches_val]\n",
    "\n",
    "    #Print results (once per epoch)\n",
    "\n",
    "    out_str = \"EPOCH %i: Avg cost train %f, acc train %f, cost val %f, acc val %f, took %f s\"\n",
    "    out_str = out_str % (epoch, err_train[epoch],\n",
    "                         acc_train[epoch],\n",
    "                         err_valid[epoch],\n",
    "                         acc_valid[epoch],\n",
    "                         time.time()-start_time)\n",
    "    print out_str\n",
    "    # print out_str2\n",
    "\n",
    "\n",
    "\n",
    "    # Early stopping and saving stuff\n",
    "\n",
    "    with open(os.path.join(savepath, \"fcn1D_output.log\"), \"a\") as f:\n",
    "        f.write(out_str + \"\\n\")\n",
    "\n",
    "    if epoch == 0:        \n",
    "        best_acc_val = acc_valid[epoch]\n",
    "    elif epoch > 1 and acc_valid[epoch] > best_acc_val:\n",
    "        print('saving best (and last) model')\n",
    "        best_acc_val = acc_valid[epoch]\n",
    "        patience = 0\n",
    "        np.savez(os.path.join(savepath, 'new_fcn1D_model_best.npz'),\n",
    "                 *lasagne.layers.get_all_param_values(simple_net_output))\n",
    "        np.savez(os.path.join(savepath , \"fcn1D_errors_best.npz\"),\n",
    "                 err_train=err_train, acc_train=acc_train,\n",
    "                 err_valid=err_valid, acc_valid=acc_valid)\n",
    "        np.savez(os.path.join(savepath, 'new_fcn1D_model_last.npz'),\n",
    "                 *lasagne.layers.get_all_param_values(simple_net_output))\n",
    "        np.savez(os.path.join(savepath , \"fcn1D_errors_last.npz\"),\n",
    "                 err_train=err_train, acc_train=acc_train,\n",
    "                 err_valid=err_valid, acc_valid=acc_valid)\n",
    "    else:\n",
    "        patience += 1\n",
    "        print('saving last model')\n",
    "        np.savez(os.path.join(savepath, 'new_fcn1D_model_last.npz'),\n",
    "                 *lasagne.layers.get_all_param_values(simple_net_output))\n",
    "        np.savez(os.path.join(savepath , \"fcn1D_errors_last.npz\"),\n",
    "                 err_train=err_train, acc_train=acc_train,\n",
    "                 err_valid=err_valid, acc_valid=acc_valid)\n",
    "    # Finish training if patience has expired or max nber of epochs reached\n",
    "\n",
    "    if patience == max_patience or epoch == num_epochs-1:\n",
    "        if savepath != loadpath:\n",
    "            print('Copying model and other training files to {}'.format(loadpath))\n",
    "            copy_tree(savepath, loadpath)\n",
    "        break\n",
    "\n",
    "\n"
   ]
  },
  {
   "cell_type": "code",
   "execution_count": 100,
   "metadata": {
    "collapsed": false
   },
   "outputs": [
    {
     "data": {
      "text/plain": [
       "[<matplotlib.lines.Line2D at 0x7fc820675e10>]"
      ]
     },
     "execution_count": 100,
     "metadata": {},
     "output_type": "execute_result"
    },
    {
     "data": {
      "image/png": "[encoded data removed]",
      "text/plain": [
       "<matplotlib.figure.Figure at 0x7fc8206e0950>"
      ]
     },
     "metadata": {},
     "output_type": "display_data"
    }
   ],
   "source": [
    "plt.plot(X_train_batch[670][0])"
   ]
  },
  {
   "cell_type": "code",
   "execution_count": 101,
   "metadata": {
    "collapsed": false
   },
   "outputs": [
    {
     "data": {
      "text/plain": [
       "0"
      ]
     },
     "execution_count": 101,
     "metadata": {},
     "output_type": "execute_result"
    }
   ],
   "source": [
    "L_train_batch[670]"
   ]
  },
  {
   "cell_type": "code",
   "execution_count": null,
   "metadata": {
    "collapsed": true
   },
   "outputs": [],
   "source": []
  }
 ],
 "metadata": {
  "kernelspec": {
   "display_name": "Python [Root]",
   "language": "python",
   "name": "Python [Root]"
  },
  "language_info": {
   "codemirror_mode": {
    "name": "ipython",
    "version": 2
   },
   "file_extension": ".py",
   "mimetype": "text/x-python",
   "name": "python",
   "nbconvert_exporter": "python",
   "pygments_lexer": "ipython2",
   "version": "2.7.12"
  }
 },
 "nbformat": 4,
 "nbformat_minor": 0
}
