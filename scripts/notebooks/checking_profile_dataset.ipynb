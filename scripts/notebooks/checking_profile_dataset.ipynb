{
 "cells": [
  {
   "cell_type": "code",
   "execution_count": 49,
   "metadata": {},
   "outputs": [],
   "source": [
    "import os\n",
    "import numpy as np\n",
    "import subprocess"
   ]
  },
  {
   "cell_type": "code",
   "execution_count": 50,
   "metadata": {},
   "outputs": [],
   "source": [
    "SD=\"/data1/users/kwagstyl/bigbrain/NeuralNetworks/\"\n",
    "Slices=\"1066 2807 3300 3863 4366 4892 5431 0301 1066v1 1582 1600 4080 3380 5431a 6316\"\n",
    "Slices=Slices.split(\" \")\n",
    "training_data=os.path.join(SD,'TrainingData/TrainingData_lowres')"
   ]
  },
  {
   "cell_type": "code",
   "execution_count": 52,
   "metadata": {},
   "outputs": [
    {
     "name": "stdout",
     "output_type": "stream",
     "text": [
      "1066 0\n",
      "2807 0\n",
      "3300 0\n",
      "3863 0\n",
      "4366 0\n",
      "4892 0\n",
      "5431 0\n",
      "0301 0\n",
      "1066v1 0\n",
      "1582 0\n",
      "1600 0\n",
      "4080 0\n",
      "3380 0\n",
      "5431a 0\n",
      "6316 0\n"
     ]
    }
   ],
   "source": [
    "wc_cls=[]\n",
    "wc_mask=[]\n",
    "vals={}\n",
    "total=0\n",
    "for section in Slices:\n",
    "    a=!{\"wc -l \"+ os.path.join(training_data,\"training_\"+section+\"_cls.txt\")}\n",
    "    wc_cls=int(a[0].split(\" \")[0])\n",
    "    a=!{\"wc -l \"+ os.path.join(training_data,\"training_\"+section+\"_masks.txt\")}\n",
    "    wc_mask=int(a[0].split(\" \")[0])\n",
    "    diff=wc_cls-wc_mask\n",
    "    print(section,diff)\n",
    "    \n",
    "    vals[section]=np.unique(np.loadtxt(os.path.join(training_data,\"training_\"+section+\"_masks.txt\")))\n",
    "    total+=len(vals[section])"
   ]
  },
  {
   "cell_type": "code",
   "execution_count": 36,
   "metadata": {},
   "outputs": [
    {
     "name": "stdout",
     "output_type": "stream",
     "text": [
      "28119\n"
     ]
    }
   ],
   "source": [
    "a=!{\"wc -l \"+ os.path.join(training_data,\"training_cls.txt\")}\n",
    "wc_cls=int(a[0].split(\" \")[0])\n",
    "a=!{\"wc -l \"+ os.path.join(training_data,\"training_regions.txt\")}\n",
    "wc_mask=int(a[0].split(\" \")[0])\n",
    "diff=wc_cls-wc_mask\n",
    "print(diff)"
   ]
  },
  {
   "cell_type": "code",
   "execution_count": 53,
   "metadata": {},
   "outputs": [
    {
     "data": {
      "text/plain": [
       "{'1066': array([1., 3., 4., 5., 6.]),\n",
       " '2807': array([ 7.,  8.,  9., 10., 11., 12.]),\n",
       " '3300': array([13., 14., 15., 16., 17., 18.]),\n",
       " '3863': array([19., 20., 21., 22., 23., 24.]),\n",
       " '4366': array([25., 26., 27., 28., 29., 30.]),\n",
       " '4892': array([31., 32., 33., 34., 35., 36.]),\n",
       " '5431': array([37., 38., 39., 40., 41., 42.]),\n",
       " '0301': array([73., 74.]),\n",
       " '1066v1': array([79., 80.]),\n",
       " '1582': array([42.]),\n",
       " '1600': array([48.]),\n",
       " '4080': array([54.]),\n",
       " '3380': array([66.]),\n",
       " '5431a': array([84.]),\n",
       " '6316': array([60.])}"
      ]
     },
     "execution_count": 53,
     "metadata": {},
     "output_type": "execute_result"
    }
   ],
   "source": [
    "vals"
   ]
  },
  {
   "cell_type": "code",
   "execution_count": null,
   "metadata": {},
   "outputs": [],
   "source": []
  }
 ],
 "metadata": {
  "kernelspec": {
   "display_name": "Python 3",
   "language": "python",
   "name": "python3"
  },
  "language_info": {
   "codemirror_mode": {
    "name": "ipython",
    "version": 3
   },
   "file_extension": ".py",
   "mimetype": "text/x-python",
   "name": "python",
   "nbconvert_exporter": "python",
   "pygments_lexer": "ipython3",
   "version": "3.6.5"
  }
 },
 "nbformat": 4,
 "nbformat_minor": 2
}
