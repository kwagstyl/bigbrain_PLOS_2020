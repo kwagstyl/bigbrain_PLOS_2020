{
 "cells": [
  {
   "cell_type": "code",
   "execution_count": 9,
   "metadata": {},
   "outputs": [],
   "source": [
    "import numpy as np\n",
    "import os\n",
    "import subprocess\n",
    "%matplotlib inline\n",
    "from matplotlib import pyplot as plt"
   ]
  },
  {
   "cell_type": "code",
   "execution_count": 10,
   "metadata": {},
   "outputs": [],
   "source": [
    "systems = ['motor','visual','somatosensory','auditory']\n",
    "hemis=['left','right']\n"
   ]
  },
  {
   "cell_type": "code",
   "execution_count": 11,
   "metadata": {},
   "outputs": [],
   "source": [
    "geodesic_dir='/data1/users/kwagstyl/bigbrain/Hierarchy/geodesics/'\n",
    "surfdir='/data1/users/kwagstyl/bigbrain/NeuralNetworks/surfdir/surfs_20microns/'\n",
    "surfdist='/data1/users/kwagstyl/KWquarantines/surf_dist-5.1'"
   ]
  },
  {
   "cell_type": "code",
   "execution_count": 12,
   "metadata": {},
   "outputs": [],
   "source": [
    "#upsample labels\n",
    "for system in systems:\n",
    "    for hemi in hemis:\n",
    "        subprocess.call('subdivide_values '+\n",
    "                os.path.join(surfdir,'sm_20_surfsmoothed_august2018_'+hemi+'_20_layer4.obj ')\n",
    "                + os.path.join(geodesic_dir,system+'_regions_'+hemi+'.txt ')\n",
    "                        + os.path.join(geodesic_dir,system+'_regions_'+hemi+'.txt '),shell=True)\n",
    "                "
   ]
  },
  {
   "cell_type": "code",
   "execution_count": 13,
   "metadata": {},
   "outputs": [],
   "source": [
    "for system in systems:\n",
    "    for hemi in hemis:\n",
    "        subprocess.call(surfdist+' '+ os.path.join(surfdir,'sm_20_surfsmoothed_august2018_'+hemi+'_20_layer4.obj ')\n",
    "                        + os.path.join(geodesic_dir,system[0]+'1_'+hemi+'.txt ') \n",
    "                       + os.path.join(geodesic_dir,system+'_geodesic_distances_'+hemi+'.txt'),shell=True)"
   ]
  },
  {
   "cell_type": "code",
   "execution_count": 14,
   "metadata": {},
   "outputs": [],
   "source": [
    "#combined geodesic distances\n",
    "    \n",
    "for hemi in hemis:\n",
    "    for k,system in enumerate(systems):\n",
    "        if k == 0:\n",
    "            combined=np.loadtxt(os.path.join(geodesic_dir,system[0]+'1_'+hemi+'.txt'))\n",
    "        else:\n",
    "            combined+=np.loadtxt(os.path.join(geodesic_dir,system[0]+'1_'+hemi+'.txt'))\n",
    "    np.savetxt(os.path.join(geodesic_dir,'all_systems_primary_'+hemi+'.txt'),combined)\n",
    "    subprocess.call(surfdist+' '+ os.path.join(surfdir,'sm_20_surfsmoothed_august2018_'+hemi+'_20_layer4.obj ')\n",
    "                        + os.path.join(geodesic_dir,'all_systems_primary_'+hemi+'.txt ') \n",
    "                       + os.path.join(geodesic_dir,'all_systems_geodesic_distances_'+hemi+'.txt'),shell=True)"
   ]
  },
  {
   "cell_type": "code",
   "execution_count": 7,
   "metadata": {},
   "outputs": [],
   "source": [
    "hemi='right'\n",
    "combined=np.loadtxt(os.path.join(geodesic_dir,systems[0][0]+'1_'+hemi+'.txt'))"
   ]
  },
  {
   "cell_type": "code",
   "execution_count": 8,
   "metadata": {},
   "outputs": [],
   "source": [
    "for hemi in hemis:\n",
    "    for k,system in enumerate(systems):\n",
    "        if k == 0:\n",
    "            combined=np.loadtxt(os.path.join(geodesic_dir,system[0]+'1_'+hemi+'.txt'))\n",
    "            combined_region=np.loadtxt(os.path.join(geodesic_dir,system+'_regions_'+hemi+'.txt'))\n",
    "        else:\n",
    "            combined+=np.loadtxt(os.path.join(geodesic_dir,system[0]+'1_'+hemi+'.txt'))\n",
    "            combined_region+=np.loadtxt(os.path.join(geodesic_dir,system+'_regions_'+hemi+'.txt'))\n",
    "    np.savetxt(os.path.join(geodesic_dir,'all_systems_primary_'+hemi+'.txt'),combined)\n",
    "    np.savetxt(os.path.join(geodesic_dir,'all_systems_regions_'+hemi+'.txt'),combined_region)\n",
    "    subprocess.call(surfdist+' '+ os.path.join(surfdir,'sm_20_surfsmoothed_august2018_'+hemi+'_20_layer4.obj ')\n",
    "                        + os.path.join(geodesic_dir,'all_systems_primary_'+hemi+'.txt ') \n",
    "                       + os.path.join(geodesic_dir,'all_systems_geodesic_distances_'+hemi+'.txt'),shell=True)"
   ]
  },
  {
   "cell_type": "code",
   "execution_count": 9,
   "metadata": {},
   "outputs": [
    {
     "data": {
      "text/plain": [
       "['auditory']"
      ]
     },
     "execution_count": 9,
     "metadata": {},
     "output_type": "execute_result"
    }
   ],
   "source": [
    "systems"
   ]
  },
  {
   "cell_type": "code",
   "execution_count": null,
   "metadata": {},
   "outputs": [],
   "source": []
  }
 ],
 "metadata": {
  "kernelspec": {
   "display_name": "Python 3",
   "language": "python",
   "name": "python3"
  },
  "language_info": {
   "codemirror_mode": {
    "name": "ipython",
    "version": 3
   },
   "file_extension": ".py",
   "mimetype": "text/x-python",
   "name": "python",
   "nbconvert_exporter": "python",
   "pygments_lexer": "ipython3",
   "version": "3.6.5"
  }
 },
 "nbformat": 4,
 "nbformat_minor": 2
}
