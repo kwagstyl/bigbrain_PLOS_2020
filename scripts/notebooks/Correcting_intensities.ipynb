{
 "cells": [
  {
   "cell_type": "code",
   "execution_count": 1,
   "metadata": {},
   "outputs": [],
   "source": [
    "import numpy as np\n",
    "import matplotlib.pyplot as plt"
   ]
  },
  {
   "cell_type": "code",
   "execution_count": 2,
   "metadata": {},
   "outputs": [
    {
     "name": "stderr",
     "output_type": "stream",
     "text": [
      "/home/users/kwagstyl/anaconda3/lib/python3.6/importlib/_bootstrap.py:219: RuntimeWarning: numpy.dtype size changed, may indicate binary incompatibility. Expected 96, got 88\n",
      "  return f(*args, **kwds)\n",
      "/home/users/kwagstyl/anaconda3/lib/python3.6/site-packages/h5py/__init__.py:36: FutureWarning: Conversion of the second argument of issubdtype from `float` to `np.floating` is deprecated. In future, it will be treated as `np.float64 == np.dtype(float).type`.\n",
      "  from ._conv import register_converters as _register_converters\n",
      "/home/users/kwagstyl/anaconda3/lib/python3.6/importlib/_bootstrap.py:219: RuntimeWarning: numpy.dtype size changed, may indicate binary incompatibility. Expected 96, got 88\n",
      "  return f(*args, **kwds)\n"
     ]
    }
   ],
   "source": [
    "import io_mesh as io\n",
    "from scipy import stats\n",
    "import subprocess\n",
    "import os"
   ]
  },
  {
   "cell_type": "code",
   "execution_count": 3,
   "metadata": {},
   "outputs": [],
   "source": [
    "v1_dist={}\n",
    "for hemi in ['left','right']:\n",
    "    v1_dist[hemi]=np.loadtxt('../../../Hierarchy/geodesics/visual_geodesic_distances_{}.txt'.format(hemi))\n"
   ]
  },
  {
   "cell_type": "code",
   "execution_count": 4,
   "metadata": {},
   "outputs": [
    {
     "name": "stdout",
     "output_type": "stream",
     "text": [
      "1066 36.879952894736846\n",
      "1066 39.52959673684211\n",
      "1066 18.841783999999997\n",
      "1066 17.066885630136984\n",
      "2807 105.71566933333334\n",
      "2807 68.12064502040816\n",
      "2807 97.41760372413793\n",
      "2807 113.47872486567165\n",
      "2807 110.49838951666668\n",
      "2807 83.71592482608696\n",
      "3300 150.95683928571427\n",
      "3300 104.623837375\n",
      "3300 120.95186155555555\n",
      "3300 151.07897903703704\n",
      "3300 150.575943\n",
      "3300 72.22125404761906\n",
      "3863 163.42130342857146\n",
      "3863 166.77075163333336\n",
      "3863 165.572731\n",
      "3863 148.7379732608696\n",
      "3863 177.84250257142858\n",
      "3863 140.07927234285714\n",
      "3863 123.46328582051284\n",
      "4366 181.82187349999998\n",
      "4366 126.23693408888887\n",
      "4366 142.64486479166666\n",
      "4366 154.1996328611111\n",
      "4366 142.56882590243902\n",
      "4366 104.66163338461539\n",
      "4892 164.2094517142857\n",
      "4892 135.9319728214286\n",
      "4892 94.12439093877549\n",
      "4892 152.13812919047618\n",
      "4892 161.38749051612905\n",
      "4892 102.5457946875\n",
      "5431 193.9598687222222\n",
      "5431 111.54140699999999\n",
      "5431 128.44071459999998\n",
      "5431 98.4192648275862\n",
      "5431 100.14108545000002\n",
      "5431 190.11350221052635\n",
      "0301 1.0291921807228916\n",
      "0301 0.23909665624999998\n",
      "1066v1 0.0\n",
      "1066v1 0.0\n",
      "1582 70.726792375\n",
      "1600 69.16640328571427\n",
      "4080 181.4414693692308\n",
      "3380 126.02117848387098\n",
      "3380 115.34507392307692\n",
      "5431a 181.0351646896552\n",
      "5431a 203.78046721052633\n",
      "6316 188.64460027272727\n",
      "6316 139.92373304545453\n"
     ]
    }
   ],
   "source": [
    "all_slices=\"1066 2807 3300 3863 4366 4892 5431 0301 1066v1 1582 1600 4080 3380 5431a 6316\".split(' ')\n",
    "round2_slices=\"1582 1600 4080 3380 5431a 6316\".split(' ')\n",
    "v1_slices=\"0301 1066v1\".split(' ')\n",
    "\n",
    "coords_all_slices=np.zeros((len(all_slices),6))\n",
    "for k,section in enumerate(all_slices):\n",
    "    #get section dir\n",
    "    if section in v1_slices:\n",
    "        slice_dir=\"../../TrainingData/V1/Slice_{}/\".format(section[:4])\n",
    "    elif section in round2_slices:\n",
    "        slice_dir=\"../../TrainingData/new_sections_03-18/Slice_{}/\".format(section[:4])\n",
    "    else:\n",
    "        slice_dir=\"../../TrainingData/Slice_{}/\".format(section[:4])\n",
    "    maskfile= os.path.join(slice_dir,'pm{}Mask_nl_aligned.mnc'.format(section[:4]))\n",
    "    subprocess.call('minc_modify_header -dinsert yspace:step=1 {}'.format(maskfile),shell=True)\n",
    "    for hemi in ['left','right']:\n",
    "        txtfile=os.path.join(slice_dir,'masks_{}_{}.txt'.format(hemi,section[:4]))\n",
    "        subprocess.call('volume_object_evaluate -nearest_neighbour {} ../../surfdir/mid_{}_327680.obj {}'.format(maskfile,\n",
    "                                                                                                            hemi,\n",
    "                                                                                                            txtfile),\n",
    "                       shell=True)\n",
    "        vals = np.loadtxt(txtfile).astype(int)\n",
    "        for val in np.unique(vals):\n",
    "            if val>0:\n",
    "                coords_all_slices[k,val-1]=np.mean(v1_dist[hemi][:163842][vals==val])\n",
    "                print(section,np.mean(v1_dist[hemi][:163842][vals==val]))"
   ]
  },
  {
   "cell_type": "code",
   "execution_count": 5,
   "metadata": {},
   "outputs": [],
   "source": [
    "v=np.array([1,2,3,4,1,2,3,3])\n",
    "i=np.array([1,3,4,1,2,3,3,5])"
   ]
  },
  {
   "cell_type": "code",
   "execution_count": 6,
   "metadata": {},
   "outputs": [
    {
     "data": {
      "text/plain": [
       "array([ 68.12064502, 151.07897904, 140.07927234, 126.23693409,\n",
       "        97.41760372, 151.07897904, 148.73797326, 123.46328582])"
      ]
     },
     "execution_count": 6,
     "metadata": {},
     "output_type": "execute_result"
    }
   ],
   "source": [
    "coords_all_slices[v,i]"
   ]
  },
  {
   "cell_type": "code",
   "execution_count": 7,
   "metadata": {},
   "outputs": [],
   "source": [
    "np.savetxt('../../TrainingData/TrainingData/section_coords_geodesic.txt',coords_all_slices)"
   ]
  },
  {
   "cell_type": "code",
   "execution_count": 8,
   "metadata": {},
   "outputs": [],
   "source": [
    "surf_left=io.load_mesh_geometry('../../white_left_up.obj')\n",
    "surf_right=io.load_mesh_geometry('../../white_right_up.obj')"
   ]
  },
  {
   "cell_type": "code",
   "execution_count": 9,
   "metadata": {},
   "outputs": [],
   "source": [
    "profiles_left=np.loadtxt('../../BigBrainData/geo_left_20.txt')"
   ]
  },
  {
   "cell_type": "code",
   "execution_count": 10,
   "metadata": {},
   "outputs": [],
   "source": [
    "profiles_right=np.loadtxt('../../BigBrainData/geo_right_20.txt')"
   ]
  },
  {
   "cell_type": "code",
   "execution_count": 18,
   "metadata": {},
   "outputs": [],
   "source": [
    "left_mean=np.mean(profiles_left,axis=1)\n",
    "right_mean=np.mean(profiles_right,axis=1)"
   ]
  },
  {
   "cell_type": "code",
   "execution_count": 40,
   "metadata": {},
   "outputs": [],
   "source": [
    "profiles_left_corr =profiles_left - np.expand_dims(-11.34*v1_dist['left'],1)"
   ]
  },
  {
   "cell_type": "code",
   "execution_count": 23,
   "metadata": {},
   "outputs": [
    {
     "name": "stdout",
     "output_type": "stream",
     "text": [
      "-31.860567419561164 0.0800055399335417\n"
     ]
    }
   ],
   "source": [
    "slope, intercept, r_value, p_value, std_err = stats.linregress(surf_left['coords'][:,1], left_mean)\n",
    "print(slope,std_err)\n"
   ]
  },
  {
   "cell_type": "code",
   "execution_count": null,
   "metadata": {},
   "outputs": [],
   "source": []
  },
  {
   "cell_type": "code",
   "execution_count": 26,
   "metadata": {},
   "outputs": [
    {
     "name": "stdout",
     "output_type": "stream",
     "text": [
      "-31.860567419561164 0.0800055399335417\n"
     ]
    }
   ],
   "source": [
    "slope, intercept, r_value, p_value, std_err = stats.linregress(surf_left['coords'][:,1], left_mean)\n",
    "print(slope,std_err)\n"
   ]
  },
  {
   "cell_type": "code",
   "execution_count": 30,
   "metadata": {},
   "outputs": [
    {
     "name": "stdout",
     "output_type": "stream",
     "text": [
      "0.5925477521672686 0.0613592171075345\n"
     ]
    }
   ],
   "source": [
    "slope, intercept, r_value, p_value, std_err = stats.linregress(v1_dist['left'], corr_left_mean)\n",
    "print(slope,std_err)\n"
   ]
  },
  {
   "cell_type": "code",
   "execution_count": 28,
   "metadata": {},
   "outputs": [
    {
     "name": "stdout",
     "output_type": "stream",
     "text": [
      "-11.930149396116487 0.06088960763250956\n"
     ]
    }
   ],
   "source": [
    "slope, intercept, r_value, p_value, std_err = stats.linregress(v1_dist['right'], right_mean)\n",
    "print(slope,std_err)"
   ]
  },
  {
   "cell_type": "code",
   "execution_count": 34,
   "metadata": {},
   "outputs": [
    {
     "name": "stdout",
     "output_type": "stream",
     "text": [
      "-11.33828332849133 0.043220064705889925\n"
     ]
    }
   ],
   "source": [
    "slope, intercept, r_value, p_value, std_err = stats.linregress(np.hstack((v1_dist['right'],v1_dist['left'])), np.hstack((right_mean,left_mean)))\n",
    "print(slope,std_err)"
   ]
  },
  {
   "cell_type": "code",
   "execution_count": 36,
   "metadata": {},
   "outputs": [],
   "source": [
    "corr_left_mean = left_mean - slope*v1_dist['left']\n",
    "#plt.scatter(v1_dist['left'], corr_left_mean)\n",
    "#plt.scatter(v1_dist['left'], left_mean)"
   ]
  },
  {
   "cell_type": "code",
   "execution_count": 38,
   "metadata": {},
   "outputs": [
    {
     "data": {
      "text/plain": [
       "<matplotlib.collections.PathCollection at 0x7f1418730518>"
      ]
     },
     "execution_count": 38,
     "metadata": {},
     "output_type": "execute_result"
    },
    {
     "data": {
      "image/png": "[encoded data removed]",
      "text/plain": [
       "<Figure size 432x288 with 1 Axes>"
      ]
     },
     "metadata": {},
     "output_type": "display_data"
    }
   ],
   "source": [
    "plt.scatter(np.arange(200),slope*np.arange(200))"
   ]
  },
  {
   "cell_type": "code",
   "execution_count": 28,
   "metadata": {},
   "outputs": [
    {
     "data": {
      "text/plain": [
       "[<matplotlib.lines.Line2D at 0x7ff1a757e710>]"
      ]
     },
     "execution_count": 28,
     "metadata": {},
     "output_type": "execute_result"
    },
    {
     "data": {
      "image/png": "[encoded data removed]",
      "text/plain": [
       "<Figure size 432x288 with 1 Axes>"
      ]
     },
     "metadata": {},
     "output_type": "display_data"
    }
   ],
   "source": [
    "slope=-32\n",
    "k=np.random.choice(10000)\n",
    "plt.plot(profiles_right[k]-(surf_right['coords'][k,1]+60)*-32.6)"
   ]
  },
  {
   "cell_type": "code",
   "execution_count": 38,
   "metadata": {},
   "outputs": [
    {
     "data": {
      "text/plain": [
       "1"
      ]
     },
     "execution_count": 38,
     "metadata": {},
     "output_type": "execute_result"
    }
   ],
   "source": [
    "6//6"
   ]
  },
  {
   "cell_type": "code",
   "execution_count": 57,
   "metadata": {},
   "outputs": [],
   "source": [
    "\n",
    "def region_to_y_coordinate(regions):\n",
    "    Slices=np.array(['1066','2807', '3300', '3863', '4366', '4892', '5431', '1582','1600','4080','6316','3380','0301','1066','5431'])\n",
    "    index=(regions-1)//6\n",
    "    Slice=(Slices[index]).astype(int)\n",
    "    y_coords=-70 + (Slice-1) * 0.02\n",
    "    return y_coords"
   ]
  },
  {
   "cell_type": "code",
   "execution_count": 58,
   "metadata": {},
   "outputs": [
    {
     "data": {
      "text/plain": [
       "array([-48.7, -48.7, -48.7, -48.7,  38.6])"
      ]
     },
     "execution_count": 58,
     "metadata": {},
     "output_type": "execute_result"
    }
   ],
   "source": [
    "regions=np.array([1,2,3,4,90])\n",
    "region_to_y_coordinate(regions)"
   ]
  },
  {
   "cell_type": "code",
   "execution_count": 52,
   "metadata": {},
   "outputs": [],
   "source": []
  },
  {
   "cell_type": "code",
   "execution_count": null,
   "metadata": {},
   "outputs": [],
   "source": []
  }
 ],
 "metadata": {
  "kernelspec": {
   "display_name": "Python 3",
   "language": "python",
   "name": "python3"
  },
  "language_info": {
   "codemirror_mode": {
    "name": "ipython",
    "version": 3
   },
   "file_extension": ".py",
   "mimetype": "text/x-python",
   "name": "python",
   "nbconvert_exporter": "python",
   "pygments_lexer": "ipython3",
   "version": "3.6.5"
  }
 },
 "nbformat": 4,
 "nbformat_minor": 2
}
