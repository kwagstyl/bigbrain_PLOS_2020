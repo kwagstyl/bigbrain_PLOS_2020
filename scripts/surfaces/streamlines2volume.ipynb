{
 "cells": [
  {
   "cell_type": "code",
   "execution_count": 1,
   "metadata": {},
   "outputs": [],
   "source": [
    "import os, subprocess\n",
    "import numpy as np\n",
    "from profile_surface import get_neighbours, expand_to_fill, indices2surfaces\n",
    "import tempfile\n",
    "tmpdir=tempfile.gettempdir()\n",
    "\n",
    "\n"
   ]
  },
  {
   "cell_type": "code",
   "execution_count": 18,
   "metadata": {},
   "outputs": [],
   "source": [
    "\n",
    "def load_coords(profile_file, n_lines=50000):\n",
    "    \"\"\"load streamline coords\"\"\"\n",
    "    coords=[]\n",
    "    with open(profile_file,'r') as profiles:\n",
    "        for R in range(n_lines):\n",
    "        #Read in each profile as 200 rows.\n",
    "            for l in range(200):\n",
    "                Line=profiles.readline().rstrip()\n",
    "                LineSplit=Line.split(' ')\n",
    "                coords.append(LineSplit[0:3])\n",
    "            empty=profiles.readline()\n",
    "    return np.array(coords).astype(float)\n"
   ]
  },
  {
   "cell_type": "code",
   "execution_count": 73,
   "metadata": {},
   "outputs": [],
   "source": [
    "bigbrain_folder='/data1/users/kwagstyl/profile_areas/braincollection_profiles/bigbrain/'\n",
    "\n",
    "def rescale_to_256(array):\n",
    "    \"\"\"ensure all values lie in range 0 - 255\"\"\"\n",
    "    minimum=np.min(array[array!=0])\n",
    "    array=(255*(array-minimum)/(np.max(array)-minimum)).astype(int)\n",
    "    return array\n",
    "\n",
    "\n",
    "def create_volume_block(coords,outputname=os.path.join(tmpdir,'volumeblock.mnc'),\n",
    "                        examplemnc=os.path.join(bigbrain_folder,'full8_1000um.mnc'),\n",
    "                        resolution=0.08, border = 1):\n",
    "    \"\"\"create mnc volume block of a specific resolution, limited by the coordinates\n",
    "    coords : streamline coordinates to limit the block\n",
    "    examplemnc: need a basic volume file to change\n",
    "    voxel resolution: in microns\n",
    "    border size: optional extra border to pad volume mm\"\"\"\n",
    "    #create bounding tag file\n",
    "    create_bounding_tag(coords)\n",
    "    print('autocrop -resample -clob -from '+os.path.join(tmpdir,'bounding_tmp.tag') + ' -isoexpand ' + str(border)+\n",
    "                    ' -isostep '+str(resolution)+' '+ examplemnc+' '+ outputname)\n",
    "    subprocess.call('autocrop -resample -clob -from '+os.path.join(tmpdir,'bounding_tmp.tag') + ' -isoexpand ' + str(border)+\n",
    "                    ' -isostep '+str(resolution)+' '+ examplemnc+' '+ outputname, shell=True)\n",
    "\n",
    "\n",
    "\n",
    "def create_tag(coords,value=1,output=os.path.join(tmpdir,'tmp.tag')):\n",
    "    \"\"\"create tag file with values set as structure ids for tag to minc then expansion\"\"\"\n",
    "    with open(output, 'w') as O:\n",
    "        O.write(\"MNI Tag Point File\\n\")\n",
    "        O.write(\"Volumes=1;\\n\")\n",
    "        O.write(\"%Volume: volume.mnc\\n\")\n",
    "        O.write(\"\\n\")\n",
    "        O.write(\"Points =\\n\")\n",
    "        for coordinate in coords:\n",
    "                O.write('\\n ' + ' '.join(map(str, coordinate)) + ' \"'+str(value)+'\"')\n",
    "        O.write(';\\n')\n",
    "\n",
    "def create_bounding_tag(coords,output=os.path.join(tmpdir,'bounding_tmp.tag')):\n",
    "    \"\"\"create tag file with 8 coordinate to create the bounding box\"\"\"\n",
    "    with open(output, 'w') as O:\n",
    "        O.write(\"MNI Tag Point File\\n\")\n",
    "        O.write(\"Volumes=1;\\n\")\n",
    "        O.write(\"%Volume: volume.mnc\\n\")\n",
    "        O.write(\"\\n\")\n",
    "        O.write(\"Points =\")\n",
    "        xc,yc,zc=np.vstack((np.min(coords,axis=0),\n",
    "        np.max(coords,axis=0))).T\n",
    "        for x in range(2):\n",
    "            for y in range(2):\n",
    "                for z in range(2):\n",
    "                    coordinate=[xc[x],yc[y],zc[z]]\n",
    "                    O.write('\\n'+' '.join(map(str, coordinate)) + ' \"\"')\n",
    "        O.write(';\\n')\n",
    "\n",
    "        \n",
    "def tag_to_mnc(output_volumename,input_volume=os.path.join(tmpdir,'volumeblock.mnc'),tagfile=os.path.join(tmpdir,'tmp.tag'), max_iterations=1):\n",
    "    \"\"\"script that does the expansions from tag profiles\"\"\"\n",
    "    subprocess.call('tagtominc '+input_volume+ ' '+ tagfile +' '+ os.path.join(tmpdir,'input.mnc'),shell=True)\n",
    "    subprocess.call('dilate_volume '+ os.path.join(tmpdir,'input.mnc ') + output_volumename + ' 1 26 '+str(max_iterations),shell=True)\n",
    "    return\n"
   ]
  },
  {
   "cell_type": "code",
   "execution_count": 81,
   "metadata": {},
   "outputs": [],
   "source": [
    "def create_streamline_volume( streamline_coords, output_volumename,input_volume, hemi='left',max_iterations=1):\n",
    "    \"\"\"run set of scripts to generate dense saliency map\"\"\"\n",
    "    print(\"writing values to tag file\")\n",
    "    create_tag(streamline_coords, value=1)\n",
    " #   print(\"creating a block volume to spec\")\n",
    "#    create_volume_block(coords,resolution=resolution)\n",
    "  #  print(\"creating a cortical mask\")\n",
    "   # create_cortex_mask(hemi=hemi)\n",
    "    create_volume_block(streamline_coords, examplemnc=input_volume,resolution=0.2)\n",
    "    print(\"filling the volume\")\n",
    "    tag_to_mnc(output_volumename, max_iterations=max_iterations)\n",
    "\n"
   ]
  },
  {
   "cell_type": "code",
   "execution_count": 84,
   "metadata": {},
   "outputs": [],
   "source": [
    "hemi='left'\n",
    "coords=load_coords('/data1/users/kwagstyl/bigbrain/NeuralNetworks/BigBrainData/full8_1000um.mnc_'+hemi+'_profiles_raw.txt',n_lines=30000)"
   ]
  },
  {
   "cell_type": "code",
   "execution_count": 85,
   "metadata": {},
   "outputs": [
    {
     "name": "stdout",
     "output_type": "stream",
     "text": [
      "writing values to tag file\n",
      "autocrop -resample -clob -from /tmp/bounding_tmp.tag -isoexpand 1 -isostep 0.2 /data1/users/kwagstyl/bigbrain/volumes/full8_100um.mnc /tmp/volumeblock.mnc\n",
      "filling the volume\n",
      "tagtominc /tmp/volumeblock.mnc /tmp/tmp.tag /tmp/input.mnc\n"
     ]
    }
   ],
   "source": [
    "create_streamline_volume( coords, '/data1/users/kwagstyl/bigbrain/NeuralNetworks/surfdir/streamline_volume.mnc',\n",
    "                        '/data1/users/kwagstyl/bigbrain/volumes/full8_100um.mnc',hemi=hemi, max_iterations=1)"
   ]
  },
  {
   "cell_type": "code",
   "execution_count": null,
   "metadata": {},
   "outputs": [],
   "source": []
  }
 ],
 "metadata": {
  "kernelspec": {
   "display_name": "Python 3",
   "language": "python",
   "name": "python3"
  },
  "language_info": {
   "codemirror_mode": {
    "name": "ipython",
    "version": 3
   },
   "file_extension": ".py",
   "mimetype": "text/x-python",
   "name": "python",
   "nbconvert_exporter": "python",
   "pygments_lexer": "ipython3",
   "version": "3.6.5"
  }
 },
 "nbformat": 4,
 "nbformat_minor": 2
}
