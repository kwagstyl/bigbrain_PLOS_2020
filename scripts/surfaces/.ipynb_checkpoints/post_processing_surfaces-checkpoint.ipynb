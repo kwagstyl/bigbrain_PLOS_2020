{
 "cells": [
  {
   "cell_type": "code",
   "execution_count": 2,
   "metadata": {},
   "outputs": [
    {
     "name": "stderr",
     "output_type": "stream",
     "text": [
      "/home/users/kwagstyl/anaconda3/lib/python3.6/importlib/_bootstrap.py:219: RuntimeWarning: numpy.dtype size changed, may indicate binary incompatibility. Expected 96, got 88\n",
      "  return f(*args, **kwds)\n",
      "/home/users/kwagstyl/anaconda3/lib/python3.6/site-packages/h5py/__init__.py:36: FutureWarning: Conversion of the second argument of issubdtype from `float` to `np.floating` is deprecated. In future, it will be treated as `np.float64 == np.dtype(float).type`.\n",
      "  from ._conv import register_converters as _register_converters\n"
     ]
    }
   ],
   "source": [
    "import os, subprocess\n",
    "import numpy as np\n",
    "from profile_surface import get_neighbours, expand_to_fill, indices2surfaces\n",
    "from matplotlib import pyplot as plt\n",
    "import io_mesh as io\n",
    "import pandas as pd\n"
   ]
  },
  {
   "cell_type": "code",
   "execution_count": 3,
   "metadata": {},
   "outputs": [],
   "source": [
    "def surface_smoothing(values, surf_filename, fwhm=2):\n",
    "    \"\"\"smooth surface values using depth_potential. Will loop over multiple values if necessary\n",
    "    smooths across surf_filename with fwhm set\"\"\"\n",
    "    #check dimensions\n",
    "    shrink=False\n",
    "    flipped=False\n",
    "    if np.ndim(values)==1:\n",
    "        values=np.array([values])\n",
    "        shrink=True\n",
    "    elif values.shape[0]>values.shape[1]:\n",
    "        values=values.T\n",
    "        flipped=True\n",
    "    new_values=np.zeros_like(values)\n",
    "    for k,overlay in enumerate(values):\n",
    "        if surf_filename[-4:]=='.obj':\n",
    "            surf_filename_sm=surf_filename\n",
    "        else:\n",
    "            surf_filename_sm=surf_filename + str(k)+'.obj'\n",
    "        np.savetxt('/tmp/tmp.txt', overlay, fmt='%f')\n",
    "        print('smoothing surface '+str(k))\n",
    "        subprocess.call('depth_potential -smooth '+ str(fwhm)+' /tmp/tmp.txt '+ surf_filename_sm +' /tmp/smtmp.txt',shell=True)\n",
    "        new_overlay = np.loadtxt('/tmp/smtmp.txt')\n",
    "        new_values[k] = new_overlay\n",
    "    if shrink:\n",
    "        return new_values[0]\n",
    "    else:\n",
    "        if flipped==True:\n",
    "            return new_values.T\n",
    "        return new_values\n",
    "    \n",
    "\n",
    "def indices2surfaces(profile_file, indices, demo, rootname):\n",
    "    \"\"\"write indices to surfaces based on coordinates in txt file\"\"\"\n",
    "    indices=np.round(indices).astype(int)\n",
    "    n_layers=np.shape(indices)[1]\n",
    "    n_vert=len(indices)\n",
    "    with open(profile_file,'r') as profiles:\n",
    "        surfs={}\n",
    "        for n in range(n_layers):\n",
    "            surfs[\"corticalsurface{0}\".format(n)]=[]\n",
    "        for R in range(n_vert):\n",
    "            xyz=[]\n",
    "        #Read in each profile as 200 rows.\n",
    "            for l in range(200):\n",
    "                Line=profiles.readline().rstrip()\n",
    "                LineSplit=Line.split(' ')\n",
    "                xyz.append(LineSplit[0:3])\n",
    "            empty=profiles.readline()\n",
    "            for n in range(n_layers):\n",
    "                surfs[\"corticalsurface{0}\".format(n)].append(' ' + ' '.join(xyz[indices[R][n]]))\n",
    "    for n in range(n_layers):\n",
    "        SurfaceName=rootname+'_layer'+str(n)+'.obj'\n",
    "        with open(demo,'r') as input, open(SurfaceName, 'w') as output:\n",
    "            line=input.readline()\n",
    "            n_vert=int(line.split()[6])\n",
    "            output.write(line)\n",
    "            k=-1\n",
    "            for line in input:\n",
    "                k+=1\n",
    "                if k<n_vert and surfs[\"corticalsurface{0}\".format(n)][k]!=\" 0 0 0\":\n",
    "                    output.write('%s\\n' % surfs[\"corticalsurface{0}\".format(n)][k])\n",
    "                else:\n",
    "                    output.write(line)\n",
    "\n",
    "def calculate_thickness(inner_surf,outer_surf,tfile):\n",
    "    subprocess.call('cortical_thickness -tfs '+ inner_surf + ' '+outer_surf+' '+tfile_name,shell=True)\n",
    "    return\n",
    "\n",
    "def register_surfs(surf_file):\n",
    "    #linear \n",
    "    subprocess.call('transform_objects '+ surf_file + ' /data1/users/kwagstyl/bigbrain/NeuralNetworks/transforms/bigbrain_to_adni_lin.xfm '+ surf_file,shell=True)\n",
    "    #nonlinear+surf_fils\n",
    "    #subprocess.call('transform_objects '+surf_file+ ' /data1/users/kwagstyl/bigbrain/NeuralNetworks/transforms/bigbrain_to_adni_nl.xfm '+surf_file,shell=True)"
   ]
  },
  {
   "cell_type": "code",
   "execution_count": 4,
   "metadata": {},
   "outputs": [],
   "source": [
    "def indices2intensities(profiles,indices, output, surf_regress):\n",
    "    from scipy import stats\n",
    "    \"\"\"calculate mean intensity for a layer\"\"\"\n",
    "    l_intensities=np.zeros((6,163842))\n",
    "    intensities=np.zeros((163842,200))\n",
    "    with open(profiles, 'r') as f:\n",
    "        for v in range(163842):\n",
    "            intensities[v]=np.array(list(map(float,f.readline().split(' '))))\n",
    "    g_means=np.mean(intensities,axis=1)\n",
    "    surf=io.load_mesh_geometry(surf_regress) \n",
    "    slope, intercept, r_value, p_value, std_err = stats.linregress(surf['coords'][:163842,1], g_means)\n",
    "    print(slope)\n",
    "    for l in range(6):\n",
    "        for v in range(163842):\n",
    "          #  intensities[v,:]=intensities[v,:]-(surf['coords'][v,1]+60)*slope\n",
    "            l_intensities[l,v]= np.mean(intensities[v,indices[v,l]:indices[v,l+1]])\n",
    "    for l in range(6):\n",
    "        np.savetxt(output+str(l+1)+'.txt', np.nan_to_num(l_intensities[l]))"
   ]
  },
  {
   "cell_type": "code",
   "execution_count": 4,
   "metadata": {},
   "outputs": [
    {
     "ename": "NameError",
     "evalue": "name 'datadir' is not defined",
     "output_type": "error",
     "traceback": [
      "\u001b[0;31m---------------------------------------------------------------------------\u001b[0m",
      "\u001b[0;31mNameError\u001b[0m                                 Traceback (most recent call last)",
      "\u001b[0;32m<ipython-input-4-54817990f18b>\u001b[0m in \u001b[0;36m<module>\u001b[0;34m()\u001b[0m\n\u001b[0;32m----> 1\u001b[0;31m indices2intensities(os.path.join(datadir,'geo_'+hemi+'_20.txt'), \n\u001b[0m\u001b[1;32m      2\u001b[0m         \u001b[0mclipped\u001b[0m\u001b[0;34m,\u001b[0m \u001b[0mos\u001b[0m\u001b[0;34m.\u001b[0m\u001b[0mpath\u001b[0m\u001b[0;34m.\u001b[0m\u001b[0mjoin\u001b[0m\u001b[0;34m(\u001b[0m\u001b[0mtdir\u001b[0m\u001b[0;34m,\u001b[0m\u001b[0;34m'intensities_'\u001b[0m\u001b[0;34m+\u001b[0m\u001b[0mhemi\u001b[0m\u001b[0;34m+\u001b[0m\u001b[0;34m'_layer'\u001b[0m\u001b[0;34m)\u001b[0m\u001b[0;34m,\u001b[0m\u001b[0;34m\u001b[0m\u001b[0m\n\u001b[1;32m      3\u001b[0m                              os.path.join(surfdir,'august2018_'+hemi+'_'+str(resolution)+'_layer4.obj'))\n",
      "\u001b[0;31mNameError\u001b[0m: name 'datadir' is not defined"
     ]
    }
   ],
   "source": [
    "indices2intensities(os.path.join(datadir,'geo_'+hemi+'_20.txt'), \n",
    "        clipped, os.path.join(tdir,'intensities_'+hemi+'_layer'),\n",
    "                             os.path.join(surfdir,'august2018_'+hemi+'_'+str(resolution)+'_layer4.obj'))"
   ]
  },
  {
   "cell_type": "code",
   "execution_count": 6,
   "metadata": {
    "scrolled": true
   },
   "outputs": [
    {
     "name": "stdout",
     "output_type": "stream",
     "text": [
      "smoothing surface 0\n",
      "smoothing surface 1\n",
      "smoothing surface 2\n",
      "smoothing surface 3\n",
      "smoothing surface 4\n",
      "smoothing surface 5\n",
      "smoothing surface 6\n"
     ]
    },
    {
     "ename": "FileNotFoundError",
     "evalue": "[Errno 2] No such file or directory: '/data1/users/kwagstyl/bigbrain/NeuralNetworks/surfdir/surfs_20microns/march2020_left_20_layer4.obj'",
     "output_type": "error",
     "traceback": [
      "\u001b[0;31m---------------------------------------------------------------------------\u001b[0m",
      "\u001b[0;31mFileNotFoundError\u001b[0m                         Traceback (most recent call last)",
      "\u001b[0;32m<ipython-input-6-873bd76f6ab5>\u001b[0m in \u001b[0;36m<module>\u001b[0;34m()\u001b[0m\n\u001b[1;32m     31\u001b[0m         indices2surfaces(os.path.join(datadir,'full8_1000um.mnc_'+hemi+'_profiles_raw.txt'),\n\u001b[1;32m     32\u001b[0m                          \u001b[0mclipped\u001b[0m\u001b[0;34m,\u001b[0m\u001b[0mos\u001b[0m\u001b[0;34m.\u001b[0m\u001b[0mpath\u001b[0m\u001b[0;34m.\u001b[0m\u001b[0mjoin\u001b[0m\u001b[0;34m(\u001b[0m\u001b[0msurfdir\u001b[0m\u001b[0;34m,\u001b[0m\u001b[0;34m'march2020_'\u001b[0m\u001b[0;34m+\u001b[0m\u001b[0mhemi\u001b[0m\u001b[0;34m+\u001b[0m\u001b[0;34m'_'\u001b[0m\u001b[0;34m+\u001b[0m\u001b[0mstr\u001b[0m\u001b[0;34m(\u001b[0m\u001b[0mresolution\u001b[0m\u001b[0;34m)\u001b[0m\u001b[0;34m+\u001b[0m\u001b[0;34m'_layer4.obj'\u001b[0m\u001b[0;34m)\u001b[0m\u001b[0;34m,\u001b[0m\u001b[0;34m\u001b[0m\u001b[0m\n\u001b[0;32m---> 33\u001b[0;31m                         os.path.join(surfdir, 'surfsmoothed_march2020_'+hemi+'_'+str(resolution)))\n\u001b[0m\u001b[1;32m     34\u001b[0m \u001b[0;34m\u001b[0m\u001b[0m\n\u001b[1;32m     35\u001b[0m \u001b[0;34m\u001b[0m\u001b[0m\n",
      "\u001b[0;32m<ipython-input-3-ad1e34112c09>\u001b[0m in \u001b[0;36mindices2surfaces\u001b[0;34m(profile_file, indices, demo, rootname)\u001b[0m\n\u001b[1;32m     51\u001b[0m     \u001b[0;32mfor\u001b[0m \u001b[0mn\u001b[0m \u001b[0;32min\u001b[0m \u001b[0mrange\u001b[0m\u001b[0;34m(\u001b[0m\u001b[0mn_layers\u001b[0m\u001b[0;34m)\u001b[0m\u001b[0;34m:\u001b[0m\u001b[0;34m\u001b[0m\u001b[0m\n\u001b[1;32m     52\u001b[0m         \u001b[0mSurfaceName\u001b[0m\u001b[0;34m=\u001b[0m\u001b[0mrootname\u001b[0m\u001b[0;34m+\u001b[0m\u001b[0;34m'_layer'\u001b[0m\u001b[0;34m+\u001b[0m\u001b[0mstr\u001b[0m\u001b[0;34m(\u001b[0m\u001b[0mn\u001b[0m\u001b[0;34m)\u001b[0m\u001b[0;34m+\u001b[0m\u001b[0;34m'.obj'\u001b[0m\u001b[0;34m\u001b[0m\u001b[0m\n\u001b[0;32m---> 53\u001b[0;31m         \u001b[0;32mwith\u001b[0m \u001b[0mopen\u001b[0m\u001b[0;34m(\u001b[0m\u001b[0mdemo\u001b[0m\u001b[0;34m,\u001b[0m\u001b[0;34m'r'\u001b[0m\u001b[0;34m)\u001b[0m \u001b[0;32mas\u001b[0m \u001b[0minput\u001b[0m\u001b[0;34m,\u001b[0m \u001b[0mopen\u001b[0m\u001b[0;34m(\u001b[0m\u001b[0mSurfaceName\u001b[0m\u001b[0;34m,\u001b[0m \u001b[0;34m'w'\u001b[0m\u001b[0;34m)\u001b[0m \u001b[0;32mas\u001b[0m \u001b[0moutput\u001b[0m\u001b[0;34m:\u001b[0m\u001b[0;34m\u001b[0m\u001b[0m\n\u001b[0m\u001b[1;32m     54\u001b[0m             \u001b[0mline\u001b[0m\u001b[0;34m=\u001b[0m\u001b[0minput\u001b[0m\u001b[0;34m.\u001b[0m\u001b[0mreadline\u001b[0m\u001b[0;34m(\u001b[0m\u001b[0;34m)\u001b[0m\u001b[0;34m\u001b[0m\u001b[0m\n\u001b[1;32m     55\u001b[0m             \u001b[0mn_vert\u001b[0m\u001b[0;34m=\u001b[0m\u001b[0mint\u001b[0m\u001b[0;34m(\u001b[0m\u001b[0mline\u001b[0m\u001b[0;34m.\u001b[0m\u001b[0msplit\u001b[0m\u001b[0;34m(\u001b[0m\u001b[0;34m)\u001b[0m\u001b[0;34m[\u001b[0m\u001b[0;36m6\u001b[0m\u001b[0;34m]\u001b[0m\u001b[0;34m)\u001b[0m\u001b[0;34m\u001b[0m\u001b[0m\n",
      "\u001b[0;31mFileNotFoundError\u001b[0m: [Errno 2] No such file or directory: '/data1/users/kwagstyl/bigbrain/NeuralNetworks/surfdir/surfs_20microns/march2020_left_20_layer4.obj'"
     ]
    }
   ],
   "source": [
    "#running this box should be enough\n",
    "generate_surfs=True\n",
    "generate_masked=True\n",
    "adni_alignment=True\n",
    "recalc_thick=True\n",
    "resolution=20\n",
    "if resolution >20:\n",
    "    recalc_thick=False\n",
    "    adni_alignment=False\n",
    "\n",
    "surfdir='/data1/users/kwagstyl/bigbrain/NeuralNetworks/surfdir/surfs_'+str(resolution)+'microns/'\n",
    "datadir='/data1/users/kwagstyl/bigbrain/NeuralNetworks/BigBrainData/'\n",
    "tdir='/data1/users/kwagstyl/bigbrain/Hierarchy/'\n",
    "hemis=[\"left\",\"right\"]\n",
    "for hemi in hemis:\n",
    "    if generate_surfs:\n",
    "        layer=0\n",
    "        indices=np.loadtxt(os.path.join(surfdir,'indices'+hemi+'_'+str(resolution)+'_nonzeros.txt'))\n",
    "        #indices2surfaces(os.path.join(datadir,'full8_1000um.mnc_'+hemi+'_profiles_raw.txt'),\n",
    "        #                 indices,os.path.join(surfdir,'august2018_'+hemi+'_'+str(resolution)+'_layer4.obj'),\n",
    "        #                os.path.join(surfdir, 'tmp_august2018_'+hemi+'_'+str(resolution)))\n",
    "        smoothed_indices=surface_smoothing(indices,os.path.join(surfdir,'august2018_'+hemi+'_'+str(resolution)+'_layer'),fwhm=1)\n",
    "        smoothed_indices=np.round(smoothed_indices).astype(int)\n",
    "        smoothed_indices=np.sort(smoothed_indices)\n",
    "\n",
    "        clipped=np.clip(smoothed_indices,0,199)\n",
    "        np.savetxt(os.path.join(surfdir,'indices'+hemi+'_'+str(resolution)+'_surf_smoothed.txt'),smoothed_indices,fmt='%i' )\n",
    "        #indices2intensities(os.path.join(datadir,'geo_'+hemi+'_20.txt')), \n",
    "        #clipped, os.path.join(tdir,'intensities_'+hemi+'_layer',\n",
    "         #                    os.path.join(surfdir,'august2018_'+hemi+'_'+str(resolution)+'_layer4.obj')\n",
    "        indices2surfaces(os.path.join(datadir,'full8_1000um.mnc_'+hemi+'_profiles_raw.txt'),\n",
    "                         clipped,os.path.join(surfdir,'august20180_'+hemi+'_'+str(resolution)+'_layer4.obj'),\n",
    "                        os.path.join(surfdir, 'surfsmoothed_march2020_'+hemi+'_'+str(resolution)))\n",
    "\n",
    "\n",
    "\n",
    "        #taubin smoothing\n",
    "        for n in range(7):   \n",
    "            surface=os.path.join(surfdir, 'surfsmoothed_march2020_'+hemi+'_'+str(resolution))+'_layer'+str(n)+'.obj'\n",
    "            surface_new=os.path.join(surfdir, 'sm_20_surfsmoothed_march2020_'+hemi+'_'+str(resolution)+'_layer'+str(n)+'.obj')\n",
    "            subprocess.call('/data1/users/kwagstyl/quarantines/Linux-x86_64/bin/adapt_object_mesh_taubin '+surface+' '+surface_new+' 9999999999 20',shell=True)\n",
    "\n",
    "    #mask medial wall for viewing purposes\n",
    "    if generate_masked:\n",
    "        medial_mask = np.loadtxt('/data1/users/kwagstyl/bigbrain/NeuralNetworks/surfdir/medial_wall_'+hemi+'.txt').astype(bool)\n",
    "        pial=io.load_mesh_geometry(os.path.join(surfdir,'sm_20_surfsmoothed_march2020_'+hemi+'_'+str(resolution)+'_layer0.obj'))\n",
    "        #mask  medial wall \n",
    "        for n in np.arange(7):\n",
    "            surf=io.load_mesh_geometry(os.path.join(surfdir,'sm_20_surfsmoothed_march2020_'+hemi+'_'+str(resolution)+'_layer'+str(n)+'.obj'))\n",
    "            io.save_mesh_geometry(os.path.join(surfdir,'basic_surfs_march2020_'+hemi+'_'+str(resolution)+'_layer'+str(n)+'.obj'),\n",
    "                                              surf)\n",
    "            surf['coords'][medial_mask]=pial['coords'][medial_mask]\n",
    "            io.save_mesh_geometry(os.path.join(surfdir,'masked_surfs_march2020_'+hemi+'_'+str(resolution)+'_layer'+str(n)+'.obj'),\n",
    "                                              surf)\n",
    "            \n",
    "        #subprocess.call('cp '+os.path.join(surfdir,'sm_20_surfsmoothed_august2018_'+hemi+'_'+str(resolution)+'_layer0.obj')\n",
    "        #               + ' '+ os.path.join(surfdir,'masked_surfs_november2019_'+hemi+'_'+str(resolution)+'_layer0.obj'),shell=True)\n",
    "\n",
    "    #generate lowres pial and white\n",
    "    print('generating lowres')\n",
    "    dummy=io.load_mesh_geometry(os.path.join('/data1/users/kwagstyl/bigbrain/surfaces/gray_'+hemi+'_327680.obj'))\n",
    "    pial=io.load_mesh_geometry(os.path.join(surfdir,'sm_20_surfsmoothed_march2020_'+hemi+'_'+str(resolution)+'_layer0.obj'))\n",
    "    white=io.load_mesh_geometry(os.path.join(surfdir,'sm_20_surfsmoothed_march2020_'+hemi+'_'+str(resolution)+'_layer6.obj'))\n",
    "    dummy['coords'][:]=pial['coords'][:len(dummy['coords'])]\n",
    "    io.save_mesh_geometry(os.path.join(surfdir,'gray_'+hemi+'_163842.obj'),\n",
    "                                              dummy)\n",
    "    dummy['coords'][:]=white['coords'][:len(dummy['coords'])]\n",
    "    io.save_mesh_geometry(os.path.join(surfdir,'white_'+hemi+'_163842.obj'),\n",
    "                                              dummy)\n",
    "    #warp surfaces prior to thickness calculation\n",
    "    if adni_alignment:\n",
    "        print('registering surfs')\n",
    "        for n in range(7):\n",
    "            register_surfs(os.path.join(surfdir,'sm_20_surfsmoothed_march2020_'+hemi+'_'+str(resolution)+'_layer'+str(n)+'.obj'))\n",
    "\n",
    "    \n",
    "    #calculate thicknesses\n",
    "    if recalc_thick:\n",
    "        print('calculating thickness')\n",
    "        outer_surf=os.path.join(surfdir, 'sm_20_surfsmoothed_march2020_'+hemi+'_'+str(resolution)+'_layer0.obj')\n",
    "        inner_surf=os.path.join(surfdir, 'sm_20_surfsmoothed_march2020_'+hemi+'_'+str(resolution)+'_layer6.obj')\n",
    "\n",
    "        tfile_name=os.path.join(tdir,'thickness_'+hemi+'_total.txt')\n",
    "        calculate_thickness(inner_surf,outer_surf,tfile_name)\n",
    "        for n in np.arange(6):\n",
    "            outer_surf=os.path.join(surfdir, 'sm_20_surfsmoothed_march2020_'+hemi+'_'+str(resolution)+'_layer'+str(n)+'.obj')\n",
    "            inner_surf=os.path.join(surfdir, 'sm_20_surfsmoothed_march2020_'+hemi+'_'+str(resolution)+'_layer'+str(n+1)+'.obj')\n",
    "            tfile_name=os.path.join(tdir,'thickness_'+hemi+'_layer'+str(n+1)+'.txt')\n",
    "            calculate_thickness(inner_surf,outer_surf,tfile_name)\n",
    "            "
   ]
  },
  {
   "cell_type": "code",
   "execution_count": null,
   "metadata": {},
   "outputs": [],
   "source": []
  },
  {
   "cell_type": "code",
   "execution_count": 57,
   "metadata": {},
   "outputs": [
    {
     "data": {
      "text/plain": [
       "5"
      ]
     },
     "execution_count": 57,
     "metadata": {},
     "output_type": "execute_result"
    }
   ],
   "source": [
    "n"
   ]
  },
  {
   "cell_type": "code",
   "execution_count": 56,
   "metadata": {},
   "outputs": [],
   "source": [
    "register_surfs(os.path.join(surfdir, 'sm_20_surfsmoothed_august2018_'+hemi+'_'+str(resolution)+'_layer'+str(n)+'.obj'))"
   ]
  },
  {
   "cell_type": "code",
   "execution_count": 32,
   "metadata": {},
   "outputs": [],
   "source": [
    "#upsample mask\n",
    "#mask surfaces\n",
    "#mask out archicortex\n",
    "for hemi in hemis:\n",
    "    #archi_mask=np.loadtxt('/data1/users/kwagstyl/bigbrain/NeuralNetworks/surfdir/archi_'+hemi+'_up.txt').astype(bool)\n",
    "\n",
    "    medial_mask = np.loadtxt('/data1/users/kwagstyl/bigbrain/NeuralNetworks/surfdir/medial_wall_'+hemi+'.txt').astype(bool)\n",
    "    pial=io.load_mesh_geometry(os.path.join(surfdir,'sm_20_surfsmoothed_august2018_'+hemi+'_'+str(resolution)+'_layer0.obj'))\n",
    "    #mask  medial wall \n",
    "    for n in 6-np.arange(6):\n",
    "        surf=io.load_mesh_geometry(os.path.join(surfdir,'sm_20_surfsmoothed_august2018_'+hemi+'_'+str(resolution)+'_layer'+str(n)+'.obj'))\n",
    "        surf['coords'][medial_mask]=pial['coords'][medial_mask]\n",
    "        io.save_mesh_geometry(os.path.join(surfdir,'masked_surfs_april2019_'+hemi+'_'+str(resolution)+'_layer'+str(n)+'.obj'),\n",
    "                                          surf)\n",
    "    subprocess.call('cp '+os.path.join(surfdir,'sm_20_surfsmoothed_august2018_'+hemi+'_'+str(resolution)+'_layer0.obj')\n",
    "                   + ' '+ os.path.join(surfdir,'masked_surfs_april2019_'+hemi+'_'+str(resolution)+'_layer0.obj'),shell=True)\n"
   ]
  },
  {
   "cell_type": "code",
   "execution_count": 31,
   "metadata": {},
   "outputs": [
    {
     "data": {
      "text/plain": [
       "array([list([246208, 246209, 459137, 262531, 459139]),\n",
       "       list([237888, 237889, 262529, 606466, 590145]),\n",
       "       list([201024, 201025, 209185, 215329, 207137, 219427]), ...,\n",
       "       list([653842, 653843, 653845, 653846, 653847, 653849]),\n",
       "       list([653859, 653861, 653847, 653848, 653850, 653851]),\n",
       "       list([653859, 653860, 653862, 653863, 653866, 653867])],\n",
       "      dtype=object)"
      ]
     },
     "execution_count": 31,
     "metadata": {},
     "output_type": "execute_result"
    }
   ],
   "source": [
    "neighbours=np.array(neighbours)\n",
    "neighbours[archi_mask_up==1]"
   ]
  },
  {
   "cell_type": "code",
   "execution_count": 43,
   "metadata": {},
   "outputs": [
    {
     "ename": "KeyboardInterrupt",
     "evalue": "",
     "output_type": "error",
     "traceback": [
      "\u001b[0;31m---------------------------------------------------------------------------\u001b[0m",
      "\u001b[0;31mKeyboardInterrupt\u001b[0m                         Traceback (most recent call last)",
      "\u001b[0;32m<ipython-input-43-9509c96b87a5>\u001b[0m in \u001b[0;36m<module>\u001b[0;34m()\u001b[0m\n\u001b[1;32m      5\u001b[0m \u001b[0;34m\u001b[0m\u001b[0m\n\u001b[1;32m      6\u001b[0m     \u001b[0mmedial_mask\u001b[0m \u001b[0;34m=\u001b[0m \u001b[0mnp\u001b[0m\u001b[0;34m.\u001b[0m\u001b[0mloadtxt\u001b[0m\u001b[0;34m(\u001b[0m\u001b[0;34m'/data1/users/kwagstyl/bigbrain/NeuralNetworks/surfdir/medial_wall_'\u001b[0m\u001b[0;34m+\u001b[0m\u001b[0mhemi\u001b[0m\u001b[0;34m+\u001b[0m\u001b[0;34m'.txt'\u001b[0m\u001b[0;34m)\u001b[0m\u001b[0;34m.\u001b[0m\u001b[0mastype\u001b[0m\u001b[0;34m(\u001b[0m\u001b[0mbool\u001b[0m\u001b[0;34m)\u001b[0m\u001b[0;34m\u001b[0m\u001b[0m\n\u001b[0;32m----> 7\u001b[0;31m     \u001b[0mpial\u001b[0m\u001b[0;34m=\u001b[0m\u001b[0mio\u001b[0m\u001b[0;34m.\u001b[0m\u001b[0mload_mesh_geometry\u001b[0m\u001b[0;34m(\u001b[0m\u001b[0mos\u001b[0m\u001b[0;34m.\u001b[0m\u001b[0mpath\u001b[0m\u001b[0;34m.\u001b[0m\u001b[0mjoin\u001b[0m\u001b[0;34m(\u001b[0m\u001b[0msurfdir\u001b[0m\u001b[0;34m,\u001b[0m\u001b[0;34m'sm_20_surfsmoothed_august2018_'\u001b[0m\u001b[0;34m+\u001b[0m\u001b[0mhemi\u001b[0m\u001b[0;34m+\u001b[0m\u001b[0;34m'_'\u001b[0m\u001b[0;34m+\u001b[0m\u001b[0mstr\u001b[0m\u001b[0;34m(\u001b[0m\u001b[0mresolution\u001b[0m\u001b[0;34m)\u001b[0m\u001b[0;34m+\u001b[0m\u001b[0;34m'_layer0.obj'\u001b[0m\u001b[0;34m)\u001b[0m\u001b[0;34m)\u001b[0m\u001b[0;34m\u001b[0m\u001b[0m\n\u001b[0m\u001b[1;32m      8\u001b[0m     \u001b[0;31m#mask  medial wall\u001b[0m\u001b[0;34m\u001b[0m\u001b[0;34m\u001b[0m\u001b[0m\n\u001b[1;32m      9\u001b[0m     \u001b[0;32mfor\u001b[0m \u001b[0mn\u001b[0m \u001b[0;32min\u001b[0m \u001b[0;36m6\u001b[0m\u001b[0;34m-\u001b[0m\u001b[0mnp\u001b[0m\u001b[0;34m.\u001b[0m\u001b[0marange\u001b[0m\u001b[0;34m(\u001b[0m\u001b[0;36m6\u001b[0m\u001b[0;34m)\u001b[0m\u001b[0;34m:\u001b[0m\u001b[0;34m\u001b[0m\u001b[0m\n",
      "\u001b[0;32m/data1/users/kwagstyl/laminar_python/io_mesh.py\u001b[0m in \u001b[0;36mload_mesh_geometry\u001b[0;34m(surf_mesh)\u001b[0m\n\u001b[1;32m     18\u001b[0m             \u001b[0mcoords\u001b[0m\u001b[0;34m,\u001b[0m \u001b[0mfaces\u001b[0m \u001b[0;34m=\u001b[0m \u001b[0mread_ply\u001b[0m\u001b[0;34m(\u001b[0m\u001b[0msurf_mesh\u001b[0m\u001b[0;34m)\u001b[0m\u001b[0;34m\u001b[0m\u001b[0m\n\u001b[1;32m     19\u001b[0m         \u001b[0;32melif\u001b[0m \u001b[0msurf_mesh\u001b[0m\u001b[0;34m.\u001b[0m\u001b[0mendswith\u001b[0m\u001b[0;34m(\u001b[0m\u001b[0;34m'obj'\u001b[0m\u001b[0;34m)\u001b[0m\u001b[0;34m:\u001b[0m\u001b[0;34m\u001b[0m\u001b[0m\n\u001b[0;32m---> 20\u001b[0;31m             \u001b[0mcoords\u001b[0m\u001b[0;34m,\u001b[0m \u001b[0mfaces\u001b[0m \u001b[0;34m=\u001b[0m \u001b[0mread_obj\u001b[0m\u001b[0;34m(\u001b[0m\u001b[0msurf_mesh\u001b[0m\u001b[0;34m)\u001b[0m\u001b[0;34m\u001b[0m\u001b[0m\n\u001b[0m\u001b[1;32m     21\u001b[0m         \u001b[0;32melif\u001b[0m \u001b[0misinstance\u001b[0m\u001b[0;34m(\u001b[0m\u001b[0msurf_mesh\u001b[0m\u001b[0;34m,\u001b[0m \u001b[0mdict\u001b[0m\u001b[0;34m)\u001b[0m\u001b[0;34m:\u001b[0m\u001b[0;34m\u001b[0m\u001b[0m\n\u001b[1;32m     22\u001b[0m             \u001b[0;32mif\u001b[0m \u001b[0;34m(\u001b[0m\u001b[0;34m'faces'\u001b[0m \u001b[0;32min\u001b[0m \u001b[0msurf_mesh\u001b[0m \u001b[0;32mand\u001b[0m \u001b[0;34m'coords'\u001b[0m \u001b[0;32min\u001b[0m \u001b[0msurf_mesh\u001b[0m\u001b[0;34m)\u001b[0m\u001b[0;34m:\u001b[0m\u001b[0;34m\u001b[0m\u001b[0m\n",
      "\u001b[0;32m/data1/users/kwagstyl/laminar_python/io_mesh.py\u001b[0m in \u001b[0;36mread_obj\u001b[0;34m(file)\u001b[0m\n\u001b[1;32m    201\u001b[0m                  \u001b[0mk\u001b[0m\u001b[0;34m=\u001b[0m\u001b[0;36m1\u001b[0m\u001b[0;34m\u001b[0m\u001b[0m\n\u001b[1;32m    202\u001b[0m              \u001b[0;32melif\u001b[0m \u001b[0mk\u001b[0m\u001b[0;34m==\u001b[0m\u001b[0;36m1\u001b[0m\u001b[0;34m:\u001b[0m\u001b[0;34m\u001b[0m\u001b[0m\n\u001b[0;32m--> 203\u001b[0;31m                  \u001b[0mPolys\u001b[0m\u001b[0;34m.\u001b[0m\u001b[0mextend\u001b[0m\u001b[0;34m(\u001b[0m\u001b[0mline\u001b[0m\u001b[0;34m.\u001b[0m\u001b[0msplit\u001b[0m\u001b[0;34m(\u001b[0m\u001b[0;34m)\u001b[0m\u001b[0;34m)\u001b[0m\u001b[0;34m\u001b[0m\u001b[0m\n\u001b[0m\u001b[1;32m    204\u001b[0m     \u001b[0mPolys\u001b[0m\u001b[0;34m=\u001b[0m\u001b[0mlist\u001b[0m\u001b[0;34m(\u001b[0m\u001b[0mmap\u001b[0m\u001b[0;34m(\u001b[0m\u001b[0mint\u001b[0m\u001b[0;34m,\u001b[0m\u001b[0mPolys\u001b[0m\u001b[0;34m)\u001b[0m\u001b[0;34m)\u001b[0m\u001b[0;34m\u001b[0m\u001b[0m\n\u001b[1;32m    205\u001b[0m     \u001b[0mnpPolys\u001b[0m\u001b[0;34m=\u001b[0m\u001b[0mnp\u001b[0m\u001b[0;34m.\u001b[0m\u001b[0marray\u001b[0m\u001b[0;34m(\u001b[0m\u001b[0mPolys\u001b[0m\u001b[0;34m)\u001b[0m\u001b[0;34m\u001b[0m\u001b[0m\n",
      "\u001b[0;31mKeyboardInterrupt\u001b[0m: "
     ]
    }
   ],
   "source": []
  },
  {
   "cell_type": "code",
   "execution_count": 22,
   "metadata": {},
   "outputs": [
    {
     "data": {
      "text/plain": [
       "163842"
      ]
     },
     "execution_count": 22,
     "metadata": {},
     "output_type": "execute_result"
    }
   ],
   "source": []
  },
  {
   "cell_type": "code",
   "execution_count": 13,
   "metadata": {},
   "outputs": [],
   "source": [
    "mask=np.loadtxt('/data1/users/kwagstyl/bigbrain/NeuralNetworks/surfdir/archi_'+hemi+'.txt').astype(int)\n",
    "indices[mask,:-1]=np.array([indices[mask,0]]).T"
   ]
  },
  {
   "cell_type": "code",
   "execution_count": 9,
   "metadata": {},
   "outputs": [],
   "source": [
    "#calculating thickness\n",
    "resolution=20\n",
    "hemi=\"right\"\n",
    "\n",
    "surfdir='/data1/users/kwagstyl/bigbrain/NeuralNetworks/surfdir/surfs_'+str(resolution)+'microns/'\n",
    "datadir='/data1/users/kwagstyl/bigbrain/NeuralNetworks/BigBrainData/'\n",
    "tdir='/data1/users/kwagstyl/bigbrain/Hierarchy/'\n",
    "outer_surf=os.path.join(surfdir, 'sm_20_surfsmoothed_august2018_'+hemi+'_'+str(resolution)+'_layer0.obj')\n",
    "inner_surf=os.path.join(surfdir, 'sm_20_surfsmoothed_august2018_'+hemi+'_'+str(resolution)+'_layer6.obj')\n",
    "tfile_name=os.path.join(tdir,'thickness_'+hemi+'_total.txt')\n",
    "calculate_thickness(inner_surf,outer_surf,tfile_name)\n",
    "for n in np.arange(6):\n",
    "    outer_surf=os.path.join(surfdir, 'sm_20_surfsmoothed_august2018_'+hemi+'_'+str(resolution)+'_layer'+str(n)+'.obj')\n",
    "    inner_surf=os.path.join(surfdir, 'sm_20_surfsmoothed_august2018_'+hemi+'_'+str(resolution)+'_layer'+str(n+1)+'.obj')\n",
    "    tfile_name=os.path.join(tdir,'thickness_'+hemi+'_layer'+str(n+1)+'.txt')\n",
    "    calculate_thickness(inner_surf,outer_surf,tfile_name)"
   ]
  },
  {
   "cell_type": "code",
   "execution_count": null,
   "metadata": {},
   "outputs": [],
   "source": [
    "\n",
    "def indices2surfaces(profile_file, indices, demo, rootname):\n",
    "    \"\"\"write indices to surfaces based on coordinates in txt file\"\"\"\n",
    "    indices=np.round(indices).astype(int)\n",
    "    n_layers=np.shape(indices)[1]\n",
    "    n_vert=len(indices)\n",
    "    with open(profile_file,'r') as profiles:\n",
    "        surfs={}\n",
    "        for n in range(n_layers):\n",
    "            surfs[\"corticalsurface{0}\".format(n)]=[]\n",
    "        for R in range(n_vert):\n",
    "            xyz=[]\n",
    "        #Read in each profile as 200 rows.\n",
    "            for l in range(200):\n",
    "                Line=profiles.readline().rstrip()\n",
    "                LineSplit=Line.split(' ')\n",
    "                xyz.append(LineSplit[0:3])\n",
    "            empty=profiles.readline()\n",
    "            for n in range(n_layers):\n",
    "                surfs[\"corticalsurface{0}\".format(n)].append(' ' + ' '.join(xyz[indices[R][n]]))\n",
    "    for n in range(n_layers):\n",
    "        SurfaceName=rootname+'_layer'+str(n)+'.obj'\n",
    "        with open(demo,'r') as input, open(SurfaceName, 'w') as output:\n",
    "            line=input.readline()\n",
    "            n_vert=int(line.split()[6])\n",
    "            output.write(line)\n",
    "            k=-1\n",
    "            for line in input:\n",
    "                k+=1\n",
    "                if k<n_vert and surfs[\"corticalsurface{0}\".format(n)][k]!=\" 0 0 0\":\n",
    "                    output.write('%s\\n' % surfs[\"corticalsurface{0}\".format(n)][k])\n",
    "                else:\n",
    "                    output.write(line)\n"
   ]
  },
  {
   "cell_type": "code",
   "execution_count": null,
   "metadata": {},
   "outputs": [],
   "source": [
    "##variable smoothing did not work\n",
    "def mean_curvature(surface):\n",
    "    \"\"\"calculate mean curvature using depth_potential\"\"\"\n",
    "    subprocess.call('depth_potential -mean_curvature '+ surface +' /tmp/tmp.txt',shell=True)\n",
    "    return np.loadtxt('/tmp/tmp.txt')"
   ]
  },
  {
   "cell_type": "code",
   "execution_count": null,
   "metadata": {},
   "outputs": [],
   "source": [
    "#variable smoothing. -5/+5 curvature least. Up to 20 iterations at 0 curv\n",
    "# -5 0, -4.5, 2,...\n",
    "curvatures=np.zeros_like(indices)\n",
    "for n in range(7):\n",
    "    surface=os.path.join(surfdir, 'surfsmoothed_august2018_'+hemi+'_'+str(resolution))+'_layer'+str(n)+'.obj'\n",
    "    curvature=mean_curvature(surface)\n",
    "    curvatures[:,n]=surface_smoothing(curvature,surface,fwhm=2)\n",
    "    \n",
    "    \n",
    "    \n"
   ]
  },
  {
   "cell_type": "code",
   "execution_count": 52,
   "metadata": {},
   "outputs": [
    {
     "data": {
      "image/png": "[encoded data removed]",
      "text/plain": [
       "<Figure size 432x288 with 1 Axes>"
      ]
     },
     "metadata": {},
     "output_type": "display_data"
    }
   ],
   "source": [
    "quantiles = pd.qcut(np.ndarray.flatten( np.abs(curvatures)),10)\n",
    "b=plt.hist(np.ndarray.flatten( np.abs(curvatures)),100)\n",
    "quantile_indices=np.reshape(quantiles.codes,curvatures.shape)"
   ]
  },
  {
   "cell_type": "code",
   "execution_count": 53,
   "metadata": {},
   "outputs": [
    {
     "name": "stdout",
     "output_type": "stream",
     "text": [
      "to view mesh in brainview, run the command:\n",
      "\n",
      "average_objects /data1/users/kwagstyl/bigbrain/NeuralNetworks/surfdir/surfs_20microns/variable_surfsmoothed_august2018_left_20_layer0.obj /data1/users/kwagstyl/bigbrain/NeuralNetworks/surfdir/surfs_20microns/variable_surfsmoothed_august2018_left_20_layer0.obj\n",
      "to view mesh in brainview, run the command:\n",
      "\n",
      "average_objects /data1/users/kwagstyl/bigbrain/NeuralNetworks/surfdir/surfs_20microns/variable_surfsmoothed_august2018_left_20_layer1.obj /data1/users/kwagstyl/bigbrain/NeuralNetworks/surfdir/surfs_20microns/variable_surfsmoothed_august2018_left_20_layer1.obj\n",
      "to view mesh in brainview, run the command:\n",
      "\n",
      "average_objects /data1/users/kwagstyl/bigbrain/NeuralNetworks/surfdir/surfs_20microns/variable_surfsmoothed_august2018_left_20_layer2.obj /data1/users/kwagstyl/bigbrain/NeuralNetworks/surfdir/surfs_20microns/variable_surfsmoothed_august2018_left_20_layer2.obj\n",
      "to view mesh in brainview, run the command:\n",
      "\n",
      "average_objects /data1/users/kwagstyl/bigbrain/NeuralNetworks/surfdir/surfs_20microns/variable_surfsmoothed_august2018_left_20_layer3.obj /data1/users/kwagstyl/bigbrain/NeuralNetworks/surfdir/surfs_20microns/variable_surfsmoothed_august2018_left_20_layer3.obj\n",
      "to view mesh in brainview, run the command:\n",
      "\n",
      "average_objects /data1/users/kwagstyl/bigbrain/NeuralNetworks/surfdir/surfs_20microns/variable_surfsmoothed_august2018_left_20_layer4.obj /data1/users/kwagstyl/bigbrain/NeuralNetworks/surfdir/surfs_20microns/variable_surfsmoothed_august2018_left_20_layer4.obj\n",
      "to view mesh in brainview, run the command:\n",
      "\n",
      "average_objects /data1/users/kwagstyl/bigbrain/NeuralNetworks/surfdir/surfs_20microns/variable_surfsmoothed_august2018_left_20_layer5.obj /data1/users/kwagstyl/bigbrain/NeuralNetworks/surfdir/surfs_20microns/variable_surfsmoothed_august2018_left_20_layer5.obj\n",
      "to view mesh in brainview, run the command:\n",
      "\n",
      "average_objects /data1/users/kwagstyl/bigbrain/NeuralNetworks/surfdir/surfs_20microns/variable_surfsmoothed_august2018_left_20_layer6.obj /data1/users/kwagstyl/bigbrain/NeuralNetworks/surfdir/surfs_20microns/variable_surfsmoothed_august2018_left_20_layer6.obj\n"
     ]
    }
   ],
   "source": [
    "\n",
    "# for n in range(7):   \n",
    "#     for k in range(10):\n",
    "#         c=5*k\n",
    "#         #create_surfaces\n",
    "#         #zero smoothing step\n",
    "#         surface=os.path.join(surfdir, 'surfsmoothed_august2018_'+hemi+'_'+str(resolution))+'_layer'+str(n)+'.obj'\n",
    "#         if c ==0:\n",
    "#             subprocess.call('cp '+ surface + ' /tmp/tmp'+str(c)+'.obj',shell=True)\n",
    "#             tmp_surf=io.load_mesh_geometry('/tmp/tmp'+str(c)+'.obj')\n",
    "#         else:\n",
    "#             subprocess.call('adapt_object_mesh_taubin /tmp/tmp'+str(c-5)+'.obj /tmp/tmp'+str(c)+'.obj  9999999999 5',shell=True)\n",
    "#         #replace vertices\n",
    "#             vertices=quantile_indices[:,n] ==k\n",
    "#             tmp_surf['coords'][vertices]=io.load_mesh_geometry('/tmp/tmp'+str(c)+'.obj')['coords'][vertices]\n",
    "\n",
    "#     surface_new=os.path.join(surfdir, 'variable_surfsmoothed_august2018_'+hemi+'_'+str(resolution))+'_layer'+str(n)+'.obj'\n",
    "\n",
    "#     io.save_mesh_geometry(surface_new,tmp_surf)"
   ]
  },
  {
   "cell_type": "code",
   "execution_count": 17,
   "metadata": {},
   "outputs": [
    {
     "data": {
      "image/png": "[encoded data removed]",
      "text/plain": [
       "<Figure size 432x288 with 1 Axes>"
      ]
     },
     "metadata": {},
     "output_type": "display_data"
    }
   ],
   "source": [
    "a=plt.hist(sm_curvature,200)"
   ]
  },
  {
   "cell_type": "code",
   "execution_count": 57,
   "metadata": {},
   "outputs": [],
   "source": []
  },
  {
   "cell_type": "code",
   "execution_count": 26,
   "metadata": {},
   "outputs": [
    {
     "data": {
      "text/plain": [
       "array([8, 3, 9, ..., 3, 3, 3], dtype=int8)"
      ]
     },
     "execution_count": 26,
     "metadata": {},
     "output_type": "execute_result"
    }
   ],
   "source": [
    "bin_edges.codes"
   ]
  },
  {
   "cell_type": "code",
   "execution_count": null,
   "metadata": {},
   "outputs": [],
   "source": []
  }
 ],
 "metadata": {
  "kernelspec": {
   "display_name": "Python 3",
   "language": "python",
   "name": "python3"
  },
  "language_info": {
   "codemirror_mode": {
    "name": "ipython",
    "version": 3
   },
   "file_extension": ".py",
   "mimetype": "text/x-python",
   "name": "python",
   "nbconvert_exporter": "python",
   "pygments_lexer": "ipython3",
   "version": "3.6.5"
  }
 },
 "nbformat": 4,
 "nbformat_minor": 2
}
