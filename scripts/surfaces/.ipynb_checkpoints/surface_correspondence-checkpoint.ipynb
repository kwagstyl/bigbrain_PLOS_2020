{
 "cells": [
  {
   "cell_type": "code",
   "execution_count": 1,
   "metadata": {},
   "outputs": [
    {
     "name": "stderr",
     "output_type": "stream",
     "text": [
      "/home/users/kwagstyl/anaconda3/lib/python3.6/importlib/_bootstrap.py:219: RuntimeWarning: numpy.dtype size changed, may indicate binary incompatibility. Expected 96, got 88\n",
      "  return f(*args, **kwds)\n",
      "/home/users/kwagstyl/anaconda3/lib/python3.6/site-packages/h5py/__init__.py:36: FutureWarning: Conversion of the second argument of issubdtype from `float` to `np.floating` is deprecated. In future, it will be treated as `np.float64 == np.dtype(float).type`.\n",
      "  from ._conv import register_converters as _register_converters\n",
      "/home/users/kwagstyl/anaconda3/lib/python3.6/importlib/_bootstrap.py:219: RuntimeWarning: numpy.dtype size changed, may indicate binary incompatibility. Expected 96, got 88\n",
      "  return f(*args, **kwds)\n"
     ]
    }
   ],
   "source": [
    "import numpy as np\n",
    "import os\n",
    "import io_mesh as io\n",
    "from scipy import spatial\n",
    "import surface_tools as st\n",
    "import matplotlib.pyplot as plt\n",
    "import subprocess\n",
    "from scipy.stats import skew\n",
    "%matplotlib inline"
   ]
  },
  {
   "cell_type": "code",
   "execution_count": 2,
   "metadata": {},
   "outputs": [],
   "source": [
    "\n",
    "figdir='/data1/users/kwagstyl/bigbrain/NeuralNetworks/figs/'\n",
    "surfdir='/data1/users/kwagstyl/bigbrain/NeuralNetworks/surfdir/'\n",
    "hemis=['left','right']\n"
   ]
  },
  {
   "cell_type": "code",
   "execution_count": 4,
   "metadata": {},
   "outputs": [],
   "source": [
    "def calculate_area(surfname,fwhm):\n",
    "    \"\"\"calculate surface area using minctools\"\"\"\n",
    "    try:\n",
    "        subprocess.call(\"depth_potential -area_voronoi \" + surfname + \" /tmp/tmp_area.txt\",shell=True)\n",
    "        subprocess.call(\"depth_potential -smooth \" + str(fwhm) + \" /tmp/tmp_area.txt \" + surfname + \" /tmp/sm_area.txt\",shell=True)\n",
    "        area=np.loadtxt(\"/tmp/sm_area.txt\")\n",
    "        subprocess.call(\"rm /tmp/sm_area.txt /tmp/tmp_area.txt\",shell=True)\n",
    "    except OSError:\n",
    "        print(\"depth_potential not found, please install CIVET tools or replace with alternative area calculation/data smoothing\")\n",
    "        return 0;\n",
    "    return area;\n",
    "\n",
    "\n",
    "def beta(alpha, aw, ap):\n",
    "    \"\"\"Compute euclidean distance fraction, beta, that will yield the desired\n",
    "    volume fraction, alpha, given vertex areas in the white matter surface, aw,\n",
    "    and on the pial surface, ap.\n",
    "\n",
    "    A surface with `alpha` fraction of the cortical volume below it and \n",
    "    `1 - alpha` fraction above it can then be constructed from pial, px, and \n",
    "    white matter, pw, surface coordinates as `beta * px + (1 - beta) * pw`.\n",
    "    \"\"\"\n",
    "    if alpha == 0:\n",
    "        return np.zeros_like(aw)\n",
    "    elif alpha == 1:\n",
    "        return np.ones_like(aw)\n",
    "    else:\n",
    "        return 1-(1 / (ap - aw) * (-aw + np.sqrt((1-alpha)*ap**2 + alpha*aw**2)))\n",
    "\n",
    "def generate_equivolumetric_coords(gray_surf, white_surf, n_surfs,fwhm=2):\n",
    "    \"\"\" generate equivolumetric surface coordinates for matched gray white surfaces\n",
    "    if\"\"\"\n",
    "    \n",
    "    wm = io.load_mesh_geometry(white_surf)\n",
    "    gm = io.load_mesh_geometry(gray_surf)\n",
    "    \n",
    "    wm_vertexareas = calculate_area(white_surf, fwhm)\n",
    "    pia_vertexareas = calculate_area(gray_surf, fwhm)\n",
    "    vectors= wm['coords'] - gm['coords']\n",
    "    surfs_coords = np.zeros((n_surfs,len(vectors),3))\n",
    "    for depth in range(n_surfs):\n",
    "        betas = beta(float(depth)/(n_surfs-1), wm_vertexareas, pia_vertexareas)\n",
    "        surfs_coords[depth,:,:] = gm['coords'] + vectors* np.array([betas]).T\n",
    "    return surfs_coords\n",
    "\n",
    "\n",
    "def angle_vecs(vec1,vec2):\n",
    "    \"\"\"calculate angle between two vectors\"\"\"\n",
    "    angle=np.arccos(np.dot(vec1,vec2)/(np.linalg.norm(vec1)*np.linalg.norm(vec2)))\n",
    "    return angle\n",
    "\n",
    "def norm_differences(norms1, norms2, medial_wall):\n",
    "    \"\"\"calculate differences between normals of two surfaces\"\"\"\n",
    "    angles=[]\n",
    "    indices=np.where(medial_wall==0)[0]\n",
    "    for index in indices:\n",
    "        angles.append(angle_vecs(norms1[index],norms2[index]))\n",
    "    return np.array(angles)"
   ]
  },
  {
   "cell_type": "code",
   "execution_count": 10,
   "metadata": {},
   "outputs": [
    {
     "name": "stdout",
     "output_type": "stream",
     "text": [
      "Found vectors, not recalculating\n",
      "reloading vectors\n",
      "calculating angles\n",
      "to view mesh in brainview, run the command:\n",
      "\n",
      "average_objects /data1/users/kwagstyl/bigbrain/NeuralNetworks/surfdir/tmp_0_gray_left_up_iso.obj /data1/users/kwagstyl/bigbrain/NeuralNetworks/surfdir/tmp_0_gray_left_up_iso.obj\n",
      "to view mesh in brainview, run the command:\n",
      "\n",
      "average_objects /data1/users/kwagstyl/bigbrain/NeuralNetworks/surfdir/tmp_0_white_left_up_iso.obj /data1/users/kwagstyl/bigbrain/NeuralNetworks/surfdir/tmp_0_white_left_up_iso.obj\n",
      "reloading vectors\n",
      "calculating angles\n",
      "to view mesh in brainview, run the command:\n",
      "\n",
      "average_objects /data1/users/kwagstyl/bigbrain/NeuralNetworks/surfdir/tmp_0.5_gray_left_up_iso.obj /data1/users/kwagstyl/bigbrain/NeuralNetworks/surfdir/tmp_0.5_gray_left_up_iso.obj\n",
      "to view mesh in brainview, run the command:\n",
      "\n",
      "average_objects /data1/users/kwagstyl/bigbrain/NeuralNetworks/surfdir/tmp_0.5_white_left_up_iso.obj /data1/users/kwagstyl/bigbrain/NeuralNetworks/surfdir/tmp_0.5_white_left_up_iso.obj\n",
      "reloading vectors\n",
      "calculating angles\n",
      "to view mesh in brainview, run the command:\n",
      "\n",
      "average_objects /data1/users/kwagstyl/bigbrain/NeuralNetworks/surfdir/tmp_1.0_gray_left_up_iso.obj /data1/users/kwagstyl/bigbrain/NeuralNetworks/surfdir/tmp_1.0_gray_left_up_iso.obj\n"
     ]
    },
    {
     "ename": "KeyboardInterrupt",
     "evalue": "",
     "output_type": "error",
     "traceback": [
      "\u001b[0;31m---------------------------------------------------------------------------\u001b[0m",
      "\u001b[0;31mKeyboardInterrupt\u001b[0m                         Traceback (most recent call last)",
      "\u001b[0;32m<ipython-input-10-82e579767f9e>\u001b[0m in \u001b[0;36m<module>\u001b[0;34m()\u001b[0m\n\u001b[1;32m     80\u001b[0m         \u001b[0;31m# normals close to pial surface\u001b[0m\u001b[0;34m\u001b[0m\u001b[0;34m\u001b[0m\u001b[0m\n\u001b[1;32m     81\u001b[0m         \u001b[0mos\u001b[0m\u001b[0;34m.\u001b[0m\u001b[0msystem\u001b[0m\u001b[0;34m(\u001b[0m\u001b[0;34m'average_objects '\u001b[0m\u001b[0;34m+\u001b[0m \u001b[0mos\u001b[0m\u001b[0;34m.\u001b[0m\u001b[0mpath\u001b[0m\u001b[0;34m.\u001b[0m\u001b[0mjoin\u001b[0m\u001b[0;34m(\u001b[0m\u001b[0msurfdir\u001b[0m\u001b[0;34m,\u001b[0m \u001b[0;34m'tmp_'\u001b[0m\u001b[0;34m+\u001b[0m\u001b[0mstr\u001b[0m\u001b[0;34m(\u001b[0m\u001b[0mfwhm\u001b[0m\u001b[0;34m)\u001b[0m\u001b[0;34m+\u001b[0m\u001b[0;34m'_gray_'\u001b[0m\u001b[0;34m+\u001b[0m\u001b[0mhemi\u001b[0m\u001b[0;34m+\u001b[0m\u001b[0;34m'_up_iso.obj '\u001b[0m\u001b[0;34m)\u001b[0m\u001b[0;34m+\u001b[0m \u001b[0mos\u001b[0m\u001b[0;34m.\u001b[0m\u001b[0mpath\u001b[0m\u001b[0;34m.\u001b[0m\u001b[0mjoin\u001b[0m\u001b[0;34m(\u001b[0m\u001b[0msurfdir\u001b[0m\u001b[0;34m,\u001b[0m \u001b[0;34m'tmp_'\u001b[0m\u001b[0;34m+\u001b[0m\u001b[0mstr\u001b[0m\u001b[0;34m(\u001b[0m\u001b[0mfwhm\u001b[0m\u001b[0;34m)\u001b[0m\u001b[0;34m+\u001b[0m\u001b[0;34m'_gray_'\u001b[0m\u001b[0;34m+\u001b[0m\u001b[0mhemi\u001b[0m\u001b[0;34m+\u001b[0m\u001b[0;34m'_up_iso.obj'\u001b[0m\u001b[0;34m)\u001b[0m\u001b[0;34m)\u001b[0m\u001b[0;34m\u001b[0m\u001b[0m\n\u001b[0;32m---> 82\u001b[0;31m         \u001b[0m_\u001b[0m\u001b[0;34m,\u001b[0m \u001b[0mgray_xyz\u001b[0m\u001b[0;34m,\u001b[0m \u001b[0mgray_norms\u001b[0m\u001b[0;34m,\u001b[0m \u001b[0m_\u001b[0m \u001b[0;34m=\u001b[0m \u001b[0mst\u001b[0m\u001b[0;34m.\u001b[0m\u001b[0mimport_surface\u001b[0m\u001b[0;34m(\u001b[0m\u001b[0mos\u001b[0m\u001b[0;34m.\u001b[0m\u001b[0mpath\u001b[0m\u001b[0;34m.\u001b[0m\u001b[0mjoin\u001b[0m\u001b[0;34m(\u001b[0m\u001b[0msurfdir\u001b[0m\u001b[0;34m,\u001b[0m \u001b[0;34m'tmp_'\u001b[0m\u001b[0;34m+\u001b[0m\u001b[0mstr\u001b[0m\u001b[0;34m(\u001b[0m\u001b[0mfwhm\u001b[0m\u001b[0;34m)\u001b[0m\u001b[0;34m+\u001b[0m\u001b[0;34m'_gray_'\u001b[0m\u001b[0;34m+\u001b[0m\u001b[0mhemi\u001b[0m\u001b[0;34m+\u001b[0m\u001b[0;34m'_up_iso.obj'\u001b[0m\u001b[0;34m)\u001b[0m\u001b[0;34m)\u001b[0m\u001b[0;34m\u001b[0m\u001b[0m\n\u001b[0m\u001b[1;32m     83\u001b[0m         \u001b[0mgray_angles\u001b[0m \u001b[0;34m=\u001b[0m \u001b[0mnorm_differences\u001b[0m\u001b[0;34m(\u001b[0m\u001b[0mSmoothNormVector\u001b[0m\u001b[0;34m,\u001b[0m\u001b[0mgray_norms\u001b[0m\u001b[0;34m,\u001b[0m\u001b[0mmedial_wall\u001b[0m\u001b[0;34m)\u001b[0m\u001b[0;34m\u001b[0m\u001b[0m\n\u001b[1;32m     84\u001b[0m         \u001b[0mgrayanglesmean\u001b[0m\u001b[0;34m[\u001b[0m\u001b[0mh\u001b[0m\u001b[0;34m,\u001b[0m\u001b[0mf\u001b[0m\u001b[0;34m]\u001b[0m\u001b[0;34m=\u001b[0m\u001b[0mnp\u001b[0m\u001b[0;34m.\u001b[0m\u001b[0mmean\u001b[0m\u001b[0;34m(\u001b[0m\u001b[0mgray_angles\u001b[0m\u001b[0;34m)\u001b[0m\u001b[0;34m\u001b[0m\u001b[0m\n",
      "\u001b[0;32m/data1/users/kwagstyl/bigbrain/NeuralNetworks/scripts/surfaces/surface_tools.py\u001b[0m in \u001b[0;36mimport_surface\u001b[0;34m(surfname)\u001b[0m\n\u001b[1;32m     52\u001b[0m                 \u001b[0mPolys\u001b[0m\u001b[0;34m.\u001b[0m\u001b[0mextend\u001b[0m\u001b[0;34m(\u001b[0m\u001b[0mline\u001b[0m\u001b[0;34m.\u001b[0m\u001b[0msplit\u001b[0m\u001b[0;34m(\u001b[0m\u001b[0;34m)\u001b[0m\u001b[0;34m)\u001b[0m\u001b[0;34m\u001b[0m\u001b[0m\n\u001b[1;32m     53\u001b[0m     \u001b[0mPolys\u001b[0m \u001b[0;34m=\u001b[0m \u001b[0mlist\u001b[0m\u001b[0;34m(\u001b[0m\u001b[0mmap\u001b[0m\u001b[0;34m(\u001b[0m\u001b[0mint\u001b[0m\u001b[0;34m,\u001b[0m\u001b[0mPolys\u001b[0m\u001b[0;34m)\u001b[0m\u001b[0;34m)\u001b[0m\u001b[0;34m\u001b[0m\u001b[0m\n\u001b[0;32m---> 54\u001b[0;31m     \u001b[0mtris\u001b[0m \u001b[0;34m=\u001b[0m \u001b[0mnp\u001b[0m\u001b[0;34m.\u001b[0m\u001b[0marray\u001b[0m\u001b[0;34m(\u001b[0m\u001b[0mlist\u001b[0m\u001b[0;34m(\u001b[0m\u001b[0mchunks\u001b[0m\u001b[0;34m(\u001b[0m\u001b[0mPolys\u001b[0m\u001b[0;34m,\u001b[0m\u001b[0;36m3\u001b[0m\u001b[0;34m)\u001b[0m\u001b[0;34m)\u001b[0m\u001b[0;34m)\u001b[0m\u001b[0;34m\u001b[0m\u001b[0m\n\u001b[0m\u001b[1;32m     55\u001b[0m     \u001b[0;32mreturn\u001b[0m \u001b[0mn_vert\u001b[0m\u001b[0;34m,\u001b[0m \u001b[0mcoords\u001b[0m\u001b[0;34m,\u001b[0m \u001b[0mnorms\u001b[0m\u001b[0;34m,\u001b[0m \u001b[0mtris\u001b[0m\u001b[0;34m;\u001b[0m\u001b[0;34m\u001b[0m\u001b[0m\n\u001b[1;32m     56\u001b[0m \u001b[0;34m\u001b[0m\u001b[0m\n",
      "\u001b[0;31mKeyboardInterrupt\u001b[0m: "
     ]
    }
   ],
   "source": [
    "fwhms=[0,0.5,1.0,1.5, 2.0,5.0,10.0]\n",
    "gray_intersect=np.zeros((2,len(fwhms)))\n",
    "white_intersect=np.zeros((2,len(fwhms)))\n",
    "anglesmean=np.zeros((2,len(fwhms)))\n",
    "grayanglesmean=np.zeros((2,len(fwhms)))\n",
    "whiteanglesmean=np.zeros((2,len(fwhms)))\n",
    "whiteanglesstd=np.zeros((2,len(fwhms)))\n",
    "grayanglesstd=np.zeros((2,len(fwhms)))\n",
    "\n",
    "g=[]\n",
    "for h,hemi in enumerate(hemis):\n",
    "    medial_wall=np.loadtxt('/data1/users/kwagstyl/profile_location/surfaces/medial_wall_'+hemi+'.txt').astype(int)\n",
    "    _, mid_xyz, mid_norms, _ = st.import_surface(os.path.join(surfdir, 'equi_iso_0.5_up_'+hemi+'.obj'))\n",
    "\n",
    "#    check if middle equi_iso exists, else generate it\n",
    "    if not os.path.isfile(os.path.join(surfdir, \"Normalized_vector_\" + hemi + \"_x.txt\")) or not os.path.isfile(os.path.join(surfdir, \"white_dist\" + hemi + \".txt\")):\n",
    "        neighbours = st.get_neighbours(surfdir+'gray_' + hemi + '_327680.obj')\n",
    "        n, gray_xyz, nm, t = st.import_surface(surfdir+'gray_' + hemi + '_327680.obj')\n",
    "        n, white_xyz, nm, t = st.import_surface(surfdir+'white_' + hemi + '_327680.obj') \n",
    "        if not os.path.isfile(os.path.join(surfdir, 'equi_iso_0.5_'+hemi+'.obj')):\n",
    "            print('generating equivolumetric coords')\n",
    "            depths = 3\n",
    "            mid_ind = (depths-1)//2\n",
    "            equis = generate_equivolumetric_coords(surfdir+'gray_' + hemi + '_327680.obj', surfdir+'white_' + hemi + '_327680.obj',depths)\n",
    "\n",
    "            g=io.load_mesh_geometry(os.path.join(surfdir, 'gray_' + hemi + '_327680.obj'))\n",
    "            g['coords']= equis[mid_ind]\n",
    "            io.save_mesh_geometry(os.path.join(surfdir, 'equi_0.5_'+hemi+'.obj'),g)\n",
    "            subprocess.call('sphere_surf_interpolate.pl '+os.path.join(surfdir, 'equi_0.5_'+hemi+'.obj ') \n",
    "                            + os.path.join(surfdir, 'equi_iso_0.5_'+hemi+'.obj'),shell=True)\n",
    "        if not os.path.isfile(os.path.join(surfdir, 'equi_iso_0.5_up_'+hemi+'.obj')):\n",
    "            subprocess.call('subdivide_polygons '+os.path.join(surfdir, 'equi_iso_0.5_'+hemi+'.obj ') \n",
    "                            + os.path.join(surfdir, 'equi_iso_0.5_up_'+hemi+'.obj'),shell=True)\n",
    "        n, mid_xyz, nm, t = st.import_surface(os.path.join(surfdir, 'equi_iso_0.5_up_'+hemi+'.obj'))\n",
    "        new_gray = mid_xyz\n",
    "        print('finding nearest gray')\n",
    "        gray_dist, near_gray = st.get_nearest_coords_parallel(mid_xyz,gray_xyz,neighbours)\n",
    "        print('finding nearest white')\n",
    "        white_dist, near_white = st.get_nearest_coords_parallel(mid_xyz,white_xyz,neighbours)\n",
    "        Vector=near_gray-near_white\n",
    "        NormVector=Vector/np.linalg.norm(Vector,axis=1).reshape((len(Vector),1))\n",
    "        print(\"saving out files\")\n",
    "        np.savetxt(\"\" + surfdir + \"Normalized_vector_\" + hemi + \"_x.txt\",NormVector[:,0],fmt='%.5f')\n",
    "        np.savetxt(\"\" + surfdir + \"Normalized_vector_\" + hemi + \"_y.txt\",NormVector[:,1],fmt='%.5f')\n",
    "        np.savetxt(\"\" + surfdir + \"Normalized_vector_\" + hemi + \"_z.txt\",NormVector[:,2],fmt='%.5f')\n",
    "        \n",
    "        np.savetxt(\"\" + surfdir + \"white_dist\" + hemi + \".txt\",white_dist,fmt='%.5f')\n",
    "        np.savetxt(\"\" + surfdir + \"gray_dist\" + hemi + \".txt\",gray_dist,fmt='%.5f')\n",
    "    else :\n",
    "        print(\"Found vectors, not recalculating\")\n",
    "    for f,fwhm in enumerate(fwhms):\n",
    "        if not os.path.isfile(os.path.join(surfdir, \"smoothed_z_\"+str(fwhm) + hemi + \".txt\")):\n",
    "            print(\"smoothing vectors\")\n",
    "            os.system(\"depth_potential -smooth \" + str(fwhm) + \" \" + surfdir + \"Normalized_vector_\" + hemi + \"_x.txt \" + os.path.join(surfdir, 'equi_iso_0.5_up_'+hemi+'.obj ')+ surfdir + \"smoothed_x_\"+str(fwhm) + hemi + \".txt\")\n",
    "            os.system(\"depth_potential -smooth \" + str(fwhm) + \" \" + surfdir + \"Normalized_vector_\" + hemi + \"_y.txt \" + os.path.join(surfdir, 'equi_iso_0.5_up_'+hemi+'.obj ') + surfdir + \"smoothed_y_\"+str(fwhm) + hemi + \".txt\")\n",
    "            os.system(\"depth_potential -smooth \" + str(fwhm) + \" \" + surfdir + \"Normalized_vector_\" + hemi + \"_z.txt \" + os.path.join(surfdir, 'equi_iso_0.5_up_'+hemi+'.obj ') + surfdir + \"smoothed_z_\"+str(fwhm) + hemi + \".txt\")\n",
    "        if not os.path.isfile(os.path.join(surfdir, \"smoothed_gray_dist\"+str(fwhm) + hemi + \".txt\")):\n",
    "            os.system(\"depth_potential -smooth \" + str(fwhm) + \" \" + surfdir + \"white_dist\" + hemi + \".txt \" \n",
    "                  + os.path.join(surfdir, 'equi_iso_0.5_up_'+hemi+'.obj ')+ surfdir + \"smoothed_white_dist\"+str(fwhm) + hemi + \".txt\")\n",
    "            os.system(\"depth_potential -smooth \" + str(fwhm) + \" \" + surfdir + \"gray_dist\" + hemi + \".txt \"\n",
    "                  + os.path.join(surfdir, 'equi_iso_0.5_up_'+hemi+'.obj ')+ surfdir + \"smoothed_gray_dist\"+str(fwhm) + hemi + \".txt\")\n",
    "\n",
    "        print( 'reloading vectors')\n",
    "        Nx=np.loadtxt(\"\" + surfdir + \"smoothed_x_\"+str(fwhm) + hemi + \".txt\")\n",
    "        Ny=np.loadtxt(\"\" + surfdir + \"smoothed_y_\"+str(fwhm) + hemi + \".txt\")\n",
    "        Nz=np.loadtxt(\"\" + surfdir + \"smoothed_z_\"+str(fwhm) + hemi + \".txt\")\n",
    "        \n",
    "        white_dist = np.loadtxt(os.path.join(surfdir,\"smoothed_white_dist\"+str(fwhm) + hemi + \".txt\"))\n",
    "        gray_dist = np.loadtxt(os.path.join(surfdir,\"smoothed_gray_dist\"+str(fwhm) + hemi + \".txt\"))\n",
    "        \n",
    "        SmoothVector = np.transpose(np.vstack((Nx,Ny,Nz)))\n",
    "        SmoothNormVector=SmoothVector/np.linalg.norm(SmoothVector,axis=1).reshape((len(SmoothVector),1))\n",
    "        \n",
    "        #import perfect normals for comparison\n",
    "        print(\"calculating angles\")\n",
    "        angles=norm_differences(SmoothNormVector,mid_norms,medial_wall)\n",
    "        anglesmean[h,f]=np.mean(angles)\n",
    "        #anglesskew[h,f]=skew(angles)\n",
    "\n",
    "        if not isinstance(g,dict):\n",
    "            g=io.load_mesh_geometry(os.path.join(surfdir, 'equi_iso_0.5_up_'+hemi+'.obj'))\n",
    "        g['coords'] = mid_xyz + SmoothNormVector* np.array([gray_dist]).T\n",
    "        io.save_mesh_geometry(os.path.join(surfdir, 'tmp_'+str(fwhm)+'_gray_'+hemi+'_up_iso.obj'),g)\n",
    "        # normals close to pial surface\n",
    "        os.system('average_objects '+ os.path.join(surfdir, 'tmp_'+str(fwhm)+'_gray_'+hemi+'_up_iso.obj ')+ os.path.join(surfdir, 'tmp_'+str(fwhm)+'_gray_'+hemi+'_up_iso.obj'))\n",
    "        _, gray_xyz, gray_norms, _ = st.import_surface(os.path.join(surfdir, 'tmp_'+str(fwhm)+'_gray_'+hemi+'_up_iso.obj'))\n",
    "        gray_angles = norm_differences(SmoothNormVector,gray_norms,medial_wall)\n",
    "        grayanglesmean[h,f]=np.mean(gray_angles)\n",
    "        grayanglesstd[h,f]=np.std(gray_angles)\n",
    "\n",
    "        g['coords'] = mid_xyz - SmoothNormVector* np.array([white_dist]).T\n",
    "        io.save_mesh_geometry(os.path.join(surfdir, 'tmp_'+str(fwhm)+'_white_'+hemi+'_up_iso.obj'),g)\n",
    "        os.system('average_objects '+ os.path.join(surfdir, 'tmp_'+str(fwhm)+'_white_'+hemi+'_up_iso.obj ')+ os.path.join(surfdir, 'tmp_'+str(fwhm)+'_white_'+hemi+'_up_iso.obj'))\n",
    "        _, white_xyz, white_norms, _ = st.import_surface(os.path.join(surfdir, 'tmp_'+str(fwhm)+'_white_'+hemi+'_up_iso.obj'))\n",
    "        white_angles = norm_differences(SmoothNormVector,white_norms,medial_wall)\n",
    "        whiteanglesmean[h,f]=np.mean(white_angles)\n",
    "        whiteanglesstd[h,f]=np.std(white_angles)\n",
    "      #  os.system(\"make_prism_mesh \"+os.pat.join(surfdir, 'tmp_'+str(fwhm)+'_gray_'+hemi+'_up_iso.obj ')\n",
    "       #           + os.path.join(surfdir, 'tmp_'+str(fwhm)+'_white_'+hemi+'_up_iso.obj ')+\n",
    "        #          os.path.join(surfdir, 'tmp_'+str(fwhm)+'_prism_'+hemi+'_up_iso.obj'))\n",
    "        gray_intersect[h,f]=int(subprocess.check_output('check_self_intersect '+os.path.join(surfdir, 'tmp_'+str(fwhm)+'_gray_'+hemi+'_up_iso.obj'),shell=True).split()[-1])\n",
    "        white_intersect[h,f]=int(subprocess.check_output('check_self_intersect '+os.path.join(surfdir, 'tmp_'+str(fwhm)+'_white_'+hemi+'_up_iso.obj'),shell=True).split()[-1])\n",
    "        \n",
    "np.savez('intersection_stats.npz',gray_intersect=gray_intersect,\n",
    "         white_intersect=white_intersect,anglesmean=anglesmean,\n",
    "         grayanglesmean=grayanglesmean,whiteanglesmean=whiteanglesmean,\n",
    "         grayanglesstd=grayanglesstd, whiteanglesstd=whiteanglesstd,\n",
    "         fwhms=fwhms)"
   ]
  },
  {
   "cell_type": "code",
   "execution_count": 3,
   "metadata": {},
   "outputs": [],
   "source": [
    "stats=np.load('intersection_stats.npz')\n",
    "fwhms=stats['fwhms']\n",
    "gray_intersect=stats['gray_intersect']\n",
    "white_intersect=stats['white_intersect']\n",
    "anglesmean=stats['anglesmean']\n",
    "grayanglesmean=stats['grayanglesmean']\n",
    "whiteanglesmean=stats['whiteanglesmean']\n",
    "anglesmean[1,:]=np.pi-anglesmean[1,:]\n",
    "grayanglesmean[1,:]=np.pi-grayanglesmean[1,:]\n",
    "whiteanglesmean[1,:]=np.pi-whiteanglesmean[1,:]\n",
    "whiteanglesstd=stats['whiteanglesstd']\n",
    "grayanglesstd=stats['grayanglesstd']"
   ]
  },
  {
   "cell_type": "code",
   "execution_count": 4,
   "metadata": {},
   "outputs": [
    {
     "data": {
      "text/plain": [
       "[<matplotlib.lines.Line2D at 0x7f2c0f99feb8>]"
      ]
     },
     "execution_count": 4,
     "metadata": {},
     "output_type": "execute_result"
    },
    {
     "data": {
      "image/png": "[encoded data removed]",
      "text/plain": [
       "<Figure size 432x288 with 1 Axes>"
      ]
     },
     "metadata": {},
     "output_type": "display_data"
    }
   ],
   "source": [
    "plt.plot(fwhms, gray_intersect[0,:])\n",
    "plt.plot(fwhms, gray_intersect[1,:])\n"
   ]
  },
  {
   "cell_type": "code",
   "execution_count": 5,
   "metadata": {},
   "outputs": [
    {
     "data": {
      "text/plain": [
       "[<matplotlib.lines.Line2D at 0x7f2c0d8d1b00>]"
      ]
     },
     "execution_count": 5,
     "metadata": {},
     "output_type": "execute_result"
    },
    {
     "data": {
      "image/png": "[encoded data removed]",
      "text/plain": [
       "<Figure size 432x288 with 1 Axes>"
      ]
     },
     "metadata": {},
     "output_type": "display_data"
    }
   ],
   "source": [
    "plt.plot(fwhms, white_intersect[0,:])\n",
    "plt.plot(fwhms, white_intersect[1,:])"
   ]
  },
  {
   "cell_type": "code",
   "execution_count": 12,
   "metadata": {},
   "outputs": [
    {
     "data": {
      "image/png": "[encoded data removed]",
      "text/plain": [
       "<Figure size 360x432 with 2 Axes>"
      ]
     },
     "metadata": {},
     "output_type": "display_data"
    }
   ],
   "source": [
    "fig ,axs = plt.subplots(2, sharex=True,figsize=(5,6))\n",
    "colours=[\"#7f63b8\",\n",
    "\"#67ae62\",\n",
    "\"#b84972\",\n",
    "\"#b97e3a\"]\n",
    "hemis=['left','right']\n",
    "surfaces=['gray','white']\n",
    "legend=['left gray',  'right gray', 'left white','right white']\n",
    "for hemi in range(2):\n",
    "    b = axs[0].plot(fwhms,gray_intersect[hemi,:],c=colours[hemi],linewidth=2)\n",
    "\n",
    "for hemi in range(2):\n",
    "    b = axs[0].plot(fwhms,white_intersect[hemi,:],c=colours[hemi+2],linewidth=2)\n",
    "_ = axs[0].set_ylabel(\"Number of \\nself-intersections\")\n",
    "_ = axs[0].ticklabel_format(style='sci', axis='y', scilimits=(1,5))\n",
    "_ = axs[0].legend(legend)\n",
    "\n",
    "# share x only\n",
    "for hemi in range(2):\n",
    "    b= axs[1].plot(fwhms, grayanglesmean[hemi,:],c=colours[hemi],linewidth=2)\n",
    "\n",
    "for hemi in range(2):\n",
    "    b= axs[1].plot(fwhms, whiteanglesmean[hemi,:],c=colours[hemi+2],linewidth=2)\n",
    "  #  _ = axs[1].errorbar(fwhms, grayanglesmean[hemi,:],grayanglesstd[hemi,:])\n",
    "_ = axs[1].set_ylabel(\"Surface-normal - streamline \\nangle (radians)\")\n",
    "_ = axs[1].set_yticks(np.arange(5)/4)\n",
    "_ = axs[1].set_xlabel(\"FWHM streamline vector smoothing (mm)\")\n",
    "fig.subplots_adjust(hspace=0.05)\n",
    "\n",
    "plt.savefig(os.path.join(figdir,'supplementary_self_intersections_opt.svg'),bbox_inches=\"tight\")\n",
    "#plt.plot(fwhms, anglesmean[hemi,:]/np.max(anglesmean[hemi,:]))\n",
    "\n",
    "#plt.plot(fwhms, anglesskew[hemi,:])"
   ]
  },
  {
   "cell_type": "code",
   "execution_count": 37,
   "metadata": {},
   "outputs": [
    {
     "data": {
      "text/plain": [
       "array([[1, 2, 3, 4, 5, 6, 7, 8, 9, 0],\n",
       "       [0, 1, 2, 3, 4, 5, 6, 7, 8, 9]])"
      ]
     },
     "execution_count": 37,
     "metadata": {},
     "output_type": "execute_result"
    }
   ],
   "source": [
    "pairs=np.array([(np.arange(10)+1)%10,np.arange(10)])\n",
    "pairs"
   ]
  },
  {
   "cell_type": "code",
   "execution_count": 152,
   "metadata": {},
   "outputs": [
    {
     "data": {
      "text/plain": [
       "(array([4.8900e+02, 1.3580e+03, 2.2960e+03, 3.1180e+03, 4.0510e+03,\n",
       "        4.8340e+03, 5.5890e+03, 6.3440e+03, 7.0270e+03, 7.5540e+03,\n",
       "        8.1570e+03, 8.7400e+03, 9.2590e+03, 9.5660e+03, 9.7340e+03,\n",
       "        1.0344e+04, 1.0789e+04, 1.0759e+04, 1.0988e+04, 1.1068e+04,\n",
       "        1.1314e+04, 1.1564e+04, 1.1518e+04, 1.1664e+04, 1.1753e+04,\n",
       "        1.1584e+04, 1.1548e+04, 1.1334e+04, 1.1360e+04, 1.1302e+04,\n",
       "        1.1373e+04, 1.1155e+04, 1.1138e+04, 1.0853e+04, 1.0773e+04,\n",
       "        1.0740e+04, 1.0356e+04, 1.0412e+04, 1.0219e+04, 1.0081e+04,\n",
       "        9.8220e+03, 9.7550e+03, 9.5240e+03, 9.1920e+03, 9.1660e+03,\n",
       "        8.7100e+03, 8.7890e+03, 8.3780e+03, 8.1510e+03, 8.0160e+03,\n",
       "        7.7160e+03, 7.4680e+03, 7.2770e+03, 7.0240e+03, 6.9290e+03,\n",
       "        6.5620e+03, 6.4060e+03, 6.1140e+03, 5.8970e+03, 5.6930e+03,\n",
       "        5.4970e+03, 5.3380e+03, 5.0010e+03, 4.7500e+03, 4.6590e+03,\n",
       "        4.3990e+03, 4.2770e+03, 3.9420e+03, 3.8000e+03, 3.6870e+03,\n",
       "        3.4790e+03, 3.3730e+03, 3.1190e+03, 3.0100e+03, 2.7900e+03,\n",
       "        2.4880e+03, 2.4130e+03, 2.3410e+03, 2.1470e+03, 2.0070e+03,\n",
       "        1.9020e+03, 1.7320e+03, 1.6530e+03, 1.5640e+03, 1.4650e+03,\n",
       "        1.3510e+03, 1.3450e+03, 1.1900e+03, 1.1470e+03, 1.0440e+03,\n",
       "        9.2200e+02, 9.3700e+02, 8.7000e+02, 7.5900e+02, 6.8000e+02,\n",
       "        6.3900e+02, 5.5800e+02, 5.4600e+02, 4.6500e+02, 4.8600e+02,\n",
       "        4.0600e+02, 3.7200e+02, 3.7400e+02, 3.3000e+02, 3.2500e+02,\n",
       "        2.8100e+02, 2.7600e+02, 2.4600e+02, 2.2400e+02, 2.2800e+02,\n",
       "        1.9700e+02, 2.0400e+02, 1.8300e+02, 1.6100e+02, 1.3700e+02,\n",
       "        1.5300e+02, 1.2800e+02, 1.2000e+02, 9.9000e+01, 1.3100e+02,\n",
       "        1.1200e+02, 8.4000e+01, 9.5000e+01, 6.3000e+01, 8.1000e+01,\n",
       "        7.2000e+01, 6.5000e+01, 6.7000e+01, 5.7000e+01, 7.3000e+01,\n",
       "        6.6000e+01, 4.5000e+01, 3.9000e+01, 4.1000e+01, 4.3000e+01,\n",
       "        4.7000e+01, 3.9000e+01, 3.3000e+01, 4.3000e+01, 4.3000e+01,\n",
       "        2.7000e+01, 3.0000e+01, 3.3000e+01, 2.2000e+01, 3.1000e+01,\n",
       "        2.3000e+01, 2.1000e+01, 2.3000e+01, 2.4000e+01, 2.4000e+01,\n",
       "        2.6000e+01, 2.8000e+01, 1.8000e+01, 1.6000e+01, 2.4000e+01,\n",
       "        1.4000e+01, 1.8000e+01, 2.1000e+01, 1.9000e+01, 1.2000e+01,\n",
       "        1.5000e+01, 1.3000e+01, 1.1000e+01, 1.9000e+01, 1.0000e+01,\n",
       "        1.5000e+01, 1.4000e+01, 1.5000e+01, 1.4000e+01, 1.1000e+01,\n",
       "        7.0000e+00, 1.2000e+01, 6.0000e+00, 9.0000e+00, 9.0000e+00,\n",
       "        9.0000e+00, 1.1000e+01, 7.0000e+00, 1.3000e+01, 1.0000e+01,\n",
       "        1.0000e+01, 1.1000e+01, 9.0000e+00, 8.0000e+00, 5.0000e+00,\n",
       "        4.0000e+00, 1.1000e+01, 8.0000e+00, 1.0000e+01, 6.0000e+00,\n",
       "        7.0000e+00, 6.0000e+00, 6.0000e+00, 7.0000e+00, 8.0000e+00,\n",
       "        1.0000e+01, 5.0000e+00, 6.0000e+00, 9.0000e+00, 8.0000e+00,\n",
       "        5.0000e+00, 4.0000e+00, 6.0000e+00, 3.0000e+00, 5.0000e+00,\n",
       "        4.0000e+00, 4.0000e+00, 8.0000e+00, 2.0000e+00, 6.0000e+00,\n",
       "        6.0000e+00, 2.0000e+00, 5.0000e+00, 4.0000e+00, 5.0000e+00,\n",
       "        4.0000e+00, 6.0000e+00, 3.0000e+00, 6.0000e+00, 6.0000e+00,\n",
       "        5.0000e+00, 3.0000e+00, 1.0000e+00, 4.0000e+00, 3.0000e+00,\n",
       "        1.0000e+00, 2.0000e+00, 0.0000e+00, 4.0000e+00, 6.0000e+00,\n",
       "        2.0000e+00, 3.0000e+00, 6.0000e+00, 4.0000e+00, 3.0000e+00,\n",
       "        1.0000e+00, 1.0000e+00, 4.0000e+00, 0.0000e+00, 1.0000e+00,\n",
       "        1.0000e+00, 4.0000e+00, 2.0000e+00, 1.0000e+00, 1.0000e+00,\n",
       "        0.0000e+00, 1.0000e+00, 2.0000e+00, 0.0000e+00, 3.0000e+00,\n",
       "        1.0000e+00, 4.0000e+00, 3.0000e+00, 1.0000e+00, 2.0000e+00,\n",
       "        1.0000e+00, 1.0000e+00, 1.0000e+00, 1.0000e+00, 4.0000e+00,\n",
       "        3.0000e+00, 0.0000e+00, 0.0000e+00, 1.0000e+00, 0.0000e+00,\n",
       "        2.0000e+00, 2.0000e+00, 1.0000e+00, 2.0000e+00, 1.0000e+00,\n",
       "        0.0000e+00, 1.0000e+00, 1.0000e+00, 1.0000e+00, 1.0000e+00,\n",
       "        1.0000e+00, 0.0000e+00, 1.0000e+00, 0.0000e+00, 2.0000e+00,\n",
       "        1.0000e+00, 0.0000e+00, 0.0000e+00, 1.0000e+00, 2.0000e+00,\n",
       "        2.0000e+00, 2.0000e+00, 3.0000e+00, 1.0000e+00, 1.0000e+00,\n",
       "        0.0000e+00, 1.0000e+00, 1.0000e+00, 0.0000e+00, 2.0000e+00,\n",
       "        0.0000e+00, 0.0000e+00, 3.0000e+00, 0.0000e+00, 0.0000e+00,\n",
       "        2.0000e+00, 0.0000e+00, 0.0000e+00, 0.0000e+00, 0.0000e+00,\n",
       "        0.0000e+00, 1.0000e+00, 1.0000e+00, 1.0000e+00, 0.0000e+00,\n",
       "        0.0000e+00, 4.0000e+00, 0.0000e+00, 0.0000e+00, 0.0000e+00,\n",
       "        0.0000e+00, 0.0000e+00, 0.0000e+00, 1.0000e+00, 0.0000e+00,\n",
       "        2.0000e+00, 0.0000e+00, 0.0000e+00, 0.0000e+00, 0.0000e+00,\n",
       "        3.0000e+00, 1.0000e+00, 1.0000e+00, 0.0000e+00, 1.0000e+00,\n",
       "        0.0000e+00, 0.0000e+00, 0.0000e+00, 0.0000e+00, 1.0000e+00,\n",
       "        2.0000e+00, 0.0000e+00, 0.0000e+00, 1.0000e+00, 0.0000e+00,\n",
       "        1.0000e+00, 1.0000e+00, 0.0000e+00, 0.0000e+00, 1.0000e+00,\n",
       "        0.0000e+00, 0.0000e+00, 0.0000e+00, 0.0000e+00, 1.0000e+00,\n",
       "        0.0000e+00, 1.0000e+00, 0.0000e+00, 1.0000e+00, 0.0000e+00,\n",
       "        0.0000e+00, 0.0000e+00, 1.0000e+00, 1.0000e+00, 0.0000e+00,\n",
       "        0.0000e+00, 1.0000e+00, 0.0000e+00, 0.0000e+00, 0.0000e+00,\n",
       "        1.0000e+00, 0.0000e+00, 0.0000e+00, 0.0000e+00, 0.0000e+00,\n",
       "        2.0000e+00, 0.0000e+00, 0.0000e+00, 0.0000e+00, 0.0000e+00,\n",
       "        0.0000e+00, 1.0000e+00, 0.0000e+00, 0.0000e+00, 0.0000e+00,\n",
       "        0.0000e+00, 0.0000e+00, 0.0000e+00, 0.0000e+00, 0.0000e+00,\n",
       "        0.0000e+00, 0.0000e+00, 1.0000e+00, 1.0000e+00, 0.0000e+00,\n",
       "        0.0000e+00, 0.0000e+00, 0.0000e+00, 0.0000e+00, 0.0000e+00,\n",
       "        0.0000e+00, 0.0000e+00, 0.0000e+00, 0.0000e+00, 0.0000e+00,\n",
       "        0.0000e+00, 0.0000e+00, 0.0000e+00, 0.0000e+00, 0.0000e+00,\n",
       "        0.0000e+00, 0.0000e+00, 0.0000e+00, 0.0000e+00, 0.0000e+00,\n",
       "        0.0000e+00, 0.0000e+00, 0.0000e+00, 0.0000e+00, 0.0000e+00,\n",
       "        0.0000e+00, 0.0000e+00, 0.0000e+00, 0.0000e+00, 0.0000e+00,\n",
       "        0.0000e+00, 0.0000e+00, 0.0000e+00, 0.0000e+00, 0.0000e+00,\n",
       "        0.0000e+00, 1.0000e+00, 0.0000e+00, 0.0000e+00, 0.0000e+00,\n",
       "        0.0000e+00, 0.0000e+00, 0.0000e+00, 0.0000e+00, 1.0000e+00,\n",
       "        0.0000e+00, 0.0000e+00, 0.0000e+00, 0.0000e+00, 0.0000e+00,\n",
       "        0.0000e+00, 0.0000e+00, 0.0000e+00, 0.0000e+00, 0.0000e+00,\n",
       "        0.0000e+00, 0.0000e+00, 0.0000e+00, 0.0000e+00, 0.0000e+00,\n",
       "        0.0000e+00, 0.0000e+00, 0.0000e+00, 0.0000e+00, 0.0000e+00,\n",
       "        0.0000e+00, 0.0000e+00, 0.0000e+00, 0.0000e+00, 0.0000e+00,\n",
       "        0.0000e+00, 0.0000e+00, 0.0000e+00, 0.0000e+00, 0.0000e+00,\n",
       "        0.0000e+00, 0.0000e+00, 0.0000e+00, 0.0000e+00, 0.0000e+00,\n",
       "        0.0000e+00, 0.0000e+00, 0.0000e+00, 0.0000e+00, 0.0000e+00,\n",
       "        0.0000e+00, 0.0000e+00, 0.0000e+00, 0.0000e+00, 0.0000e+00,\n",
       "        0.0000e+00, 0.0000e+00, 0.0000e+00, 0.0000e+00, 0.0000e+00,\n",
       "        1.0000e+00, 0.0000e+00, 0.0000e+00, 0.0000e+00, 0.0000e+00,\n",
       "        0.0000e+00, 0.0000e+00, 0.0000e+00, 0.0000e+00, 0.0000e+00,\n",
       "        0.0000e+00, 0.0000e+00, 0.0000e+00, 0.0000e+00, 1.0000e+00]),\n",
       " array([1.10805223e-04, 6.29718230e-03, 1.24835594e-02, 1.86699364e-02,\n",
       "        2.48563135e-02, 3.10426906e-02, 3.72290677e-02, 4.34154447e-02,\n",
       "        4.96018218e-02, 5.57881989e-02, 6.19745759e-02, 6.81609530e-02,\n",
       "        7.43473301e-02, 8.05337072e-02, 8.67200842e-02, 9.29064613e-02,\n",
       "        9.90928384e-02, 1.05279215e-01, 1.11465593e-01, 1.17651970e-01,\n",
       "        1.23838347e-01, 1.30024724e-01, 1.36211101e-01, 1.42397478e-01,\n",
       "        1.48583855e-01, 1.54770232e-01, 1.60956609e-01, 1.67142986e-01,\n",
       "        1.73329363e-01, 1.79515740e-01, 1.85702117e-01, 1.91888494e-01,\n",
       "        1.98074872e-01, 2.04261249e-01, 2.10447626e-01, 2.16634003e-01,\n",
       "        2.22820380e-01, 2.29006757e-01, 2.35193134e-01, 2.41379511e-01,\n",
       "        2.47565888e-01, 2.53752265e-01, 2.59938642e-01, 2.66125019e-01,\n",
       "        2.72311396e-01, 2.78497773e-01, 2.84684151e-01, 2.90870528e-01,\n",
       "        2.97056905e-01, 3.03243282e-01, 3.09429659e-01, 3.15616036e-01,\n",
       "        3.21802413e-01, 3.27988790e-01, 3.34175167e-01, 3.40361544e-01,\n",
       "        3.46547921e-01, 3.52734298e-01, 3.58920675e-01, 3.65107052e-01,\n",
       "        3.71293430e-01, 3.77479807e-01, 3.83666184e-01, 3.89852561e-01,\n",
       "        3.96038938e-01, 4.02225315e-01, 4.08411692e-01, 4.14598069e-01,\n",
       "        4.20784446e-01, 4.26970823e-01, 4.33157200e-01, 4.39343577e-01,\n",
       "        4.45529954e-01, 4.51716331e-01, 4.57902709e-01, 4.64089086e-01,\n",
       "        4.70275463e-01, 4.76461840e-01, 4.82648217e-01, 4.88834594e-01,\n",
       "        4.95020971e-01, 5.01207348e-01, 5.07393725e-01, 5.13580102e-01,\n",
       "        5.19766479e-01, 5.25952856e-01, 5.32139233e-01, 5.38325611e-01,\n",
       "        5.44511988e-01, 5.50698365e-01, 5.56884742e-01, 5.63071119e-01,\n",
       "        5.69257496e-01, 5.75443873e-01, 5.81630250e-01, 5.87816627e-01,\n",
       "        5.94003004e-01, 6.00189381e-01, 6.06375758e-01, 6.12562135e-01,\n",
       "        6.18748512e-01, 6.24934890e-01, 6.31121267e-01, 6.37307644e-01,\n",
       "        6.43494021e-01, 6.49680398e-01, 6.55866775e-01, 6.62053152e-01,\n",
       "        6.68239529e-01, 6.74425906e-01, 6.80612283e-01, 6.86798660e-01,\n",
       "        6.92985037e-01, 6.99171414e-01, 7.05357791e-01, 7.11544169e-01,\n",
       "        7.17730546e-01, 7.23916923e-01, 7.30103300e-01, 7.36289677e-01,\n",
       "        7.42476054e-01, 7.48662431e-01, 7.54848808e-01, 7.61035185e-01,\n",
       "        7.67221562e-01, 7.73407939e-01, 7.79594316e-01, 7.85780693e-01,\n",
       "        7.91967070e-01, 7.98153448e-01, 8.04339825e-01, 8.10526202e-01,\n",
       "        8.16712579e-01, 8.22898956e-01, 8.29085333e-01, 8.35271710e-01,\n",
       "        8.41458087e-01, 8.47644464e-01, 8.53830841e-01, 8.60017218e-01,\n",
       "        8.66203595e-01, 8.72389972e-01, 8.78576349e-01, 8.84762727e-01,\n",
       "        8.90949104e-01, 8.97135481e-01, 9.03321858e-01, 9.09508235e-01,\n",
       "        9.15694612e-01, 9.21880989e-01, 9.28067366e-01, 9.34253743e-01,\n",
       "        9.40440120e-01, 9.46626497e-01, 9.52812874e-01, 9.58999251e-01,\n",
       "        9.65185628e-01, 9.71372006e-01, 9.77558383e-01, 9.83744760e-01,\n",
       "        9.89931137e-01, 9.96117514e-01, 1.00230389e+00, 1.00849027e+00,\n",
       "        1.01467665e+00, 1.02086302e+00, 1.02704940e+00, 1.03323578e+00,\n",
       "        1.03942215e+00, 1.04560853e+00, 1.05179491e+00, 1.05798128e+00,\n",
       "        1.06416766e+00, 1.07035404e+00, 1.07654042e+00, 1.08272679e+00,\n",
       "        1.08891317e+00, 1.09509955e+00, 1.10128592e+00, 1.10747230e+00,\n",
       "        1.11365868e+00, 1.11984506e+00, 1.12603143e+00, 1.13221781e+00,\n",
       "        1.13840419e+00, 1.14459056e+00, 1.15077694e+00, 1.15696332e+00,\n",
       "        1.16314969e+00, 1.16933607e+00, 1.17552245e+00, 1.18170883e+00,\n",
       "        1.18789520e+00, 1.19408158e+00, 1.20026796e+00, 1.20645433e+00,\n",
       "        1.21264071e+00, 1.21882709e+00, 1.22501347e+00, 1.23119984e+00,\n",
       "        1.23738622e+00, 1.24357260e+00, 1.24975897e+00, 1.25594535e+00,\n",
       "        1.26213173e+00, 1.26831811e+00, 1.27450448e+00, 1.28069086e+00,\n",
       "        1.28687724e+00, 1.29306361e+00, 1.29924999e+00, 1.30543637e+00,\n",
       "        1.31162274e+00, 1.31780912e+00, 1.32399550e+00, 1.33018188e+00,\n",
       "        1.33636825e+00, 1.34255463e+00, 1.34874101e+00, 1.35492738e+00,\n",
       "        1.36111376e+00, 1.36730014e+00, 1.37348652e+00, 1.37967289e+00,\n",
       "        1.38585927e+00, 1.39204565e+00, 1.39823202e+00, 1.40441840e+00,\n",
       "        1.41060478e+00, 1.41679115e+00, 1.42297753e+00, 1.42916391e+00,\n",
       "        1.43535029e+00, 1.44153666e+00, 1.44772304e+00, 1.45390942e+00,\n",
       "        1.46009579e+00, 1.46628217e+00, 1.47246855e+00, 1.47865493e+00,\n",
       "        1.48484130e+00, 1.49102768e+00, 1.49721406e+00, 1.50340043e+00,\n",
       "        1.50958681e+00, 1.51577319e+00, 1.52195956e+00, 1.52814594e+00,\n",
       "        1.53433232e+00, 1.54051870e+00, 1.54670507e+00, 1.55289145e+00,\n",
       "        1.55907783e+00, 1.56526420e+00, 1.57145058e+00, 1.57763696e+00,\n",
       "        1.58382334e+00, 1.59000971e+00, 1.59619609e+00, 1.60238247e+00,\n",
       "        1.60856884e+00, 1.61475522e+00, 1.62094160e+00, 1.62712798e+00,\n",
       "        1.63331435e+00, 1.63950073e+00, 1.64568711e+00, 1.65187348e+00,\n",
       "        1.65805986e+00, 1.66424624e+00, 1.67043261e+00, 1.67661899e+00,\n",
       "        1.68280537e+00, 1.68899175e+00, 1.69517812e+00, 1.70136450e+00,\n",
       "        1.70755088e+00, 1.71373725e+00, 1.71992363e+00, 1.72611001e+00,\n",
       "        1.73229639e+00, 1.73848276e+00, 1.74466914e+00, 1.75085552e+00,\n",
       "        1.75704189e+00, 1.76322827e+00, 1.76941465e+00, 1.77560102e+00,\n",
       "        1.78178740e+00, 1.78797378e+00, 1.79416016e+00, 1.80034653e+00,\n",
       "        1.80653291e+00, 1.81271929e+00, 1.81890566e+00, 1.82509204e+00,\n",
       "        1.83127842e+00, 1.83746480e+00, 1.84365117e+00, 1.84983755e+00,\n",
       "        1.85602393e+00, 1.86221030e+00, 1.86839668e+00, 1.87458306e+00,\n",
       "        1.88076944e+00, 1.88695581e+00, 1.89314219e+00, 1.89932857e+00,\n",
       "        1.90551494e+00, 1.91170132e+00, 1.91788770e+00, 1.92407407e+00,\n",
       "        1.93026045e+00, 1.93644683e+00, 1.94263321e+00, 1.94881958e+00,\n",
       "        1.95500596e+00, 1.96119234e+00, 1.96737871e+00, 1.97356509e+00,\n",
       "        1.97975147e+00, 1.98593785e+00, 1.99212422e+00, 1.99831060e+00,\n",
       "        2.00449698e+00, 2.01068335e+00, 2.01686973e+00, 2.02305611e+00,\n",
       "        2.02924248e+00, 2.03542886e+00, 2.04161524e+00, 2.04780162e+00,\n",
       "        2.05398799e+00, 2.06017437e+00, 2.06636075e+00, 2.07254712e+00,\n",
       "        2.07873350e+00, 2.08491988e+00, 2.09110626e+00, 2.09729263e+00,\n",
       "        2.10347901e+00, 2.10966539e+00, 2.11585176e+00, 2.12203814e+00,\n",
       "        2.12822452e+00, 2.13441090e+00, 2.14059727e+00, 2.14678365e+00,\n",
       "        2.15297003e+00, 2.15915640e+00, 2.16534278e+00, 2.17152916e+00,\n",
       "        2.17771553e+00, 2.18390191e+00, 2.19008829e+00, 2.19627467e+00,\n",
       "        2.20246104e+00, 2.20864742e+00, 2.21483380e+00, 2.22102017e+00,\n",
       "        2.22720655e+00, 2.23339293e+00, 2.23957931e+00, 2.24576568e+00,\n",
       "        2.25195206e+00, 2.25813844e+00, 2.26432481e+00, 2.27051119e+00,\n",
       "        2.27669757e+00, 2.28288394e+00, 2.28907032e+00, 2.29525670e+00,\n",
       "        2.30144308e+00, 2.30762945e+00, 2.31381583e+00, 2.32000221e+00,\n",
       "        2.32618858e+00, 2.33237496e+00, 2.33856134e+00, 2.34474772e+00,\n",
       "        2.35093409e+00, 2.35712047e+00, 2.36330685e+00, 2.36949322e+00,\n",
       "        2.37567960e+00, 2.38186598e+00, 2.38805236e+00, 2.39423873e+00,\n",
       "        2.40042511e+00, 2.40661149e+00, 2.41279786e+00, 2.41898424e+00,\n",
       "        2.42517062e+00, 2.43135699e+00, 2.43754337e+00, 2.44372975e+00,\n",
       "        2.44991613e+00, 2.45610250e+00, 2.46228888e+00, 2.46847526e+00,\n",
       "        2.47466163e+00, 2.48084801e+00, 2.48703439e+00, 2.49322077e+00,\n",
       "        2.49940714e+00, 2.50559352e+00, 2.51177990e+00, 2.51796627e+00,\n",
       "        2.52415265e+00, 2.53033903e+00, 2.53652540e+00, 2.54271178e+00,\n",
       "        2.54889816e+00, 2.55508454e+00, 2.56127091e+00, 2.56745729e+00,\n",
       "        2.57364367e+00, 2.57983004e+00, 2.58601642e+00, 2.59220280e+00,\n",
       "        2.59838918e+00, 2.60457555e+00, 2.61076193e+00, 2.61694831e+00,\n",
       "        2.62313468e+00, 2.62932106e+00, 2.63550744e+00, 2.64169382e+00,\n",
       "        2.64788019e+00, 2.65406657e+00, 2.66025295e+00, 2.66643932e+00,\n",
       "        2.67262570e+00, 2.67881208e+00, 2.68499845e+00, 2.69118483e+00,\n",
       "        2.69737121e+00, 2.70355759e+00, 2.70974396e+00, 2.71593034e+00,\n",
       "        2.72211672e+00, 2.72830309e+00, 2.73448947e+00, 2.74067585e+00,\n",
       "        2.74686223e+00, 2.75304860e+00, 2.75923498e+00, 2.76542136e+00,\n",
       "        2.77160773e+00, 2.77779411e+00, 2.78398049e+00, 2.79016686e+00,\n",
       "        2.79635324e+00, 2.80253962e+00, 2.80872600e+00, 2.81491237e+00,\n",
       "        2.82109875e+00, 2.82728513e+00, 2.83347150e+00, 2.83965788e+00,\n",
       "        2.84584426e+00, 2.85203064e+00, 2.85821701e+00, 2.86440339e+00,\n",
       "        2.87058977e+00, 2.87677614e+00, 2.88296252e+00, 2.88914890e+00,\n",
       "        2.89533528e+00, 2.90152165e+00, 2.90770803e+00, 2.91389441e+00,\n",
       "        2.92008078e+00, 2.92626716e+00, 2.93245354e+00, 2.93863991e+00,\n",
       "        2.94482629e+00, 2.95101267e+00, 2.95719905e+00, 2.96338542e+00,\n",
       "        2.96957180e+00, 2.97575818e+00, 2.98194455e+00, 2.98813093e+00,\n",
       "        2.99431731e+00, 3.00050369e+00, 3.00669006e+00, 3.01287644e+00,\n",
       "        3.01906282e+00, 3.02524919e+00, 3.03143557e+00, 3.03762195e+00,\n",
       "        3.04380832e+00, 3.04999470e+00, 3.05618108e+00, 3.06236746e+00,\n",
       "        3.06855383e+00, 3.07474021e+00, 3.08092659e+00, 3.08711296e+00,\n",
       "        3.09329934e+00]),\n",
       " <a list of 500 Patch objects>)"
      ]
     },
     "execution_count": 152,
     "metadata": {},
     "output_type": "execute_result"
    },
    {
     "data": {
      "image/png": "[encoded data removed]",
      "text/plain": [
       "<Figure size 432x288 with 1 Axes>"
      ]
     },
     "metadata": {},
     "output_type": "display_data"
    }
   ],
   "source": [
    "plt.hist(angles,500)"
   ]
  },
  {
   "cell_type": "code",
   "execution_count": 154,
   "metadata": {},
   "outputs": [
    {
     "data": {
      "text/plain": [
       "0.2366196349605894"
      ]
     },
     "execution_count": 154,
     "metadata": {},
     "output_type": "execute_result"
    }
   ],
   "source": [
    "angles"
   ]
  },
  {
   "cell_type": "code",
   "execution_count": 156,
   "metadata": {},
   "outputs": [],
   "source": []
  },
  {
   "cell_type": "code",
   "execution_count": 158,
   "metadata": {},
   "outputs": [
    {
     "data": {
      "text/plain": [
       "1.2943617176057116"
      ]
     },
     "execution_count": 158,
     "metadata": {},
     "output_type": "execute_result"
    }
   ],
   "source": [
    "skew(angles)"
   ]
  },
  {
   "cell_type": "code",
   "execution_count": null,
   "metadata": {},
   "outputs": [],
   "source": []
  }
 ],
 "metadata": {
  "kernelspec": {
   "display_name": "Python 3",
   "language": "python",
   "name": "python3"
  },
  "language_info": {
   "codemirror_mode": {
    "name": "ipython",
    "version": 3
   },
   "file_extension": ".py",
   "mimetype": "text/x-python",
   "name": "python",
   "nbconvert_exporter": "python",
   "pygments_lexer": "ipython3",
   "version": "3.6.5"
  }
 },
 "nbformat": 4,
 "nbformat_minor": 2
}
