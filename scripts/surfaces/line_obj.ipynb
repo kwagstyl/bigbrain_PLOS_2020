{
 "cells": [
  {
   "cell_type": "code",
   "execution_count": 1,
   "metadata": {},
   "outputs": [
    {
     "name": "stderr",
     "output_type": "stream",
     "text": [
      "/home/users/kwagstyl/anaconda3/lib/python3.6/importlib/_bootstrap.py:219: RuntimeWarning: numpy.dtype size changed, may indicate binary incompatibility. Expected 96, got 88\n",
      "  return f(*args, **kwds)\n",
      "/home/users/kwagstyl/anaconda3/lib/python3.6/site-packages/h5py/__init__.py:36: FutureWarning: Conversion of the second argument of issubdtype from `float` to `np.floating` is deprecated. In future, it will be treated as `np.float64 == np.dtype(float).type`.\n",
      "  from ._conv import register_converters as _register_converters\n"
     ]
    }
   ],
   "source": [
    "import numpy as np\n",
    "import os\n",
    "import surface_tools as st\n"
   ]
  },
  {
   "cell_type": "code",
   "execution_count": 2,
   "metadata": {},
   "outputs": [],
   "source": [
    "surfdir='/data1/users/kwagstyl/bigbrain/NeuralNetworks/surfdir/'\n",
    "hemi=\"left\"\n",
    "fwhm=\"2.0\"\n",
    "n, gray_xyz, nm, t = st.import_surface(surfdir+'gray_' + hemi + '_327680.obj')\n",
    "n, white_xyz, nm, t = st.import_surface(surfdir+'white_' + hemi + '_327680.obj') \n",
    "gray=os.path.join(surfdir,'tmp_'+fwhm+'_gray_'+hemi+'_up_iso.obj')\n",
    "white=os.path.join(surfdir,'tmp_'+fwhm+'_white_'+hemi+'_up_iso.obj')\n",
    "n, g_xyz, _, _ =st.import_surface(gray)\n",
    "_, w_xyz, _, _ =st.import_surface(white)\n"
   ]
  },
  {
   "cell_type": "code",
   "execution_count": 7,
   "metadata": {},
   "outputs": [],
   "source": [
    "mask=np.loadtxt('/data1/users/kwagstyl/bigbrain/Hierarchy/geodesics/v1_left.txt').astype(bool)[:163842]\n",
    "mask=np.where(mask)[0]"
   ]
  },
  {
   "cell_type": "code",
   "execution_count": 8,
   "metadata": {},
   "outputs": [],
   "source": [
    "\n",
    "write_line_obj(gray_xyz[mask],white_xyz[mask], os.path.join(surfdir,'old_line.obj'),[0.0, 0.0, 1.0, 1])\n",
    "write_line_obj(g_xyz[mask],w_xyz[mask], os.path.join(surfdir,'new_line.obj'),[0.0, 1.0, 0.0, 1])\n",
    "\n",
    "#can then join any objects together"
   ]
  },
  {
   "cell_type": "code",
   "execution_count": 5,
   "metadata": {},
   "outputs": [],
   "source": [
    "def write_line_obj(g_coords, w_coords, output,colour):\n",
    "    \"\"\"write obj file with lines connecting gray and white coords\"\"\"\n",
    "    n_vert=len(g_coords)\n",
    "    with open(output,'w') as f:\n",
    "        f.write('L 20.0 ' + str(2*n_vert))\n",
    "        for k in range(n_vert):\n",
    "            f.write('\\n')\n",
    "            f.write(' '+ ' '.join(list(map(str,g_coords[k]))))\n",
    "        for k in range(n_vert):\n",
    "            f.write('\\n')\n",
    "            f.write(' '+ ' '.join(list(map(str,w_coords[k]))))\n",
    "        f.write('\\n\\n')\n",
    "        f.write(' ')\n",
    "        f.write('%s' % str(n_vert))   \n",
    "        f.write('\\n')\n",
    "        f.write(' 0\\n')\n",
    "        #for k in range(2*n_vert):\n",
    "        rgb=' '.join(map(str,colour))\n",
    "        f.write(' '+rgb+'\\n')\n",
    "        for k in range(n_vert):\n",
    "            if k % 16 ==0:\n",
    "                f.write('\\n')\n",
    "#write line ending integers, even pairs up to 2 x number of edges                \n",
    "            f.write(' ' + str(2*k+2))\n",
    "        f.write('\\n')\n",
    "        for k in range(n_vert):\n",
    "            f.write(' %s' % k)\n",
    "            f.write(' %s' % (k+n_vert))\n",
    "            if k % 8 ==0:\n",
    "                f.write('\\n')\n",
    "\n",
    "def write_plane_obj(g_coords, w_coords, output):\n",
    "    \"\"\"write obj file with planes connecting gray and white coords\"\"\"\n",
    "    n_vert=len(g_coords)\n",
    "    vectors=g_coords-w_coords\n",
    "    orthos=orthogonals(vectors)\n",
    "    with open(output,'w') as f:\n",
    "        f.write('P 0.3 0.3 0.4 10 5 '+ str(4*n_vert))\n",
    "        for k in range(n_vert):\n",
    "            f.write('\\n')\n",
    "            f.write(' '+ ' '.join(list(map(str,g_coords[k]))))\n",
    "        for k in range(n_vert):\n",
    "            f.write('\\n')\n",
    "            f.write(' '+ ' '.join(list(map(str,w_coords[k]))))\n",
    "        for k in range(n_vert):\n",
    "            f.write('\\n')\n",
    "            f.write(' '+ ' '.join(list(map(str,w_coords[k]+orthos[k]*0.5))))\n",
    "        for k in range(n_vert):\n",
    "            f.write('\\n')\n",
    "            f.write(' '+ ' '.join(list(map(str,g_coords[k]+orthos[k]*0.5))))\n",
    "        f.write('\\n\\n')\n",
    "        for k in range(n_vert*4):\n",
    "            f.write(' 0.535199 0.72356 0.435917\\n')\n",
    "        f.write('\\n')\n",
    "        f.write(' '+str(n_vert)+'\\n')\n",
    "        #for k in range(2*n_vert):\n",
    "        f.write(' 0 1 1 1 1\\n')\n",
    "        for k in range(n_vert):\n",
    "            if k % 16 ==0:\n",
    "                f.write('\\n')\n",
    "#write line ending integers, even pairs up to 2 x number of edges                \n",
    "            f.write(' ' + str(4*(k+1)))\n",
    "        f.write('\\n\\n')\n",
    "        for k in range(n_vert):\n",
    "            f.write(' %s' % k)\n",
    "            f.write(' %s' % (k+n_vert))\n",
    "            f.write(' %s' % (k+2*n_vert))\n",
    "            f.write(' %s' % (k+3*n_vert))\n",
    "            if k % 8 ==0:\n",
    "                f.write('\\n')\n",
    "                \n",
    "\n",
    "def orthogonals(vectors):\n",
    "    \"\"\"calculate orthogonal vectors to input vectors\"\"\"\n",
    "    orthos=np.zeros_like(vectors)\n",
    "    for p,t in enumerate(vectors):\n",
    "        x=np.random.randn(3)\n",
    "        x -= x.dot(vecs[p]) * vecs[0]       # make it orthogonal to k\n",
    "        orthos[p] = x/np.linalg.norm(x)\n",
    "    return orthos"
   ]
  },
  {
   "cell_type": "code",
   "execution_count": 12,
   "metadata": {},
   "outputs": [],
   "source": []
  },
  {
   "cell_type": "code",
   "execution_count": 11,
   "metadata": {},
   "outputs": [
    {
     "ename": "TypeError",
     "evalue": "write_plane_obj() takes 3 positional arguments but 4 were given",
     "output_type": "error",
     "traceback": [
      "\u001b[0;31m---------------------------------------------------------------------------\u001b[0m",
      "\u001b[0;31mTypeError\u001b[0m                                 Traceback (most recent call last)",
      "\u001b[0;32m<ipython-input-11-df38b781daca>\u001b[0m in \u001b[0;36m<module>\u001b[0;34m()\u001b[0m\n\u001b[0;32m----> 1\u001b[0;31m \u001b[0mwrite_plane_obj\u001b[0m\u001b[0;34m(\u001b[0m\u001b[0mg_xyz\u001b[0m\u001b[0;34m,\u001b[0m\u001b[0mw_xyz\u001b[0m\u001b[0;34m,\u001b[0m \u001b[0mos\u001b[0m\u001b[0;34m.\u001b[0m\u001b[0mpath\u001b[0m\u001b[0;34m.\u001b[0m\u001b[0mjoin\u001b[0m\u001b[0;34m(\u001b[0m\u001b[0msurfdir\u001b[0m\u001b[0;34m,\u001b[0m\u001b[0;34m'tmp_plane.obj'\u001b[0m\u001b[0;34m)\u001b[0m\u001b[0;34m,\u001b[0m\u001b[0;34m'rgb'\u001b[0m\u001b[0;34m)\u001b[0m\u001b[0;34m\u001b[0m\u001b[0m\n\u001b[0m",
      "\u001b[0;31mTypeError\u001b[0m: write_plane_obj() takes 3 positional arguments but 4 were given"
     ]
    }
   ],
   "source": [
    "write_plane_obj(g_xyz,w_xyz, os.path.join(surfdir,'tmp_plane.obj'))"
   ]
  },
  {
   "cell_type": "code",
   "execution_count": 105,
   "metadata": {},
   "outputs": [],
   "source": [
    "orthos=np.zeros_like(vectors)\n",
    "for p,t in enumerate(vectors):\n",
    "    x=np.random.randn(3)\n",
    "    x -= x.dot(vecs[p]) * vecs[0]       # make it orthogonal to k\n",
    "    orthos[p] = x/np.linalg.norm(x)"
   ]
  },
  {
   "cell_type": "code",
   "execution_count": 106,
   "metadata": {},
   "outputs": [
    {
     "data": {
      "text/plain": [
       "array([[ 0.45080949, -0.88430815,  0.12153151],\n",
       "       [-0.18451495, -0.44023073, -0.87872131],\n",
       "       [-0.08254645, -0.70321146, -0.70617259],\n",
       "       ...,\n",
       "       [-0.41253662, -0.71506473, -0.56435447],\n",
       "       [ 0.1399808 , -0.79871769, -0.58519691],\n",
       "       [-0.0708588 ,  0.67772399,  0.73189427]])"
      ]
     },
     "execution_count": 106,
     "metadata": {},
     "output_type": "execute_result"
    }
   ],
   "source": [
    "orthos"
   ]
  },
  {
   "cell_type": "code",
   "execution_count": null,
   "metadata": {},
   "outputs": [],
   "source": [
    "\n",
    "def orthogonals(vectors):\n",
    "    \"\"\"calculate orthogonal vectors to input vectors\"\"\"\n",
    "    orthos=np.zeros_like(vectors)\n",
    "    x=np.random.randn(3)\n",
    "    for p,x in enumerate(g_xyz):\n",
    "        x -= x.dot(vecs[p]) * vecs[0]       # make it orthogonal to k\n",
    "        orthos[p] /= np.linalg.norm(x)\n",
    "    return orthos"
   ]
  }
 ],
 "metadata": {
  "kernelspec": {
   "display_name": "Python 3",
   "language": "python",
   "name": "python3"
  },
  "language_info": {
   "codemirror_mode": {
    "name": "ipython",
    "version": 3
   },
   "file_extension": ".py",
   "mimetype": "text/x-python",
   "name": "python",
   "nbconvert_exporter": "python",
   "pygments_lexer": "ipython3",
   "version": "3.6.5"
  }
 },
 "nbformat": 4,
 "nbformat_minor": 2
}
